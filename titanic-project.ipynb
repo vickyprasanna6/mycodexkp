{
 "cells": [
  {
   "cell_type": "markdown",
   "metadata": {
    "papermill": {
     "duration": 0.087127,
     "end_time": "2021-02-19T19:12:58.389778",
     "exception": false,
     "start_time": "2021-02-19T19:12:58.302651",
     "status": "completed"
    },
    "tags": []
   },
   "source": [
    "My first Kaggle -  Project submission :)"
   ]
  },
  {
   "cell_type": "code",
   "execution_count": 1,
   "metadata": {
    "execution": {
     "iopub.execute_input": "2021-02-19T19:12:58.568265Z",
     "iopub.status.busy": "2021-02-19T19:12:58.567478Z",
     "iopub.status.idle": "2021-02-19T19:12:59.447819Z",
     "shell.execute_reply": "2021-02-19T19:12:59.446918Z"
    },
    "papermill": {
     "duration": 0.973784,
     "end_time": "2021-02-19T19:12:59.448094",
     "exception": false,
     "start_time": "2021-02-19T19:12:58.474310",
     "status": "completed"
    },
    "tags": []
   },
   "outputs": [],
   "source": [
    "import numpy as np\n",
    "import pandas as pd\n",
    "import matplotlib.pyplot as plt\n",
    "%matplotlib inline\n",
    "import seaborn as sns"
   ]
  },
  {
   "cell_type": "code",
   "execution_count": 2,
   "metadata": {
    "execution": {
     "iopub.execute_input": "2021-02-19T19:12:59.627777Z",
     "iopub.status.busy": "2021-02-19T19:12:59.626966Z",
     "iopub.status.idle": "2021-02-19T19:12:59.648320Z",
     "shell.execute_reply": "2021-02-19T19:12:59.647713Z"
    },
    "papermill": {
     "duration": 0.113233,
     "end_time": "2021-02-19T19:12:59.648495",
     "exception": false,
     "start_time": "2021-02-19T19:12:59.535262",
     "status": "completed"
    },
    "tags": []
   },
   "outputs": [],
   "source": [
    "train = pd.read_csv('../input/titanic/train.csv')"
   ]
  },
  {
   "cell_type": "code",
   "execution_count": 3,
   "metadata": {
    "execution": {
     "iopub.execute_input": "2021-02-19T19:12:59.828534Z",
     "iopub.status.busy": "2021-02-19T19:12:59.827848Z",
     "iopub.status.idle": "2021-02-19T19:12:59.844560Z",
     "shell.execute_reply": "2021-02-19T19:12:59.843927Z"
    },
    "papermill": {
     "duration": 0.10891,
     "end_time": "2021-02-19T19:12:59.844708",
     "exception": false,
     "start_time": "2021-02-19T19:12:59.735798",
     "status": "completed"
    },
    "tags": []
   },
   "outputs": [],
   "source": [
    "test = pd.read_csv('../input/titanic/test.csv')"
   ]
  },
  {
   "cell_type": "code",
   "execution_count": 4,
   "metadata": {
    "execution": {
     "iopub.execute_input": "2021-02-19T19:13:00.022757Z",
     "iopub.status.busy": "2021-02-19T19:13:00.022105Z",
     "iopub.status.idle": "2021-02-19T19:13:00.025415Z",
     "shell.execute_reply": "2021-02-19T19:13:00.025902Z"
    },
    "papermill": {
     "duration": 0.094841,
     "end_time": "2021-02-19T19:13:00.026105",
     "exception": false,
     "start_time": "2021-02-19T19:12:59.931264",
     "status": "completed"
    },
    "tags": []
   },
   "outputs": [],
   "source": [
    "all_data = [train, test]"
   ]
  },
  {
   "cell_type": "code",
   "execution_count": 5,
   "metadata": {
    "execution": {
     "iopub.execute_input": "2021-02-19T19:13:00.214817Z",
     "iopub.status.busy": "2021-02-19T19:13:00.214091Z",
     "iopub.status.idle": "2021-02-19T19:13:00.239445Z",
     "shell.execute_reply": "2021-02-19T19:13:00.239946Z"
    },
    "papermill": {
     "duration": 0.126614,
     "end_time": "2021-02-19T19:13:00.240131",
     "exception": false,
     "start_time": "2021-02-19T19:13:00.113517",
     "status": "completed"
    },
    "tags": []
   },
   "outputs": [
    {
     "data": {
      "text/html": [
       "<div>\n",
       "<style scoped>\n",
       "    .dataframe tbody tr th:only-of-type {\n",
       "        vertical-align: middle;\n",
       "    }\n",
       "\n",
       "    .dataframe tbody tr th {\n",
       "        vertical-align: top;\n",
       "    }\n",
       "\n",
       "    .dataframe thead th {\n",
       "        text-align: right;\n",
       "    }\n",
       "</style>\n",
       "<table border=\"1\" class=\"dataframe\">\n",
       "  <thead>\n",
       "    <tr style=\"text-align: right;\">\n",
       "      <th></th>\n",
       "      <th>PassengerId</th>\n",
       "      <th>Survived</th>\n",
       "      <th>Pclass</th>\n",
       "      <th>Name</th>\n",
       "      <th>Sex</th>\n",
       "      <th>Age</th>\n",
       "      <th>SibSp</th>\n",
       "      <th>Parch</th>\n",
       "      <th>Ticket</th>\n",
       "      <th>Fare</th>\n",
       "      <th>Cabin</th>\n",
       "      <th>Embarked</th>\n",
       "    </tr>\n",
       "  </thead>\n",
       "  <tbody>\n",
       "    <tr>\n",
       "      <th>0</th>\n",
       "      <td>1</td>\n",
       "      <td>0</td>\n",
       "      <td>3</td>\n",
       "      <td>Braund, Mr. Owen Harris</td>\n",
       "      <td>male</td>\n",
       "      <td>22.0</td>\n",
       "      <td>1</td>\n",
       "      <td>0</td>\n",
       "      <td>A/5 21171</td>\n",
       "      <td>7.2500</td>\n",
       "      <td>NaN</td>\n",
       "      <td>S</td>\n",
       "    </tr>\n",
       "    <tr>\n",
       "      <th>1</th>\n",
       "      <td>2</td>\n",
       "      <td>1</td>\n",
       "      <td>1</td>\n",
       "      <td>Cumings, Mrs. John Bradley (Florence Briggs Th...</td>\n",
       "      <td>female</td>\n",
       "      <td>38.0</td>\n",
       "      <td>1</td>\n",
       "      <td>0</td>\n",
       "      <td>PC 17599</td>\n",
       "      <td>71.2833</td>\n",
       "      <td>C85</td>\n",
       "      <td>C</td>\n",
       "    </tr>\n",
       "    <tr>\n",
       "      <th>2</th>\n",
       "      <td>3</td>\n",
       "      <td>1</td>\n",
       "      <td>3</td>\n",
       "      <td>Heikkinen, Miss. Laina</td>\n",
       "      <td>female</td>\n",
       "      <td>26.0</td>\n",
       "      <td>0</td>\n",
       "      <td>0</td>\n",
       "      <td>STON/O2. 3101282</td>\n",
       "      <td>7.9250</td>\n",
       "      <td>NaN</td>\n",
       "      <td>S</td>\n",
       "    </tr>\n",
       "    <tr>\n",
       "      <th>3</th>\n",
       "      <td>4</td>\n",
       "      <td>1</td>\n",
       "      <td>1</td>\n",
       "      <td>Futrelle, Mrs. Jacques Heath (Lily May Peel)</td>\n",
       "      <td>female</td>\n",
       "      <td>35.0</td>\n",
       "      <td>1</td>\n",
       "      <td>0</td>\n",
       "      <td>113803</td>\n",
       "      <td>53.1000</td>\n",
       "      <td>C123</td>\n",
       "      <td>S</td>\n",
       "    </tr>\n",
       "    <tr>\n",
       "      <th>4</th>\n",
       "      <td>5</td>\n",
       "      <td>0</td>\n",
       "      <td>3</td>\n",
       "      <td>Allen, Mr. William Henry</td>\n",
       "      <td>male</td>\n",
       "      <td>35.0</td>\n",
       "      <td>0</td>\n",
       "      <td>0</td>\n",
       "      <td>373450</td>\n",
       "      <td>8.0500</td>\n",
       "      <td>NaN</td>\n",
       "      <td>S</td>\n",
       "    </tr>\n",
       "  </tbody>\n",
       "</table>\n",
       "</div>"
      ],
      "text/plain": [
       "   PassengerId  Survived  Pclass  \\\n",
       "0            1         0       3   \n",
       "1            2         1       1   \n",
       "2            3         1       3   \n",
       "3            4         1       1   \n",
       "4            5         0       3   \n",
       "\n",
       "                                                Name     Sex   Age  SibSp  \\\n",
       "0                            Braund, Mr. Owen Harris    male  22.0      1   \n",
       "1  Cumings, Mrs. John Bradley (Florence Briggs Th...  female  38.0      1   \n",
       "2                             Heikkinen, Miss. Laina  female  26.0      0   \n",
       "3       Futrelle, Mrs. Jacques Heath (Lily May Peel)  female  35.0      1   \n",
       "4                           Allen, Mr. William Henry    male  35.0      0   \n",
       "\n",
       "   Parch            Ticket     Fare Cabin Embarked  \n",
       "0      0         A/5 21171   7.2500   NaN        S  \n",
       "1      0          PC 17599  71.2833   C85        C  \n",
       "2      0  STON/O2. 3101282   7.9250   NaN        S  \n",
       "3      0            113803  53.1000  C123        S  \n",
       "4      0            373450   8.0500   NaN        S  "
      ]
     },
     "execution_count": 5,
     "metadata": {},
     "output_type": "execute_result"
    }
   ],
   "source": [
    "train.head()"
   ]
  },
  {
   "cell_type": "code",
   "execution_count": 6,
   "metadata": {
    "execution": {
     "iopub.execute_input": "2021-02-19T19:13:00.432087Z",
     "iopub.status.busy": "2021-02-19T19:13:00.431365Z",
     "iopub.status.idle": "2021-02-19T19:13:00.436024Z",
     "shell.execute_reply": "2021-02-19T19:13:00.435393Z"
    },
    "papermill": {
     "duration": 0.107697,
     "end_time": "2021-02-19T19:13:00.436183",
     "exception": false,
     "start_time": "2021-02-19T19:13:00.328486",
     "status": "completed"
    },
    "tags": []
   },
   "outputs": [
    {
     "data": {
      "text/html": [
       "<div>\n",
       "<style scoped>\n",
       "    .dataframe tbody tr th:only-of-type {\n",
       "        vertical-align: middle;\n",
       "    }\n",
       "\n",
       "    .dataframe tbody tr th {\n",
       "        vertical-align: top;\n",
       "    }\n",
       "\n",
       "    .dataframe thead th {\n",
       "        text-align: right;\n",
       "    }\n",
       "</style>\n",
       "<table border=\"1\" class=\"dataframe\">\n",
       "  <thead>\n",
       "    <tr style=\"text-align: right;\">\n",
       "      <th></th>\n",
       "      <th>PassengerId</th>\n",
       "      <th>Pclass</th>\n",
       "      <th>Name</th>\n",
       "      <th>Sex</th>\n",
       "      <th>Age</th>\n",
       "      <th>SibSp</th>\n",
       "      <th>Parch</th>\n",
       "      <th>Ticket</th>\n",
       "      <th>Fare</th>\n",
       "      <th>Cabin</th>\n",
       "      <th>Embarked</th>\n",
       "    </tr>\n",
       "  </thead>\n",
       "  <tbody>\n",
       "    <tr>\n",
       "      <th>0</th>\n",
       "      <td>892</td>\n",
       "      <td>3</td>\n",
       "      <td>Kelly, Mr. James</td>\n",
       "      <td>male</td>\n",
       "      <td>34.5</td>\n",
       "      <td>0</td>\n",
       "      <td>0</td>\n",
       "      <td>330911</td>\n",
       "      <td>7.8292</td>\n",
       "      <td>NaN</td>\n",
       "      <td>Q</td>\n",
       "    </tr>\n",
       "    <tr>\n",
       "      <th>1</th>\n",
       "      <td>893</td>\n",
       "      <td>3</td>\n",
       "      <td>Wilkes, Mrs. James (Ellen Needs)</td>\n",
       "      <td>female</td>\n",
       "      <td>47.0</td>\n",
       "      <td>1</td>\n",
       "      <td>0</td>\n",
       "      <td>363272</td>\n",
       "      <td>7.0000</td>\n",
       "      <td>NaN</td>\n",
       "      <td>S</td>\n",
       "    </tr>\n",
       "    <tr>\n",
       "      <th>2</th>\n",
       "      <td>894</td>\n",
       "      <td>2</td>\n",
       "      <td>Myles, Mr. Thomas Francis</td>\n",
       "      <td>male</td>\n",
       "      <td>62.0</td>\n",
       "      <td>0</td>\n",
       "      <td>0</td>\n",
       "      <td>240276</td>\n",
       "      <td>9.6875</td>\n",
       "      <td>NaN</td>\n",
       "      <td>Q</td>\n",
       "    </tr>\n",
       "    <tr>\n",
       "      <th>3</th>\n",
       "      <td>895</td>\n",
       "      <td>3</td>\n",
       "      <td>Wirz, Mr. Albert</td>\n",
       "      <td>male</td>\n",
       "      <td>27.0</td>\n",
       "      <td>0</td>\n",
       "      <td>0</td>\n",
       "      <td>315154</td>\n",
       "      <td>8.6625</td>\n",
       "      <td>NaN</td>\n",
       "      <td>S</td>\n",
       "    </tr>\n",
       "    <tr>\n",
       "      <th>4</th>\n",
       "      <td>896</td>\n",
       "      <td>3</td>\n",
       "      <td>Hirvonen, Mrs. Alexander (Helga E Lindqvist)</td>\n",
       "      <td>female</td>\n",
       "      <td>22.0</td>\n",
       "      <td>1</td>\n",
       "      <td>1</td>\n",
       "      <td>3101298</td>\n",
       "      <td>12.2875</td>\n",
       "      <td>NaN</td>\n",
       "      <td>S</td>\n",
       "    </tr>\n",
       "  </tbody>\n",
       "</table>\n",
       "</div>"
      ],
      "text/plain": [
       "   PassengerId  Pclass                                          Name     Sex  \\\n",
       "0          892       3                              Kelly, Mr. James    male   \n",
       "1          893       3              Wilkes, Mrs. James (Ellen Needs)  female   \n",
       "2          894       2                     Myles, Mr. Thomas Francis    male   \n",
       "3          895       3                              Wirz, Mr. Albert    male   \n",
       "4          896       3  Hirvonen, Mrs. Alexander (Helga E Lindqvist)  female   \n",
       "\n",
       "    Age  SibSp  Parch   Ticket     Fare Cabin Embarked  \n",
       "0  34.5      0      0   330911   7.8292   NaN        Q  \n",
       "1  47.0      1      0   363272   7.0000   NaN        S  \n",
       "2  62.0      0      0   240276   9.6875   NaN        Q  \n",
       "3  27.0      0      0   315154   8.6625   NaN        S  \n",
       "4  22.0      1      1  3101298  12.2875   NaN        S  "
      ]
     },
     "execution_count": 6,
     "metadata": {},
     "output_type": "execute_result"
    }
   ],
   "source": [
    "test.head()"
   ]
  },
  {
   "cell_type": "code",
   "execution_count": 7,
   "metadata": {
    "execution": {
     "iopub.execute_input": "2021-02-19T19:13:00.617490Z",
     "iopub.status.busy": "2021-02-19T19:13:00.616754Z",
     "iopub.status.idle": "2021-02-19T19:13:00.621642Z",
     "shell.execute_reply": "2021-02-19T19:13:00.621077Z"
    },
    "papermill": {
     "duration": 0.098109,
     "end_time": "2021-02-19T19:13:00.621804",
     "exception": false,
     "start_time": "2021-02-19T19:13:00.523695",
     "status": "completed"
    },
    "tags": []
   },
   "outputs": [
    {
     "data": {
      "text/plain": [
       "((891, 12), (418, 11))"
      ]
     },
     "execution_count": 7,
     "metadata": {},
     "output_type": "execute_result"
    }
   ],
   "source": [
    "train.shape, test.shape"
   ]
  },
  {
   "cell_type": "code",
   "execution_count": 8,
   "metadata": {
    "execution": {
     "iopub.execute_input": "2021-02-19T19:13:00.814032Z",
     "iopub.status.busy": "2021-02-19T19:13:00.812998Z",
     "iopub.status.idle": "2021-02-19T19:13:00.817217Z",
     "shell.execute_reply": "2021-02-19T19:13:00.816535Z"
    },
    "papermill": {
     "duration": 0.106745,
     "end_time": "2021-02-19T19:13:00.817370",
     "exception": false,
     "start_time": "2021-02-19T19:13:00.710625",
     "status": "completed"
    },
    "tags": []
   },
   "outputs": [],
   "source": [
    "pd.set_option('display.max_row',None) \n",
    "pd.set_option('display.max.column', None)"
   ]
  },
  {
   "cell_type": "code",
   "execution_count": 9,
   "metadata": {
    "execution": {
     "iopub.execute_input": "2021-02-19T19:13:01.036237Z",
     "iopub.status.busy": "2021-02-19T19:13:01.035314Z",
     "iopub.status.idle": "2021-02-19T19:13:01.038794Z",
     "shell.execute_reply": "2021-02-19T19:13:01.039424Z"
    },
    "papermill": {
     "duration": 0.116434,
     "end_time": "2021-02-19T19:13:01.039598",
     "exception": false,
     "start_time": "2021-02-19T19:13:00.923164",
     "status": "completed"
    },
    "tags": []
   },
   "outputs": [
    {
     "name": "stdout",
     "output_type": "stream",
     "text": [
      "<class 'pandas.core.frame.DataFrame'>\n",
      "RangeIndex: 891 entries, 0 to 890\n",
      "Data columns (total 12 columns):\n",
      " #   Column       Non-Null Count  Dtype  \n",
      "---  ------       --------------  -----  \n",
      " 0   PassengerId  891 non-null    int64  \n",
      " 1   Survived     891 non-null    int64  \n",
      " 2   Pclass       891 non-null    int64  \n",
      " 3   Name         891 non-null    object \n",
      " 4   Sex          891 non-null    object \n",
      " 5   Age          714 non-null    float64\n",
      " 6   SibSp        891 non-null    int64  \n",
      " 7   Parch        891 non-null    int64  \n",
      " 8   Ticket       891 non-null    object \n",
      " 9   Fare         891 non-null    float64\n",
      " 10  Cabin        204 non-null    object \n",
      " 11  Embarked     889 non-null    object \n",
      "dtypes: float64(2), int64(5), object(5)\n",
      "memory usage: 83.7+ KB\n"
     ]
    }
   ],
   "source": [
    "train.info()"
   ]
  },
  {
   "cell_type": "markdown",
   "metadata": {
    "papermill": {
     "duration": 0.08854,
     "end_time": "2021-02-19T19:13:01.217496",
     "exception": false,
     "start_time": "2021-02-19T19:13:01.128956",
     "status": "completed"
    },
    "tags": []
   },
   "source": [
    "#  Data Exploration "
   ]
  },
  {
   "cell_type": "markdown",
   "metadata": {
    "papermill": {
     "duration": 0.087329,
     "end_time": "2021-02-19T19:13:01.395313",
     "exception": false,
     "start_time": "2021-02-19T19:13:01.307984",
     "status": "completed"
    },
    "tags": []
   },
   "source": [
    "> **Sex**"
   ]
  },
  {
   "cell_type": "code",
   "execution_count": 10,
   "metadata": {
    "execution": {
     "iopub.execute_input": "2021-02-19T19:13:01.585315Z",
     "iopub.status.busy": "2021-02-19T19:13:01.584609Z",
     "iopub.status.idle": "2021-02-19T19:13:01.589157Z",
     "shell.execute_reply": "2021-02-19T19:13:01.588616Z"
    },
    "papermill": {
     "duration": 0.105876,
     "end_time": "2021-02-19T19:13:01.589299",
     "exception": false,
     "start_time": "2021-02-19T19:13:01.483423",
     "status": "completed"
    },
    "tags": []
   },
   "outputs": [
    {
     "data": {
      "text/html": [
       "<div>\n",
       "<style scoped>\n",
       "    .dataframe tbody tr th:only-of-type {\n",
       "        vertical-align: middle;\n",
       "    }\n",
       "\n",
       "    .dataframe tbody tr th {\n",
       "        vertical-align: top;\n",
       "    }\n",
       "\n",
       "    .dataframe thead th {\n",
       "        text-align: right;\n",
       "    }\n",
       "</style>\n",
       "<table border=\"1\" class=\"dataframe\">\n",
       "  <thead>\n",
       "    <tr style=\"text-align: right;\">\n",
       "      <th></th>\n",
       "      <th>Survived</th>\n",
       "    </tr>\n",
       "    <tr>\n",
       "      <th>Sex</th>\n",
       "      <th></th>\n",
       "    </tr>\n",
       "  </thead>\n",
       "  <tbody>\n",
       "    <tr>\n",
       "      <th>female</th>\n",
       "      <td>0.742038</td>\n",
       "    </tr>\n",
       "    <tr>\n",
       "      <th>male</th>\n",
       "      <td>0.188908</td>\n",
       "    </tr>\n",
       "  </tbody>\n",
       "</table>\n",
       "</div>"
      ],
      "text/plain": [
       "        Survived\n",
       "Sex             \n",
       "female  0.742038\n",
       "male    0.188908"
      ]
     },
     "execution_count": 10,
     "metadata": {},
     "output_type": "execute_result"
    }
   ],
   "source": [
    "train.groupby('Sex')[['Sex','Survived']].mean()"
   ]
  },
  {
   "cell_type": "code",
   "execution_count": 11,
   "metadata": {
    "execution": {
     "iopub.execute_input": "2021-02-19T19:13:01.776205Z",
     "iopub.status.busy": "2021-02-19T19:13:01.775520Z",
     "iopub.status.idle": "2021-02-19T19:13:01.815368Z",
     "shell.execute_reply": "2021-02-19T19:13:01.815923Z"
    },
    "papermill": {
     "duration": 0.13781,
     "end_time": "2021-02-19T19:13:01.816115",
     "exception": false,
     "start_time": "2021-02-19T19:13:01.678305",
     "status": "completed"
    },
    "tags": []
   },
   "outputs": [
    {
     "data": {
      "text/html": [
       "<div>\n",
       "<style scoped>\n",
       "    .dataframe tbody tr th:only-of-type {\n",
       "        vertical-align: middle;\n",
       "    }\n",
       "\n",
       "    .dataframe tbody tr th {\n",
       "        vertical-align: top;\n",
       "    }\n",
       "\n",
       "    .dataframe thead th {\n",
       "        text-align: right;\n",
       "    }\n",
       "</style>\n",
       "<table border=\"1\" class=\"dataframe\">\n",
       "  <thead>\n",
       "    <tr style=\"text-align: right;\">\n",
       "      <th>Survived</th>\n",
       "      <th>0</th>\n",
       "      <th>1</th>\n",
       "    </tr>\n",
       "    <tr>\n",
       "      <th>Sex</th>\n",
       "      <th></th>\n",
       "      <th></th>\n",
       "    </tr>\n",
       "  </thead>\n",
       "  <tbody>\n",
       "    <tr>\n",
       "      <th>female</th>\n",
       "      <td>81</td>\n",
       "      <td>233</td>\n",
       "    </tr>\n",
       "    <tr>\n",
       "      <th>male</th>\n",
       "      <td>468</td>\n",
       "      <td>109</td>\n",
       "    </tr>\n",
       "  </tbody>\n",
       "</table>\n",
       "</div>"
      ],
      "text/plain": [
       "Survived    0    1\n",
       "Sex               \n",
       "female     81  233\n",
       "male      468  109"
      ]
     },
     "execution_count": 11,
     "metadata": {},
     "output_type": "execute_result"
    }
   ],
   "source": [
    "pd.crosstab(train.Sex, train.Survived)"
   ]
  },
  {
   "cell_type": "code",
   "execution_count": 12,
   "metadata": {
    "execution": {
     "iopub.execute_input": "2021-02-19T19:13:02.008490Z",
     "iopub.status.busy": "2021-02-19T19:13:02.007762Z",
     "iopub.status.idle": "2021-02-19T19:13:02.227293Z",
     "shell.execute_reply": "2021-02-19T19:13:02.226711Z"
    },
    "papermill": {
     "duration": 0.319627,
     "end_time": "2021-02-19T19:13:02.227445",
     "exception": false,
     "start_time": "2021-02-19T19:13:01.907818",
     "status": "completed"
    },
    "tags": []
   },
   "outputs": [
    {
     "name": "stdout",
     "output_type": "stream",
     "text": [
      "Survived          0          1\n",
      "Sex                           \n",
      "female     9.090909  26.150393\n",
      "male      52.525253  12.233446\n"
     ]
    },
    {
     "data": {
      "image/png": "[encoded data removed]",
      "text/plain": [
       "<Figure size 1008x432 with 1 Axes>"
      ]
     },
     "metadata": {
      "needs_background": "light"
     },
     "output_type": "display_data"
    }
   ],
   "source": [
    "print(pd.crosstab(train.Sex, train.Survived) / train.shape[0]*100)\n",
    "\n",
    "plt.figure(figsize=(14,6))\n",
    "sns.countplot(data = train, hue = 'Survived', x='Sex')\n",
    "plt.xlabel('Gender')\n",
    "plt.ylabel('Survived count')\n",
    "plt.xticks(rotation=60)\n",
    "plt.title('Gender Survived count')\n",
    "plt.show()"
   ]
  },
  {
   "cell_type": "code",
   "execution_count": 13,
   "metadata": {
    "execution": {
     "iopub.execute_input": "2021-02-19T19:13:02.418122Z",
     "iopub.status.busy": "2021-02-19T19:13:02.417000Z",
     "iopub.status.idle": "2021-02-19T19:13:02.422300Z",
     "shell.execute_reply": "2021-02-19T19:13:02.421634Z"
    },
    "papermill": {
     "duration": 0.104183,
     "end_time": "2021-02-19T19:13:02.422461",
     "exception": false,
     "start_time": "2021-02-19T19:13:02.318278",
     "status": "completed"
    },
    "tags": []
   },
   "outputs": [
    {
     "data": {
      "text/plain": [
       "male      64.758698\n",
       "female    35.241302\n",
       "Name: Sex, dtype: float64"
      ]
     },
     "execution_count": 13,
     "metadata": {},
     "output_type": "execute_result"
    }
   ],
   "source": [
    "train.Sex.value_counts() / train.shape[0] * 100"
   ]
  },
  {
   "cell_type": "markdown",
   "metadata": {
    "papermill": {
     "duration": 0.091142,
     "end_time": "2021-02-19T19:13:02.605124",
     "exception": false,
     "start_time": "2021-02-19T19:13:02.513982",
     "status": "completed"
    },
    "tags": []
   },
   "source": [
    "In the total 35 % female in the titanic ship 26 % of female have survived. <br> So the probability of female surived\n",
    "in the titanic ship is very high"
   ]
  },
  {
   "cell_type": "code",
   "execution_count": 14,
   "metadata": {
    "execution": {
     "iopub.execute_input": "2021-02-19T19:13:02.890101Z",
     "iopub.status.busy": "2021-02-19T19:13:02.795447Z",
     "iopub.status.idle": "2021-02-19T19:13:03.821385Z",
     "shell.execute_reply": "2021-02-19T19:13:03.821898Z"
    },
    "papermill": {
     "duration": 1.124755,
     "end_time": "2021-02-19T19:13:03.822094",
     "exception": false,
     "start_time": "2021-02-19T19:13:02.697339",
     "status": "completed"
    },
    "tags": []
   },
   "outputs": [
    {
     "data": {
      "text/plain": [
       "<seaborn.axisgrid.FacetGrid at 0x7f7e65941d50>"
      ]
     },
     "execution_count": 14,
     "metadata": {},
     "output_type": "execute_result"
    },
    {
     "data": {
      "image/png": "[encoded data removed]",
      "text/plain": [
       "<Figure size 440x432 with 4 Axes>"
      ]
     },
     "metadata": {
      "needs_background": "light"
     },
     "output_type": "display_data"
    }
   ],
   "source": [
    "grid = sns.FacetGrid(train, col = 'Survived', row = 'Sex')\n",
    "grid.map(plt.hist, 'Age', bins = 20)\n",
    "grid.add_legend()"
   ]
  },
  {
   "cell_type": "markdown",
   "metadata": {
    "papermill": {
     "duration": 0.093446,
     "end_time": "2021-02-19T19:13:04.009206",
     "exception": false,
     "start_time": "2021-02-19T19:13:03.915760",
     "status": "completed"
    },
    "tags": []
   },
   "source": [
    "> **PClass**"
   ]
  },
  {
   "cell_type": "code",
   "execution_count": 15,
   "metadata": {
    "execution": {
     "iopub.execute_input": "2021-02-19T19:13:04.211488Z",
     "iopub.status.busy": "2021-02-19T19:13:04.208835Z",
     "iopub.status.idle": "2021-02-19T19:13:04.215619Z",
     "shell.execute_reply": "2021-02-19T19:13:04.214951Z"
    },
    "papermill": {
     "duration": 0.111683,
     "end_time": "2021-02-19T19:13:04.215770",
     "exception": false,
     "start_time": "2021-02-19T19:13:04.104087",
     "status": "completed"
    },
    "tags": []
   },
   "outputs": [
    {
     "name": "stdout",
     "output_type": "stream",
     "text": [
      "   Pclass  Survived\n",
      "0       1  0.629630\n",
      "1       2  0.472826\n",
      "2       3  0.242363\n"
     ]
    }
   ],
   "source": [
    "print (train[['Pclass', 'Survived']].groupby(['Pclass'], as_index=False).mean())"
   ]
  },
  {
   "cell_type": "code",
   "execution_count": 16,
   "metadata": {
    "execution": {
     "iopub.execute_input": "2021-02-19T19:13:04.413437Z",
     "iopub.status.busy": "2021-02-19T19:13:04.411472Z",
     "iopub.status.idle": "2021-02-19T19:13:04.610918Z",
     "shell.execute_reply": "2021-02-19T19:13:04.610264Z"
    },
    "papermill": {
     "duration": 0.301275,
     "end_time": "2021-02-19T19:13:04.611082",
     "exception": false,
     "start_time": "2021-02-19T19:13:04.309807",
     "status": "completed"
    },
    "tags": []
   },
   "outputs": [
    {
     "name": "stdout",
     "output_type": "stream",
     "text": [
      "   Pclass  Survived\n",
      "0       1  0.629630\n",
      "1       2  0.472826\n",
      "2       3  0.242363\n"
     ]
    },
    {
     "data": {
      "image/png": "[encoded data removed]",
      "text/plain": [
       "<Figure size 1008x432 with 1 Axes>"
      ]
     },
     "metadata": {
      "needs_background": "light"
     },
     "output_type": "display_data"
    }
   ],
   "source": [
    "### Lets see the visualization of Pclass to the survived with respect to Age distribution \n",
    "print (train[['Pclass', 'Survived']].groupby(['Pclass'], as_index=False).mean())\n",
    "plt.figure(figsize=(14,6))\n",
    "sns.countplot(data = train, x = 'Pclass', hue='Survived')\n",
    "plt.xlabel('Ticket Class', fontsize = 15)\n",
    "plt.ylabel('Survived count', fontsize = 15)\n",
    "plt.title('Class vs Survival', fontsize = 25)\n",
    "plt.xticks(rotation = 60)\n",
    "plt.show()"
   ]
  },
  {
   "cell_type": "code",
   "execution_count": 17,
   "metadata": {
    "execution": {
     "iopub.execute_input": "2021-02-19T19:13:04.806324Z",
     "iopub.status.busy": "2021-02-19T19:13:04.805377Z",
     "iopub.status.idle": "2021-02-19T19:13:06.210120Z",
     "shell.execute_reply": "2021-02-19T19:13:06.209488Z"
    },
    "papermill": {
     "duration": 1.503966,
     "end_time": "2021-02-19T19:13:06.210268",
     "exception": false,
     "start_time": "2021-02-19T19:13:04.706302",
     "status": "completed"
    },
    "tags": []
   },
   "outputs": [
    {
     "data": {
      "image/png": "[encoded data removed]",
      "text/plain": [
       "<Figure size 440x648 with 6 Axes>"
      ]
     },
     "metadata": {
      "needs_background": "light"
     },
     "output_type": "display_data"
    }
   ],
   "source": [
    "grid = sns.FacetGrid(train, col='Survived', row = 'Pclass')\n",
    "grid.map(plt.hist, 'Age', bins = 20)\n",
    "grid.add_legend();"
   ]
  },
  {
   "cell_type": "markdown",
   "metadata": {
    "papermill": {
     "duration": 0.094228,
     "end_time": "2021-02-19T19:13:06.399324",
     "exception": false,
     "start_time": "2021-02-19T19:13:06.305096",
     "status": "completed"
    },
    "tags": []
   },
   "source": [
    "3rd class passengers with age group ~ 25 - 35 have high probability not to survive\n"
   ]
  },
  {
   "cell_type": "markdown",
   "metadata": {
    "papermill": {
     "duration": 0.094291,
     "end_time": "2021-02-19T19:13:06.588462",
     "exception": false,
     "start_time": "2021-02-19T19:13:06.494171",
     "status": "completed"
    },
    "tags": []
   },
   "source": [
    "# **SibSp and Parch**"
   ]
  },
  {
   "cell_type": "markdown",
   "metadata": {
    "papermill": {
     "duration": 0.095306,
     "end_time": "2021-02-19T19:13:06.778972",
     "exception": false,
     "start_time": "2021-02-19T19:13:06.683666",
     "status": "completed"
    },
    "tags": []
   },
   "source": [
    "- Sibling = brother, sister, stepbrother, stepsister\n",
    "Spouse = husband, wife (mistresses and fiancés were ignored)\n",
    "\n",
    "- parch: The dataset defines family relations in this way... Parent = mother, father Child = daughter, son, stepdaughter, stepson Some children travelled only with a nanny, therefore parch=0 for them.\n",
    "\n",
    "- We are going to create new variable family_size by adding Sibsp and Parch"
   ]
  },
  {
   "cell_type": "code",
   "execution_count": 18,
   "metadata": {
    "execution": {
     "iopub.execute_input": "2021-02-19T19:13:06.988816Z",
     "iopub.status.busy": "2021-02-19T19:13:06.987961Z",
     "iopub.status.idle": "2021-02-19T19:13:06.993296Z",
     "shell.execute_reply": "2021-02-19T19:13:06.992618Z"
    },
    "papermill": {
     "duration": 0.11825,
     "end_time": "2021-02-19T19:13:06.993438",
     "exception": false,
     "start_time": "2021-02-19T19:13:06.875188",
     "status": "completed"
    },
    "tags": []
   },
   "outputs": [
    {
     "data": {
      "text/html": [
       "<div>\n",
       "<style scoped>\n",
       "    .dataframe tbody tr th:only-of-type {\n",
       "        vertical-align: middle;\n",
       "    }\n",
       "\n",
       "    .dataframe tbody tr th {\n",
       "        vertical-align: top;\n",
       "    }\n",
       "\n",
       "    .dataframe thead th {\n",
       "        text-align: right;\n",
       "    }\n",
       "</style>\n",
       "<table border=\"1\" class=\"dataframe\">\n",
       "  <thead>\n",
       "    <tr style=\"text-align: right;\">\n",
       "      <th></th>\n",
       "      <th>PassengerId</th>\n",
       "      <th>Pclass</th>\n",
       "      <th>Name</th>\n",
       "      <th>Sex</th>\n",
       "      <th>Age</th>\n",
       "      <th>SibSp</th>\n",
       "      <th>Parch</th>\n",
       "      <th>Ticket</th>\n",
       "      <th>Fare</th>\n",
       "      <th>Cabin</th>\n",
       "      <th>Embarked</th>\n",
       "    </tr>\n",
       "  </thead>\n",
       "  <tbody>\n",
       "    <tr>\n",
       "      <th>0</th>\n",
       "      <td>892</td>\n",
       "      <td>3</td>\n",
       "      <td>Kelly, Mr. James</td>\n",
       "      <td>male</td>\n",
       "      <td>34.5</td>\n",
       "      <td>0</td>\n",
       "      <td>0</td>\n",
       "      <td>330911</td>\n",
       "      <td>7.8292</td>\n",
       "      <td>NaN</td>\n",
       "      <td>Q</td>\n",
       "    </tr>\n",
       "    <tr>\n",
       "      <th>1</th>\n",
       "      <td>893</td>\n",
       "      <td>3</td>\n",
       "      <td>Wilkes, Mrs. James (Ellen Needs)</td>\n",
       "      <td>female</td>\n",
       "      <td>47.0</td>\n",
       "      <td>1</td>\n",
       "      <td>0</td>\n",
       "      <td>363272</td>\n",
       "      <td>7.0000</td>\n",
       "      <td>NaN</td>\n",
       "      <td>S</td>\n",
       "    </tr>\n",
       "    <tr>\n",
       "      <th>2</th>\n",
       "      <td>894</td>\n",
       "      <td>2</td>\n",
       "      <td>Myles, Mr. Thomas Francis</td>\n",
       "      <td>male</td>\n",
       "      <td>62.0</td>\n",
       "      <td>0</td>\n",
       "      <td>0</td>\n",
       "      <td>240276</td>\n",
       "      <td>9.6875</td>\n",
       "      <td>NaN</td>\n",
       "      <td>Q</td>\n",
       "    </tr>\n",
       "    <tr>\n",
       "      <th>3</th>\n",
       "      <td>895</td>\n",
       "      <td>3</td>\n",
       "      <td>Wirz, Mr. Albert</td>\n",
       "      <td>male</td>\n",
       "      <td>27.0</td>\n",
       "      <td>0</td>\n",
       "      <td>0</td>\n",
       "      <td>315154</td>\n",
       "      <td>8.6625</td>\n",
       "      <td>NaN</td>\n",
       "      <td>S</td>\n",
       "    </tr>\n",
       "    <tr>\n",
       "      <th>4</th>\n",
       "      <td>896</td>\n",
       "      <td>3</td>\n",
       "      <td>Hirvonen, Mrs. Alexander (Helga E Lindqvist)</td>\n",
       "      <td>female</td>\n",
       "      <td>22.0</td>\n",
       "      <td>1</td>\n",
       "      <td>1</td>\n",
       "      <td>3101298</td>\n",
       "      <td>12.2875</td>\n",
       "      <td>NaN</td>\n",
       "      <td>S</td>\n",
       "    </tr>\n",
       "  </tbody>\n",
       "</table>\n",
       "</div>"
      ],
      "text/plain": [
       "   PassengerId  Pclass                                          Name     Sex  \\\n",
       "0          892       3                              Kelly, Mr. James    male   \n",
       "1          893       3              Wilkes, Mrs. James (Ellen Needs)  female   \n",
       "2          894       2                     Myles, Mr. Thomas Francis    male   \n",
       "3          895       3                              Wirz, Mr. Albert    male   \n",
       "4          896       3  Hirvonen, Mrs. Alexander (Helga E Lindqvist)  female   \n",
       "\n",
       "    Age  SibSp  Parch   Ticket     Fare Cabin Embarked  \n",
       "0  34.5      0      0   330911   7.8292   NaN        Q  \n",
       "1  47.0      1      0   363272   7.0000   NaN        S  \n",
       "2  62.0      0      0   240276   9.6875   NaN        Q  \n",
       "3  27.0      0      0   315154   8.6625   NaN        S  \n",
       "4  22.0      1      1  3101298  12.2875   NaN        S  "
      ]
     },
     "execution_count": 18,
     "metadata": {},
     "output_type": "execute_result"
    }
   ],
   "source": [
    "test.head()"
   ]
  },
  {
   "cell_type": "code",
   "execution_count": 19,
   "metadata": {
    "execution": {
     "iopub.execute_input": "2021-02-19T19:13:07.192954Z",
     "iopub.status.busy": "2021-02-19T19:13:07.191804Z",
     "iopub.status.idle": "2021-02-19T19:13:07.196806Z",
     "shell.execute_reply": "2021-02-19T19:13:07.196301Z"
    },
    "papermill": {
     "duration": 0.107028,
     "end_time": "2021-02-19T19:13:07.196954",
     "exception": false,
     "start_time": "2021-02-19T19:13:07.089926",
     "status": "completed"
    },
    "tags": []
   },
   "outputs": [
    {
     "data": {
      "text/plain": [
       "((891, 12), (418, 11))"
      ]
     },
     "execution_count": 19,
     "metadata": {},
     "output_type": "execute_result"
    }
   ],
   "source": [
    "train.shape, test.shape"
   ]
  },
  {
   "cell_type": "code",
   "execution_count": 20,
   "metadata": {
    "execution": {
     "iopub.execute_input": "2021-02-19T19:13:07.393146Z",
     "iopub.status.busy": "2021-02-19T19:13:07.392516Z",
     "iopub.status.idle": "2021-02-19T19:13:07.396439Z",
     "shell.execute_reply": "2021-02-19T19:13:07.395791Z"
    },
    "papermill": {
     "duration": 0.104343,
     "end_time": "2021-02-19T19:13:07.396579",
     "exception": false,
     "start_time": "2021-02-19T19:13:07.292236",
     "status": "completed"
    },
    "tags": []
   },
   "outputs": [],
   "source": [
    "all_data = [train, test]"
   ]
  },
  {
   "cell_type": "code",
   "execution_count": 21,
   "metadata": {
    "execution": {
     "iopub.execute_input": "2021-02-19T19:13:07.600492Z",
     "iopub.status.busy": "2021-02-19T19:13:07.599818Z",
     "iopub.status.idle": "2021-02-19T19:13:07.606767Z",
     "shell.execute_reply": "2021-02-19T19:13:07.607396Z"
    },
    "papermill": {
     "duration": 0.115388,
     "end_time": "2021-02-19T19:13:07.607584",
     "exception": false,
     "start_time": "2021-02-19T19:13:07.492196",
     "status": "completed"
    },
    "tags": []
   },
   "outputs": [
    {
     "name": "stdout",
     "output_type": "stream",
     "text": [
      "   Familysize  Survived\n",
      "0           1  0.303538\n",
      "1           2  0.552795\n",
      "2           3  0.578431\n",
      "3           4  0.724138\n",
      "4           5  0.200000\n",
      "5           6  0.136364\n",
      "6           7  0.333333\n",
      "7           8  0.000000\n",
      "8          11  0.000000\n"
     ]
    }
   ],
   "source": [
    "for dataset in all_data:\n",
    "    dataset['Familysize'] = dataset[\"SibSp\"] + dataset[\"Parch\"] + 1\n",
    "print(train[['Familysize','Survived']].groupby(['Familysize'],as_index=False).mean())"
   ]
  },
  {
   "cell_type": "code",
   "execution_count": 22,
   "metadata": {
    "execution": {
     "iopub.execute_input": "2021-02-19T19:13:07.811200Z",
     "iopub.status.busy": "2021-02-19T19:13:07.810177Z",
     "iopub.status.idle": "2021-02-19T19:13:08.104478Z",
     "shell.execute_reply": "2021-02-19T19:13:08.103887Z"
    },
    "papermill": {
     "duration": 0.400535,
     "end_time": "2021-02-19T19:13:08.104624",
     "exception": false,
     "start_time": "2021-02-19T19:13:07.704089",
     "status": "completed"
    },
    "tags": []
   },
   "outputs": [
    {
     "name": "stdout",
     "output_type": "stream",
     "text": [
      "Survived      0    1\n",
      "Familysize          \n",
      "1           374  163\n",
      "2            72   89\n",
      "3            43   59\n",
      "4             8   21\n",
      "5            12    3\n",
      "6            19    3\n",
      "7             8    4\n",
      "8             6    0\n",
      "11            7    0\n"
     ]
    },
    {
     "data": {
      "image/png": "[encoded data removed]",
      "text/plain": [
       "<Figure size 1080x432 with 1 Axes>"
      ]
     },
     "metadata": {
      "needs_background": "light"
     },
     "output_type": "display_data"
    }
   ],
   "source": [
    "print(pd.crosstab(train.Familysize, train.Survived))\n",
    "\n",
    "plt.figure(figsize=(15,6))\n",
    "sns.countplot(x = 'Familysize', hue = 'Survived', data = train)\n",
    "plt.xlabel('Familysize', fontsize = 20)\n",
    "plt.ylabel('Survived', fontsize = 20)\n",
    "plt.title('Family size survived count', fontsize = 25)\n",
    "plt.xticks(rotation = 80)\n",
    "plt.show()"
   ]
  },
  {
   "cell_type": "markdown",
   "metadata": {
    "papermill": {
     "duration": 0.098067,
     "end_time": "2021-02-19T19:13:08.303851",
     "exception": false,
     "start_time": "2021-02-19T19:13:08.205784",
     "status": "completed"
    },
    "tags": []
   },
   "source": [
    "Family size with 4 have the maximum probability with survival"
   ]
  },
  {
   "cell_type": "code",
   "execution_count": 23,
   "metadata": {
    "execution": {
     "iopub.execute_input": "2021-02-19T19:13:08.504155Z",
     "iopub.status.busy": "2021-02-19T19:13:08.503419Z",
     "iopub.status.idle": "2021-02-19T19:13:08.506820Z",
     "shell.execute_reply": "2021-02-19T19:13:08.506228Z"
    },
    "papermill": {
     "duration": 0.105368,
     "end_time": "2021-02-19T19:13:08.506971",
     "exception": false,
     "start_time": "2021-02-19T19:13:08.401603",
     "status": "completed"
    },
    "tags": []
   },
   "outputs": [],
   "source": [
    "### since familysize variable is created lets drop SibSp and Parch varaible"
   ]
  },
  {
   "cell_type": "code",
   "execution_count": 24,
   "metadata": {
    "execution": {
     "iopub.execute_input": "2021-02-19T19:13:08.710699Z",
     "iopub.status.busy": "2021-02-19T19:13:08.709714Z",
     "iopub.status.idle": "2021-02-19T19:13:08.712661Z",
     "shell.execute_reply": "2021-02-19T19:13:08.713166Z"
    },
    "papermill": {
     "duration": 0.108018,
     "end_time": "2021-02-19T19:13:08.713362",
     "exception": false,
     "start_time": "2021-02-19T19:13:08.605344",
     "status": "completed"
    },
    "tags": []
   },
   "outputs": [],
   "source": [
    "train.head()\n",
    "train.drop(labels= ['SibSp','Parch'], axis=1, inplace = True)"
   ]
  },
  {
   "cell_type": "code",
   "execution_count": 25,
   "metadata": {
    "execution": {
     "iopub.execute_input": "2021-02-19T19:13:08.920635Z",
     "iopub.status.busy": "2021-02-19T19:13:08.919962Z",
     "iopub.status.idle": "2021-02-19T19:13:08.933488Z",
     "shell.execute_reply": "2021-02-19T19:13:08.933966Z"
    },
    "papermill": {
     "duration": 0.119574,
     "end_time": "2021-02-19T19:13:08.934163",
     "exception": false,
     "start_time": "2021-02-19T19:13:08.814589",
     "status": "completed"
    },
    "tags": []
   },
   "outputs": [
    {
     "data": {
      "text/html": [
       "<div>\n",
       "<style scoped>\n",
       "    .dataframe tbody tr th:only-of-type {\n",
       "        vertical-align: middle;\n",
       "    }\n",
       "\n",
       "    .dataframe tbody tr th {\n",
       "        vertical-align: top;\n",
       "    }\n",
       "\n",
       "    .dataframe thead th {\n",
       "        text-align: right;\n",
       "    }\n",
       "</style>\n",
       "<table border=\"1\" class=\"dataframe\">\n",
       "  <thead>\n",
       "    <tr style=\"text-align: right;\">\n",
       "      <th></th>\n",
       "      <th>PassengerId</th>\n",
       "      <th>Survived</th>\n",
       "      <th>Pclass</th>\n",
       "      <th>Name</th>\n",
       "      <th>Sex</th>\n",
       "      <th>Age</th>\n",
       "      <th>Ticket</th>\n",
       "      <th>Fare</th>\n",
       "      <th>Cabin</th>\n",
       "      <th>Embarked</th>\n",
       "      <th>Familysize</th>\n",
       "    </tr>\n",
       "  </thead>\n",
       "  <tbody>\n",
       "    <tr>\n",
       "      <th>0</th>\n",
       "      <td>1</td>\n",
       "      <td>0</td>\n",
       "      <td>3</td>\n",
       "      <td>Braund, Mr. Owen Harris</td>\n",
       "      <td>male</td>\n",
       "      <td>22.0</td>\n",
       "      <td>A/5 21171</td>\n",
       "      <td>7.2500</td>\n",
       "      <td>NaN</td>\n",
       "      <td>S</td>\n",
       "      <td>2</td>\n",
       "    </tr>\n",
       "    <tr>\n",
       "      <th>1</th>\n",
       "      <td>2</td>\n",
       "      <td>1</td>\n",
       "      <td>1</td>\n",
       "      <td>Cumings, Mrs. John Bradley (Florence Briggs Th...</td>\n",
       "      <td>female</td>\n",
       "      <td>38.0</td>\n",
       "      <td>PC 17599</td>\n",
       "      <td>71.2833</td>\n",
       "      <td>C85</td>\n",
       "      <td>C</td>\n",
       "      <td>2</td>\n",
       "    </tr>\n",
       "    <tr>\n",
       "      <th>2</th>\n",
       "      <td>3</td>\n",
       "      <td>1</td>\n",
       "      <td>3</td>\n",
       "      <td>Heikkinen, Miss. Laina</td>\n",
       "      <td>female</td>\n",
       "      <td>26.0</td>\n",
       "      <td>STON/O2. 3101282</td>\n",
       "      <td>7.9250</td>\n",
       "      <td>NaN</td>\n",
       "      <td>S</td>\n",
       "      <td>1</td>\n",
       "    </tr>\n",
       "    <tr>\n",
       "      <th>3</th>\n",
       "      <td>4</td>\n",
       "      <td>1</td>\n",
       "      <td>1</td>\n",
       "      <td>Futrelle, Mrs. Jacques Heath (Lily May Peel)</td>\n",
       "      <td>female</td>\n",
       "      <td>35.0</td>\n",
       "      <td>113803</td>\n",
       "      <td>53.1000</td>\n",
       "      <td>C123</td>\n",
       "      <td>S</td>\n",
       "      <td>2</td>\n",
       "    </tr>\n",
       "    <tr>\n",
       "      <th>4</th>\n",
       "      <td>5</td>\n",
       "      <td>0</td>\n",
       "      <td>3</td>\n",
       "      <td>Allen, Mr. William Henry</td>\n",
       "      <td>male</td>\n",
       "      <td>35.0</td>\n",
       "      <td>373450</td>\n",
       "      <td>8.0500</td>\n",
       "      <td>NaN</td>\n",
       "      <td>S</td>\n",
       "      <td>1</td>\n",
       "    </tr>\n",
       "  </tbody>\n",
       "</table>\n",
       "</div>"
      ],
      "text/plain": [
       "   PassengerId  Survived  Pclass  \\\n",
       "0            1         0       3   \n",
       "1            2         1       1   \n",
       "2            3         1       3   \n",
       "3            4         1       1   \n",
       "4            5         0       3   \n",
       "\n",
       "                                                Name     Sex   Age  \\\n",
       "0                            Braund, Mr. Owen Harris    male  22.0   \n",
       "1  Cumings, Mrs. John Bradley (Florence Briggs Th...  female  38.0   \n",
       "2                             Heikkinen, Miss. Laina  female  26.0   \n",
       "3       Futrelle, Mrs. Jacques Heath (Lily May Peel)  female  35.0   \n",
       "4                           Allen, Mr. William Henry    male  35.0   \n",
       "\n",
       "             Ticket     Fare Cabin Embarked  Familysize  \n",
       "0         A/5 21171   7.2500   NaN        S           2  \n",
       "1          PC 17599  71.2833   C85        C           2  \n",
       "2  STON/O2. 3101282   7.9250   NaN        S           1  \n",
       "3            113803  53.1000  C123        S           2  \n",
       "4            373450   8.0500   NaN        S           1  "
      ]
     },
     "execution_count": 25,
     "metadata": {},
     "output_type": "execute_result"
    }
   ],
   "source": [
    "train.head()"
   ]
  },
  {
   "cell_type": "code",
   "execution_count": 26,
   "metadata": {
    "execution": {
     "iopub.execute_input": "2021-02-19T19:13:09.138667Z",
     "iopub.status.busy": "2021-02-19T19:13:09.137882Z",
     "iopub.status.idle": "2021-02-19T19:13:09.156461Z",
     "shell.execute_reply": "2021-02-19T19:13:09.155730Z"
    },
    "papermill": {
     "duration": 0.122436,
     "end_time": "2021-02-19T19:13:09.156608",
     "exception": false,
     "start_time": "2021-02-19T19:13:09.034172",
     "status": "completed"
    },
    "tags": []
   },
   "outputs": [
    {
     "data": {
      "text/html": [
       "<div>\n",
       "<style scoped>\n",
       "    .dataframe tbody tr th:only-of-type {\n",
       "        vertical-align: middle;\n",
       "    }\n",
       "\n",
       "    .dataframe tbody tr th {\n",
       "        vertical-align: top;\n",
       "    }\n",
       "\n",
       "    .dataframe thead th {\n",
       "        text-align: right;\n",
       "    }\n",
       "</style>\n",
       "<table border=\"1\" class=\"dataframe\">\n",
       "  <thead>\n",
       "    <tr style=\"text-align: right;\">\n",
       "      <th></th>\n",
       "      <th>PassengerId</th>\n",
       "      <th>Pclass</th>\n",
       "      <th>Name</th>\n",
       "      <th>Sex</th>\n",
       "      <th>Age</th>\n",
       "      <th>Ticket</th>\n",
       "      <th>Fare</th>\n",
       "      <th>Cabin</th>\n",
       "      <th>Embarked</th>\n",
       "      <th>Familysize</th>\n",
       "    </tr>\n",
       "  </thead>\n",
       "  <tbody>\n",
       "    <tr>\n",
       "      <th>0</th>\n",
       "      <td>892</td>\n",
       "      <td>3</td>\n",
       "      <td>Kelly, Mr. James</td>\n",
       "      <td>male</td>\n",
       "      <td>34.5</td>\n",
       "      <td>330911</td>\n",
       "      <td>7.8292</td>\n",
       "      <td>NaN</td>\n",
       "      <td>Q</td>\n",
       "      <td>1</td>\n",
       "    </tr>\n",
       "    <tr>\n",
       "      <th>1</th>\n",
       "      <td>893</td>\n",
       "      <td>3</td>\n",
       "      <td>Wilkes, Mrs. James (Ellen Needs)</td>\n",
       "      <td>female</td>\n",
       "      <td>47.0</td>\n",
       "      <td>363272</td>\n",
       "      <td>7.0000</td>\n",
       "      <td>NaN</td>\n",
       "      <td>S</td>\n",
       "      <td>2</td>\n",
       "    </tr>\n",
       "    <tr>\n",
       "      <th>2</th>\n",
       "      <td>894</td>\n",
       "      <td>2</td>\n",
       "      <td>Myles, Mr. Thomas Francis</td>\n",
       "      <td>male</td>\n",
       "      <td>62.0</td>\n",
       "      <td>240276</td>\n",
       "      <td>9.6875</td>\n",
       "      <td>NaN</td>\n",
       "      <td>Q</td>\n",
       "      <td>1</td>\n",
       "    </tr>\n",
       "    <tr>\n",
       "      <th>3</th>\n",
       "      <td>895</td>\n",
       "      <td>3</td>\n",
       "      <td>Wirz, Mr. Albert</td>\n",
       "      <td>male</td>\n",
       "      <td>27.0</td>\n",
       "      <td>315154</td>\n",
       "      <td>8.6625</td>\n",
       "      <td>NaN</td>\n",
       "      <td>S</td>\n",
       "      <td>1</td>\n",
       "    </tr>\n",
       "    <tr>\n",
       "      <th>4</th>\n",
       "      <td>896</td>\n",
       "      <td>3</td>\n",
       "      <td>Hirvonen, Mrs. Alexander (Helga E Lindqvist)</td>\n",
       "      <td>female</td>\n",
       "      <td>22.0</td>\n",
       "      <td>3101298</td>\n",
       "      <td>12.2875</td>\n",
       "      <td>NaN</td>\n",
       "      <td>S</td>\n",
       "      <td>3</td>\n",
       "    </tr>\n",
       "  </tbody>\n",
       "</table>\n",
       "</div>"
      ],
      "text/plain": [
       "   PassengerId  Pclass                                          Name     Sex  \\\n",
       "0          892       3                              Kelly, Mr. James    male   \n",
       "1          893       3              Wilkes, Mrs. James (Ellen Needs)  female   \n",
       "2          894       2                     Myles, Mr. Thomas Francis    male   \n",
       "3          895       3                              Wirz, Mr. Albert    male   \n",
       "4          896       3  Hirvonen, Mrs. Alexander (Helga E Lindqvist)  female   \n",
       "\n",
       "    Age   Ticket     Fare Cabin Embarked  Familysize  \n",
       "0  34.5   330911   7.8292   NaN        Q           1  \n",
       "1  47.0   363272   7.0000   NaN        S           2  \n",
       "2  62.0   240276   9.6875   NaN        Q           1  \n",
       "3  27.0   315154   8.6625   NaN        S           1  \n",
       "4  22.0  3101298  12.2875   NaN        S           3  "
      ]
     },
     "execution_count": 26,
     "metadata": {},
     "output_type": "execute_result"
    }
   ],
   "source": [
    "test = test.drop(labels=['SibSp','Parch'], axis = 1)\n",
    "test.head()"
   ]
  },
  {
   "cell_type": "code",
   "execution_count": 27,
   "metadata": {
    "execution": {
     "iopub.execute_input": "2021-02-19T19:13:09.359405Z",
     "iopub.status.busy": "2021-02-19T19:13:09.358693Z",
     "iopub.status.idle": "2021-02-19T19:13:09.362252Z",
     "shell.execute_reply": "2021-02-19T19:13:09.362785Z"
    },
    "papermill": {
     "duration": 0.107024,
     "end_time": "2021-02-19T19:13:09.362977",
     "exception": false,
     "start_time": "2021-02-19T19:13:09.255953",
     "status": "completed"
    },
    "tags": []
   },
   "outputs": [],
   "source": [
    "all_data = [train, test]"
   ]
  },
  {
   "cell_type": "markdown",
   "metadata": {
    "papermill": {
     "duration": 0.099615,
     "end_time": "2021-02-19T19:13:09.562150",
     "exception": false,
     "start_time": "2021-02-19T19:13:09.462535",
     "status": "completed"
    },
    "tags": []
   },
   "source": [
    "# **Age**"
   ]
  },
  {
   "cell_type": "code",
   "execution_count": 28,
   "metadata": {
    "execution": {
     "iopub.execute_input": "2021-02-19T19:13:09.767453Z",
     "iopub.status.busy": "2021-02-19T19:13:09.766440Z",
     "iopub.status.idle": "2021-02-19T19:13:10.178381Z",
     "shell.execute_reply": "2021-02-19T19:13:10.178878Z"
    },
    "papermill": {
     "duration": 0.516011,
     "end_time": "2021-02-19T19:13:10.179166",
     "exception": false,
     "start_time": "2021-02-19T19:13:09.663155",
     "status": "completed"
    },
    "tags": []
   },
   "outputs": [
    {
     "data": {
      "text/plain": [
       "<Figure size 1080x432 with 0 Axes>"
      ]
     },
     "metadata": {},
     "output_type": "display_data"
    },
    {
     "data": {
      "image/png": "[encoded data removed]",
      "text/plain": [
       "<Figure size 432x216 with 2 Axes>"
      ]
     },
     "metadata": {
      "needs_background": "light"
     },
     "output_type": "display_data"
    }
   ],
   "source": [
    "plt.figure(figsize=(15,6))\n",
    "grid = sns.FacetGrid(train, col = 'Survived')\n",
    "grid.map(plt.hist, 'Age', bins = 20)\n",
    "plt.show()"
   ]
  },
  {
   "cell_type": "markdown",
   "metadata": {
    "papermill": {
     "duration": 0.100866,
     "end_time": "2021-02-19T19:13:10.381393",
     "exception": false,
     "start_time": "2021-02-19T19:13:10.280527",
     "status": "completed"
    },
    "tags": []
   },
   "source": [
    "From the visalisation it is seen that age group below 5 have more survival rate Age group between 15 - 25 have low survival rate"
   ]
  },
  {
   "cell_type": "markdown",
   "metadata": {
    "papermill": {
     "duration": 0.102419,
     "end_time": "2021-02-19T19:13:10.585494",
     "exception": false,
     "start_time": "2021-02-19T19:13:10.483075",
     "status": "completed"
    },
    "tags": []
   },
   "source": [
    "# **Embarked**"
   ]
  },
  {
   "cell_type": "code",
   "execution_count": 29,
   "metadata": {
    "execution": {
     "iopub.execute_input": "2021-02-19T19:13:10.805002Z",
     "iopub.status.busy": "2021-02-19T19:13:10.804128Z",
     "iopub.status.idle": "2021-02-19T19:13:10.808861Z",
     "shell.execute_reply": "2021-02-19T19:13:10.807938Z"
    },
    "papermill": {
     "duration": 0.12146,
     "end_time": "2021-02-19T19:13:10.809088",
     "exception": false,
     "start_time": "2021-02-19T19:13:10.687628",
     "status": "completed"
    },
    "tags": []
   },
   "outputs": [
    {
     "name": "stdout",
     "output_type": "stream",
     "text": [
      "  Embarked  Survived\n",
      "0        C  0.553571\n",
      "1        Q  0.389610\n",
      "2        S  0.336957\n"
     ]
    }
   ],
   "source": [
    "print(train[['Embarked', 'Survived']].groupby(['Embarked'], as_index = False).mean())"
   ]
  },
  {
   "cell_type": "code",
   "execution_count": 30,
   "metadata": {
    "execution": {
     "iopub.execute_input": "2021-02-19T19:13:11.025532Z",
     "iopub.status.busy": "2021-02-19T19:13:11.024683Z",
     "iopub.status.idle": "2021-02-19T19:13:11.042766Z",
     "shell.execute_reply": "2021-02-19T19:13:11.042134Z"
    },
    "papermill": {
     "duration": 0.129121,
     "end_time": "2021-02-19T19:13:11.042916",
     "exception": false,
     "start_time": "2021-02-19T19:13:10.913795",
     "status": "completed"
    },
    "tags": []
   },
   "outputs": [
    {
     "name": "stdout",
     "output_type": "stream",
     "text": [
      "Survived    0    1\n",
      "Embarked          \n",
      "C          75   93\n",
      "Q          47   30\n",
      "S         427  217\n"
     ]
    }
   ],
   "source": [
    "print(pd.crosstab(train.Embarked, train.Survived))"
   ]
  },
  {
   "cell_type": "code",
   "execution_count": 31,
   "metadata": {
    "execution": {
     "iopub.execute_input": "2021-02-19T19:13:11.260010Z",
     "iopub.status.busy": "2021-02-19T19:13:11.258963Z",
     "iopub.status.idle": "2021-02-19T19:13:11.564845Z",
     "shell.execute_reply": "2021-02-19T19:13:11.564326Z"
    },
    "papermill": {
     "duration": 0.419893,
     "end_time": "2021-02-19T19:13:11.565001",
     "exception": false,
     "start_time": "2021-02-19T19:13:11.145108",
     "status": "completed"
    },
    "tags": []
   },
   "outputs": [
    {
     "data": {
      "image/png": "[encoded data removed]",
      "text/plain": [
       "<Figure size 1080x432 with 1 Axes>"
      ]
     },
     "metadata": {
      "needs_background": "light"
     },
     "output_type": "display_data"
    }
   ],
   "source": [
    "plt.figure(figsize=(15,6))\n",
    "sns.countplot(data = train, x = 'Embarked', hue = 'Survived')\n",
    "plt.xlabel('Port of Embarkation', fontsize = 20)\n",
    "plt.ylabel(\"Survival counr\", fontsize = 20)\n",
    "plt.title('Embarked survival count', fontsize = 25)\n",
    "plt.xticks(rotation = 80)\n",
    "plt.show()"
   ]
  },
  {
   "cell_type": "markdown",
   "metadata": {
    "papermill": {
     "duration": 0.102883,
     "end_time": "2021-02-19T19:13:11.770837",
     "exception": false,
     "start_time": "2021-02-19T19:13:11.667954",
     "status": "completed"
    },
    "tags": []
   },
   "source": [
    "#  **Missing value inputation and data cleaning**"
   ]
  },
  {
   "cell_type": "code",
   "execution_count": 32,
   "metadata": {
    "execution": {
     "iopub.execute_input": "2021-02-19T19:13:12.036703Z",
     "iopub.status.busy": "2021-02-19T19:13:12.035886Z",
     "iopub.status.idle": "2021-02-19T19:13:12.040082Z",
     "shell.execute_reply": "2021-02-19T19:13:12.039422Z"
    },
    "papermill": {
     "duration": 0.131608,
     "end_time": "2021-02-19T19:13:12.040242",
     "exception": false,
     "start_time": "2021-02-19T19:13:11.908634",
     "status": "completed"
    },
    "tags": []
   },
   "outputs": [
    {
     "data": {
      "text/html": [
       "<div>\n",
       "<style scoped>\n",
       "    .dataframe tbody tr th:only-of-type {\n",
       "        vertical-align: middle;\n",
       "    }\n",
       "\n",
       "    .dataframe tbody tr th {\n",
       "        vertical-align: top;\n",
       "    }\n",
       "\n",
       "    .dataframe thead th {\n",
       "        text-align: right;\n",
       "    }\n",
       "</style>\n",
       "<table border=\"1\" class=\"dataframe\">\n",
       "  <thead>\n",
       "    <tr style=\"text-align: right;\">\n",
       "      <th></th>\n",
       "      <th>PassengerId</th>\n",
       "      <th>Survived</th>\n",
       "      <th>Pclass</th>\n",
       "      <th>Name</th>\n",
       "      <th>Sex</th>\n",
       "      <th>Age</th>\n",
       "      <th>Ticket</th>\n",
       "      <th>Fare</th>\n",
       "      <th>Cabin</th>\n",
       "      <th>Embarked</th>\n",
       "      <th>Familysize</th>\n",
       "    </tr>\n",
       "  </thead>\n",
       "  <tbody>\n",
       "    <tr>\n",
       "      <th>0</th>\n",
       "      <td>1</td>\n",
       "      <td>0</td>\n",
       "      <td>3</td>\n",
       "      <td>Braund, Mr. Owen Harris</td>\n",
       "      <td>male</td>\n",
       "      <td>22.0</td>\n",
       "      <td>A/5 21171</td>\n",
       "      <td>7.2500</td>\n",
       "      <td>NaN</td>\n",
       "      <td>S</td>\n",
       "      <td>2</td>\n",
       "    </tr>\n",
       "    <tr>\n",
       "      <th>1</th>\n",
       "      <td>2</td>\n",
       "      <td>1</td>\n",
       "      <td>1</td>\n",
       "      <td>Cumings, Mrs. John Bradley (Florence Briggs Th...</td>\n",
       "      <td>female</td>\n",
       "      <td>38.0</td>\n",
       "      <td>PC 17599</td>\n",
       "      <td>71.2833</td>\n",
       "      <td>C85</td>\n",
       "      <td>C</td>\n",
       "      <td>2</td>\n",
       "    </tr>\n",
       "    <tr>\n",
       "      <th>2</th>\n",
       "      <td>3</td>\n",
       "      <td>1</td>\n",
       "      <td>3</td>\n",
       "      <td>Heikkinen, Miss. Laina</td>\n",
       "      <td>female</td>\n",
       "      <td>26.0</td>\n",
       "      <td>STON/O2. 3101282</td>\n",
       "      <td>7.9250</td>\n",
       "      <td>NaN</td>\n",
       "      <td>S</td>\n",
       "      <td>1</td>\n",
       "    </tr>\n",
       "    <tr>\n",
       "      <th>3</th>\n",
       "      <td>4</td>\n",
       "      <td>1</td>\n",
       "      <td>1</td>\n",
       "      <td>Futrelle, Mrs. Jacques Heath (Lily May Peel)</td>\n",
       "      <td>female</td>\n",
       "      <td>35.0</td>\n",
       "      <td>113803</td>\n",
       "      <td>53.1000</td>\n",
       "      <td>C123</td>\n",
       "      <td>S</td>\n",
       "      <td>2</td>\n",
       "    </tr>\n",
       "    <tr>\n",
       "      <th>4</th>\n",
       "      <td>5</td>\n",
       "      <td>0</td>\n",
       "      <td>3</td>\n",
       "      <td>Allen, Mr. William Henry</td>\n",
       "      <td>male</td>\n",
       "      <td>35.0</td>\n",
       "      <td>373450</td>\n",
       "      <td>8.0500</td>\n",
       "      <td>NaN</td>\n",
       "      <td>S</td>\n",
       "      <td>1</td>\n",
       "    </tr>\n",
       "  </tbody>\n",
       "</table>\n",
       "</div>"
      ],
      "text/plain": [
       "   PassengerId  Survived  Pclass  \\\n",
       "0            1         0       3   \n",
       "1            2         1       1   \n",
       "2            3         1       3   \n",
       "3            4         1       1   \n",
       "4            5         0       3   \n",
       "\n",
       "                                                Name     Sex   Age  \\\n",
       "0                            Braund, Mr. Owen Harris    male  22.0   \n",
       "1  Cumings, Mrs. John Bradley (Florence Briggs Th...  female  38.0   \n",
       "2                             Heikkinen, Miss. Laina  female  26.0   \n",
       "3       Futrelle, Mrs. Jacques Heath (Lily May Peel)  female  35.0   \n",
       "4                           Allen, Mr. William Henry    male  35.0   \n",
       "\n",
       "             Ticket     Fare Cabin Embarked  Familysize  \n",
       "0         A/5 21171   7.2500   NaN        S           2  \n",
       "1          PC 17599  71.2833   C85        C           2  \n",
       "2  STON/O2. 3101282   7.9250   NaN        S           1  \n",
       "3            113803  53.1000  C123        S           2  \n",
       "4            373450   8.0500   NaN        S           1  "
      ]
     },
     "execution_count": 32,
     "metadata": {},
     "output_type": "execute_result"
    }
   ],
   "source": [
    "train.head()"
   ]
  },
  {
   "cell_type": "code",
   "execution_count": 33,
   "metadata": {
    "execution": {
     "iopub.execute_input": "2021-02-19T19:13:12.260483Z",
     "iopub.status.busy": "2021-02-19T19:13:12.259443Z",
     "iopub.status.idle": "2021-02-19T19:13:12.264379Z",
     "shell.execute_reply": "2021-02-19T19:13:12.263641Z"
    },
    "papermill": {
     "duration": 0.119297,
     "end_time": "2021-02-19T19:13:12.264523",
     "exception": false,
     "start_time": "2021-02-19T19:13:12.145226",
     "status": "completed"
    },
    "tags": []
   },
   "outputs": [
    {
     "data": {
      "text/plain": [
       "Age         177\n",
       "Cabin       687\n",
       "Embarked      2\n",
       "dtype: int64"
      ]
     },
     "execution_count": 33,
     "metadata": {},
     "output_type": "execute_result"
    }
   ],
   "source": [
    "train.isnull().sum()[train.isnull().any()]"
   ]
  },
  {
   "cell_type": "code",
   "execution_count": 34,
   "metadata": {
    "execution": {
     "iopub.execute_input": "2021-02-19T19:13:12.483876Z",
     "iopub.status.busy": "2021-02-19T19:13:12.482946Z",
     "iopub.status.idle": "2021-02-19T19:13:12.487970Z",
     "shell.execute_reply": "2021-02-19T19:13:12.487425Z"
    },
    "papermill": {
     "duration": 0.120235,
     "end_time": "2021-02-19T19:13:12.488151",
     "exception": false,
     "start_time": "2021-02-19T19:13:12.367916",
     "status": "completed"
    },
    "tags": []
   },
   "outputs": [
    {
     "data": {
      "text/plain": [
       "Age         19.865320\n",
       "Cabin       77.104377\n",
       "Embarked     0.224467\n",
       "dtype: float64"
      ]
     },
     "execution_count": 34,
     "metadata": {},
     "output_type": "execute_result"
    }
   ],
   "source": [
    "train.isnull().sum()[train.isnull().any()] / train.shape[0] * 100"
   ]
  },
  {
   "cell_type": "code",
   "execution_count": 35,
   "metadata": {
    "execution": {
     "iopub.execute_input": "2021-02-19T19:13:12.704634Z",
     "iopub.status.busy": "2021-02-19T19:13:12.703866Z",
     "iopub.status.idle": "2021-02-19T19:13:12.707975Z",
     "shell.execute_reply": "2021-02-19T19:13:12.707323Z"
    },
    "papermill": {
     "duration": 0.115193,
     "end_time": "2021-02-19T19:13:12.708197",
     "exception": false,
     "start_time": "2021-02-19T19:13:12.593004",
     "status": "completed"
    },
    "tags": []
   },
   "outputs": [],
   "source": [
    "## lets drop the cabin from both the test and train data"
   ]
  },
  {
   "cell_type": "code",
   "execution_count": 36,
   "metadata": {
    "execution": {
     "iopub.execute_input": "2021-02-19T19:13:12.927942Z",
     "iopub.status.busy": "2021-02-19T19:13:12.927286Z",
     "iopub.status.idle": "2021-02-19T19:13:12.930146Z",
     "shell.execute_reply": "2021-02-19T19:13:12.929438Z"
    },
    "papermill": {
     "duration": 0.11643,
     "end_time": "2021-02-19T19:13:12.930306",
     "exception": false,
     "start_time": "2021-02-19T19:13:12.813876",
     "status": "completed"
    },
    "tags": []
   },
   "outputs": [],
   "source": [
    "train.drop(labels='Cabin', axis=1, inplace = True)"
   ]
  },
  {
   "cell_type": "code",
   "execution_count": 37,
   "metadata": {
    "execution": {
     "iopub.execute_input": "2021-02-19T19:13:13.148365Z",
     "iopub.status.busy": "2021-02-19T19:13:13.147528Z",
     "iopub.status.idle": "2021-02-19T19:13:13.150516Z",
     "shell.execute_reply": "2021-02-19T19:13:13.149913Z"
    },
    "papermill": {
     "duration": 0.114824,
     "end_time": "2021-02-19T19:13:13.150664",
     "exception": false,
     "start_time": "2021-02-19T19:13:13.035840",
     "status": "completed"
    },
    "tags": []
   },
   "outputs": [],
   "source": [
    "test.drop(labels='Cabin', axis=1, inplace = True)"
   ]
  },
  {
   "cell_type": "code",
   "execution_count": 38,
   "metadata": {
    "execution": {
     "iopub.execute_input": "2021-02-19T19:13:13.367918Z",
     "iopub.status.busy": "2021-02-19T19:13:13.366872Z",
     "iopub.status.idle": "2021-02-19T19:13:13.382554Z",
     "shell.execute_reply": "2021-02-19T19:13:13.383081Z"
    },
    "papermill": {
     "duration": 0.126414,
     "end_time": "2021-02-19T19:13:13.383263",
     "exception": false,
     "start_time": "2021-02-19T19:13:13.256849",
     "status": "completed"
    },
    "tags": []
   },
   "outputs": [
    {
     "data": {
      "text/html": [
       "<div>\n",
       "<style scoped>\n",
       "    .dataframe tbody tr th:only-of-type {\n",
       "        vertical-align: middle;\n",
       "    }\n",
       "\n",
       "    .dataframe tbody tr th {\n",
       "        vertical-align: top;\n",
       "    }\n",
       "\n",
       "    .dataframe thead th {\n",
       "        text-align: right;\n",
       "    }\n",
       "</style>\n",
       "<table border=\"1\" class=\"dataframe\">\n",
       "  <thead>\n",
       "    <tr style=\"text-align: right;\">\n",
       "      <th></th>\n",
       "      <th>PassengerId</th>\n",
       "      <th>Survived</th>\n",
       "      <th>Pclass</th>\n",
       "      <th>Name</th>\n",
       "      <th>Sex</th>\n",
       "      <th>Age</th>\n",
       "      <th>Ticket</th>\n",
       "      <th>Fare</th>\n",
       "      <th>Embarked</th>\n",
       "      <th>Familysize</th>\n",
       "    </tr>\n",
       "  </thead>\n",
       "  <tbody>\n",
       "    <tr>\n",
       "      <th>0</th>\n",
       "      <td>1</td>\n",
       "      <td>0</td>\n",
       "      <td>3</td>\n",
       "      <td>Braund, Mr. Owen Harris</td>\n",
       "      <td>male</td>\n",
       "      <td>22.0</td>\n",
       "      <td>A/5 21171</td>\n",
       "      <td>7.2500</td>\n",
       "      <td>S</td>\n",
       "      <td>2</td>\n",
       "    </tr>\n",
       "    <tr>\n",
       "      <th>1</th>\n",
       "      <td>2</td>\n",
       "      <td>1</td>\n",
       "      <td>1</td>\n",
       "      <td>Cumings, Mrs. John Bradley (Florence Briggs Th...</td>\n",
       "      <td>female</td>\n",
       "      <td>38.0</td>\n",
       "      <td>PC 17599</td>\n",
       "      <td>71.2833</td>\n",
       "      <td>C</td>\n",
       "      <td>2</td>\n",
       "    </tr>\n",
       "    <tr>\n",
       "      <th>2</th>\n",
       "      <td>3</td>\n",
       "      <td>1</td>\n",
       "      <td>3</td>\n",
       "      <td>Heikkinen, Miss. Laina</td>\n",
       "      <td>female</td>\n",
       "      <td>26.0</td>\n",
       "      <td>STON/O2. 3101282</td>\n",
       "      <td>7.9250</td>\n",
       "      <td>S</td>\n",
       "      <td>1</td>\n",
       "    </tr>\n",
       "    <tr>\n",
       "      <th>3</th>\n",
       "      <td>4</td>\n",
       "      <td>1</td>\n",
       "      <td>1</td>\n",
       "      <td>Futrelle, Mrs. Jacques Heath (Lily May Peel)</td>\n",
       "      <td>female</td>\n",
       "      <td>35.0</td>\n",
       "      <td>113803</td>\n",
       "      <td>53.1000</td>\n",
       "      <td>S</td>\n",
       "      <td>2</td>\n",
       "    </tr>\n",
       "    <tr>\n",
       "      <th>4</th>\n",
       "      <td>5</td>\n",
       "      <td>0</td>\n",
       "      <td>3</td>\n",
       "      <td>Allen, Mr. William Henry</td>\n",
       "      <td>male</td>\n",
       "      <td>35.0</td>\n",
       "      <td>373450</td>\n",
       "      <td>8.0500</td>\n",
       "      <td>S</td>\n",
       "      <td>1</td>\n",
       "    </tr>\n",
       "  </tbody>\n",
       "</table>\n",
       "</div>"
      ],
      "text/plain": [
       "   PassengerId  Survived  Pclass  \\\n",
       "0            1         0       3   \n",
       "1            2         1       1   \n",
       "2            3         1       3   \n",
       "3            4         1       1   \n",
       "4            5         0       3   \n",
       "\n",
       "                                                Name     Sex   Age  \\\n",
       "0                            Braund, Mr. Owen Harris    male  22.0   \n",
       "1  Cumings, Mrs. John Bradley (Florence Briggs Th...  female  38.0   \n",
       "2                             Heikkinen, Miss. Laina  female  26.0   \n",
       "3       Futrelle, Mrs. Jacques Heath (Lily May Peel)  female  35.0   \n",
       "4                           Allen, Mr. William Henry    male  35.0   \n",
       "\n",
       "             Ticket     Fare Embarked  Familysize  \n",
       "0         A/5 21171   7.2500        S           2  \n",
       "1          PC 17599  71.2833        C           2  \n",
       "2  STON/O2. 3101282   7.9250        S           1  \n",
       "3            113803  53.1000        S           2  \n",
       "4            373450   8.0500        S           1  "
      ]
     },
     "execution_count": 38,
     "metadata": {},
     "output_type": "execute_result"
    }
   ],
   "source": [
    "train.head()"
   ]
  },
  {
   "cell_type": "code",
   "execution_count": 39,
   "metadata": {
    "execution": {
     "iopub.execute_input": "2021-02-19T19:13:13.601241Z",
     "iopub.status.busy": "2021-02-19T19:13:13.600493Z",
     "iopub.status.idle": "2021-02-19T19:13:13.617164Z",
     "shell.execute_reply": "2021-02-19T19:13:13.616312Z"
    },
    "papermill": {
     "duration": 0.12737,
     "end_time": "2021-02-19T19:13:13.617326",
     "exception": false,
     "start_time": "2021-02-19T19:13:13.489956",
     "status": "completed"
    },
    "tags": []
   },
   "outputs": [
    {
     "data": {
      "text/html": [
       "<div>\n",
       "<style scoped>\n",
       "    .dataframe tbody tr th:only-of-type {\n",
       "        vertical-align: middle;\n",
       "    }\n",
       "\n",
       "    .dataframe tbody tr th {\n",
       "        vertical-align: top;\n",
       "    }\n",
       "\n",
       "    .dataframe thead th {\n",
       "        text-align: right;\n",
       "    }\n",
       "</style>\n",
       "<table border=\"1\" class=\"dataframe\">\n",
       "  <thead>\n",
       "    <tr style=\"text-align: right;\">\n",
       "      <th></th>\n",
       "      <th>PassengerId</th>\n",
       "      <th>Pclass</th>\n",
       "      <th>Name</th>\n",
       "      <th>Sex</th>\n",
       "      <th>Age</th>\n",
       "      <th>Ticket</th>\n",
       "      <th>Fare</th>\n",
       "      <th>Embarked</th>\n",
       "      <th>Familysize</th>\n",
       "    </tr>\n",
       "  </thead>\n",
       "  <tbody>\n",
       "    <tr>\n",
       "      <th>0</th>\n",
       "      <td>892</td>\n",
       "      <td>3</td>\n",
       "      <td>Kelly, Mr. James</td>\n",
       "      <td>male</td>\n",
       "      <td>34.5</td>\n",
       "      <td>330911</td>\n",
       "      <td>7.8292</td>\n",
       "      <td>Q</td>\n",
       "      <td>1</td>\n",
       "    </tr>\n",
       "    <tr>\n",
       "      <th>1</th>\n",
       "      <td>893</td>\n",
       "      <td>3</td>\n",
       "      <td>Wilkes, Mrs. James (Ellen Needs)</td>\n",
       "      <td>female</td>\n",
       "      <td>47.0</td>\n",
       "      <td>363272</td>\n",
       "      <td>7.0000</td>\n",
       "      <td>S</td>\n",
       "      <td>2</td>\n",
       "    </tr>\n",
       "    <tr>\n",
       "      <th>2</th>\n",
       "      <td>894</td>\n",
       "      <td>2</td>\n",
       "      <td>Myles, Mr. Thomas Francis</td>\n",
       "      <td>male</td>\n",
       "      <td>62.0</td>\n",
       "      <td>240276</td>\n",
       "      <td>9.6875</td>\n",
       "      <td>Q</td>\n",
       "      <td>1</td>\n",
       "    </tr>\n",
       "    <tr>\n",
       "      <th>3</th>\n",
       "      <td>895</td>\n",
       "      <td>3</td>\n",
       "      <td>Wirz, Mr. Albert</td>\n",
       "      <td>male</td>\n",
       "      <td>27.0</td>\n",
       "      <td>315154</td>\n",
       "      <td>8.6625</td>\n",
       "      <td>S</td>\n",
       "      <td>1</td>\n",
       "    </tr>\n",
       "    <tr>\n",
       "      <th>4</th>\n",
       "      <td>896</td>\n",
       "      <td>3</td>\n",
       "      <td>Hirvonen, Mrs. Alexander (Helga E Lindqvist)</td>\n",
       "      <td>female</td>\n",
       "      <td>22.0</td>\n",
       "      <td>3101298</td>\n",
       "      <td>12.2875</td>\n",
       "      <td>S</td>\n",
       "      <td>3</td>\n",
       "    </tr>\n",
       "  </tbody>\n",
       "</table>\n",
       "</div>"
      ],
      "text/plain": [
       "   PassengerId  Pclass                                          Name     Sex  \\\n",
       "0          892       3                              Kelly, Mr. James    male   \n",
       "1          893       3              Wilkes, Mrs. James (Ellen Needs)  female   \n",
       "2          894       2                     Myles, Mr. Thomas Francis    male   \n",
       "3          895       3                              Wirz, Mr. Albert    male   \n",
       "4          896       3  Hirvonen, Mrs. Alexander (Helga E Lindqvist)  female   \n",
       "\n",
       "    Age   Ticket     Fare Embarked  Familysize  \n",
       "0  34.5   330911   7.8292        Q           1  \n",
       "1  47.0   363272   7.0000        S           2  \n",
       "2  62.0   240276   9.6875        Q           1  \n",
       "3  27.0   315154   8.6625        S           1  \n",
       "4  22.0  3101298  12.2875        S           3  "
      ]
     },
     "execution_count": 39,
     "metadata": {},
     "output_type": "execute_result"
    }
   ],
   "source": [
    "test.head()"
   ]
  },
  {
   "cell_type": "code",
   "execution_count": 40,
   "metadata": {
    "execution": {
     "iopub.execute_input": "2021-02-19T19:13:13.842934Z",
     "iopub.status.busy": "2021-02-19T19:13:13.838497Z",
     "iopub.status.idle": "2021-02-19T19:13:13.846987Z",
     "shell.execute_reply": "2021-02-19T19:13:13.847476Z"
    },
    "papermill": {
     "duration": 0.122104,
     "end_time": "2021-02-19T19:13:13.847656",
     "exception": false,
     "start_time": "2021-02-19T19:13:13.725552",
     "status": "completed"
    },
    "tags": []
   },
   "outputs": [
    {
     "data": {
      "text/plain": [
       "Age         177\n",
       "Embarked      2\n",
       "dtype: int64"
      ]
     },
     "execution_count": 40,
     "metadata": {},
     "output_type": "execute_result"
    }
   ],
   "source": [
    "train.isnull().sum()[train.isnull().any()]"
   ]
  },
  {
   "cell_type": "code",
   "execution_count": 41,
   "metadata": {
    "execution": {
     "iopub.execute_input": "2021-02-19T19:13:14.066417Z",
     "iopub.status.busy": "2021-02-19T19:13:14.065376Z",
     "iopub.status.idle": "2021-02-19T19:13:14.071899Z",
     "shell.execute_reply": "2021-02-19T19:13:14.071306Z"
    },
    "papermill": {
     "duration": 0.117035,
     "end_time": "2021-02-19T19:13:14.072072",
     "exception": false,
     "start_time": "2021-02-19T19:13:13.955037",
     "status": "completed"
    },
    "tags": []
   },
   "outputs": [],
   "source": [
    "train['Age'] = train['Age'].fillna(train['Age'].mean())"
   ]
  },
  {
   "cell_type": "code",
   "execution_count": 42,
   "metadata": {
    "execution": {
     "iopub.execute_input": "2021-02-19T19:13:14.294395Z",
     "iopub.status.busy": "2021-02-19T19:13:14.293406Z",
     "iopub.status.idle": "2021-02-19T19:13:14.308587Z",
     "shell.execute_reply": "2021-02-19T19:13:14.309553Z"
    },
    "papermill": {
     "duration": 0.127465,
     "end_time": "2021-02-19T19:13:14.309794",
     "exception": false,
     "start_time": "2021-02-19T19:13:14.182329",
     "status": "completed"
    },
    "tags": []
   },
   "outputs": [
    {
     "name": "stdout",
     "output_type": "stream",
     "text": [
      "<class 'pandas.core.frame.DataFrame'>\n",
      "RangeIndex: 891 entries, 0 to 890\n",
      "Data columns (total 10 columns):\n",
      " #   Column       Non-Null Count  Dtype  \n",
      "---  ------       --------------  -----  \n",
      " 0   PassengerId  891 non-null    int64  \n",
      " 1   Survived     891 non-null    int64  \n",
      " 2   Pclass       891 non-null    int64  \n",
      " 3   Name         891 non-null    object \n",
      " 4   Sex          891 non-null    object \n",
      " 5   Age          891 non-null    float64\n",
      " 6   Ticket       891 non-null    object \n",
      " 7   Fare         891 non-null    float64\n",
      " 8   Embarked     889 non-null    object \n",
      " 9   Familysize   891 non-null    int64  \n",
      "dtypes: float64(2), int64(4), object(4)\n",
      "memory usage: 69.7+ KB\n"
     ]
    }
   ],
   "source": [
    "train.info()"
   ]
  },
  {
   "cell_type": "code",
   "execution_count": 43,
   "metadata": {
    "execution": {
     "iopub.execute_input": "2021-02-19T19:13:14.530573Z",
     "iopub.status.busy": "2021-02-19T19:13:14.529562Z",
     "iopub.status.idle": "2021-02-19T19:13:14.545934Z",
     "shell.execute_reply": "2021-02-19T19:13:14.546843Z"
    },
    "papermill": {
     "duration": 0.127964,
     "end_time": "2021-02-19T19:13:14.547094",
     "exception": false,
     "start_time": "2021-02-19T19:13:14.419130",
     "status": "completed"
    },
    "tags": []
   },
   "outputs": [
    {
     "name": "stdout",
     "output_type": "stream",
     "text": [
      "<class 'pandas.core.frame.DataFrame'>\n",
      "RangeIndex: 418 entries, 0 to 417\n",
      "Data columns (total 9 columns):\n",
      " #   Column       Non-Null Count  Dtype  \n",
      "---  ------       --------------  -----  \n",
      " 0   PassengerId  418 non-null    int64  \n",
      " 1   Pclass       418 non-null    int64  \n",
      " 2   Name         418 non-null    object \n",
      " 3   Sex          418 non-null    object \n",
      " 4   Age          418 non-null    float64\n",
      " 5   Ticket       418 non-null    object \n",
      " 6   Fare         417 non-null    float64\n",
      " 7   Embarked     418 non-null    object \n",
      " 8   Familysize   418 non-null    int64  \n",
      "dtypes: float64(2), int64(3), object(4)\n",
      "memory usage: 29.5+ KB\n"
     ]
    }
   ],
   "source": [
    "test['Age'] = test['Age'].fillna(test['Age'].mean())\n",
    "test.info()"
   ]
  },
  {
   "cell_type": "code",
   "execution_count": 44,
   "metadata": {
    "execution": {
     "iopub.execute_input": "2021-02-19T19:13:14.770905Z",
     "iopub.status.busy": "2021-02-19T19:13:14.769931Z",
     "iopub.status.idle": "2021-02-19T19:13:14.781944Z",
     "shell.execute_reply": "2021-02-19T19:13:14.781171Z"
    },
    "papermill": {
     "duration": 0.125849,
     "end_time": "2021-02-19T19:13:14.782127",
     "exception": false,
     "start_time": "2021-02-19T19:13:14.656278",
     "status": "completed"
    },
    "tags": []
   },
   "outputs": [
    {
     "data": {
      "text/plain": [
       "Embarked    2\n",
       "dtype: int64"
      ]
     },
     "execution_count": 44,
     "metadata": {},
     "output_type": "execute_result"
    }
   ],
   "source": [
    "train.isnull().sum()[train.isnull().any()]"
   ]
  },
  {
   "cell_type": "code",
   "execution_count": 45,
   "metadata": {
    "execution": {
     "iopub.execute_input": "2021-02-19T19:13:15.008736Z",
     "iopub.status.busy": "2021-02-19T19:13:15.007674Z",
     "iopub.status.idle": "2021-02-19T19:13:15.011144Z",
     "shell.execute_reply": "2021-02-19T19:13:15.010356Z"
    },
    "papermill": {
     "duration": 0.119535,
     "end_time": "2021-02-19T19:13:15.011296",
     "exception": false,
     "start_time": "2021-02-19T19:13:14.891761",
     "status": "completed"
    },
    "tags": []
   },
   "outputs": [],
   "source": [
    "train['Embarked'] = train['Embarked'].fillna('S')"
   ]
  },
  {
   "cell_type": "code",
   "execution_count": 46,
   "metadata": {
    "execution": {
     "iopub.execute_input": "2021-02-19T19:13:15.239527Z",
     "iopub.status.busy": "2021-02-19T19:13:15.237596Z",
     "iopub.status.idle": "2021-02-19T19:13:15.246333Z",
     "shell.execute_reply": "2021-02-19T19:13:15.245595Z"
    },
    "papermill": {
     "duration": 0.125022,
     "end_time": "2021-02-19T19:13:15.246486",
     "exception": false,
     "start_time": "2021-02-19T19:13:15.121464",
     "status": "completed"
    },
    "tags": []
   },
   "outputs": [
    {
     "name": "stdout",
     "output_type": "stream",
     "text": [
      "Series([], dtype: int64)\n"
     ]
    }
   ],
   "source": [
    "print(train.isnull().sum()[train.isnull().any()])"
   ]
  },
  {
   "cell_type": "code",
   "execution_count": 47,
   "metadata": {
    "execution": {
     "iopub.execute_input": "2021-02-19T19:13:15.469636Z",
     "iopub.status.busy": "2021-02-19T19:13:15.468980Z",
     "iopub.status.idle": "2021-02-19T19:13:15.477923Z",
     "shell.execute_reply": "2021-02-19T19:13:15.478818Z"
    },
    "papermill": {
     "duration": 0.122665,
     "end_time": "2021-02-19T19:13:15.479073",
     "exception": false,
     "start_time": "2021-02-19T19:13:15.356408",
     "status": "completed"
    },
    "tags": []
   },
   "outputs": [
    {
     "name": "stdout",
     "output_type": "stream",
     "text": [
      "Fare    1\n",
      "dtype: int64\n"
     ]
    }
   ],
   "source": [
    "print(test.isnull().sum()[test.isnull().any()])"
   ]
  },
  {
   "cell_type": "code",
   "execution_count": 48,
   "metadata": {
    "execution": {
     "iopub.execute_input": "2021-02-19T19:13:15.747352Z",
     "iopub.status.busy": "2021-02-19T19:13:15.746362Z",
     "iopub.status.idle": "2021-02-19T19:13:15.756469Z",
     "shell.execute_reply": "2021-02-19T19:13:15.755622Z"
    },
    "papermill": {
     "duration": 0.145221,
     "end_time": "2021-02-19T19:13:15.756673",
     "exception": false,
     "start_time": "2021-02-19T19:13:15.611452",
     "status": "completed"
    },
    "tags": []
   },
   "outputs": [
    {
     "data": {
      "text/plain": [
       "Fare    1\n",
       "dtype: int64"
      ]
     },
     "execution_count": 48,
     "metadata": {},
     "output_type": "execute_result"
    }
   ],
   "source": [
    "test.isnull().sum()[test.isnull().any()]"
   ]
  },
  {
   "cell_type": "code",
   "execution_count": 49,
   "metadata": {
    "execution": {
     "iopub.execute_input": "2021-02-19T19:13:16.011635Z",
     "iopub.status.busy": "2021-02-19T19:13:16.010876Z",
     "iopub.status.idle": "2021-02-19T19:13:16.017128Z",
     "shell.execute_reply": "2021-02-19T19:13:16.017710Z"
    },
    "papermill": {
     "duration": 0.122894,
     "end_time": "2021-02-19T19:13:16.017892",
     "exception": false,
     "start_time": "2021-02-19T19:13:15.894998",
     "status": "completed"
    },
    "tags": []
   },
   "outputs": [],
   "source": [
    "test['Fare'] = test['Fare'].fillna(test['Fare'].mean())"
   ]
  },
  {
   "cell_type": "code",
   "execution_count": 50,
   "metadata": {
    "execution": {
     "iopub.execute_input": "2021-02-19T19:13:16.245233Z",
     "iopub.status.busy": "2021-02-19T19:13:16.244426Z",
     "iopub.status.idle": "2021-02-19T19:13:16.257318Z",
     "shell.execute_reply": "2021-02-19T19:13:16.256771Z"
    },
    "papermill": {
     "duration": 0.127897,
     "end_time": "2021-02-19T19:13:16.257471",
     "exception": false,
     "start_time": "2021-02-19T19:13:16.129574",
     "status": "completed"
    },
    "tags": []
   },
   "outputs": [
    {
     "data": {
      "text/plain": [
       "Series([], dtype: int64)"
      ]
     },
     "execution_count": 50,
     "metadata": {},
     "output_type": "execute_result"
    }
   ],
   "source": [
    "test.isnull().sum()[test.isnull().any()]"
   ]
  },
  {
   "cell_type": "code",
   "execution_count": 51,
   "metadata": {
    "execution": {
     "iopub.execute_input": "2021-02-19T19:13:16.489667Z",
     "iopub.status.busy": "2021-02-19T19:13:16.488974Z",
     "iopub.status.idle": "2021-02-19T19:13:16.495155Z",
     "shell.execute_reply": "2021-02-19T19:13:16.495656Z"
    },
    "papermill": {
     "duration": 0.119352,
     "end_time": "2021-02-19T19:13:16.495829",
     "exception": false,
     "start_time": "2021-02-19T19:13:16.376477",
     "status": "completed"
    },
    "tags": []
   },
   "outputs": [
    {
     "data": {
      "text/plain": [
       "76.43097643097643"
      ]
     },
     "execution_count": 51,
     "metadata": {},
     "output_type": "execute_result"
    }
   ],
   "source": [
    "train['Ticket'].nunique() / train.shape[0] * 100"
   ]
  },
  {
   "cell_type": "markdown",
   "metadata": {
    "papermill": {
     "duration": 0.109933,
     "end_time": "2021-02-19T19:13:16.716396",
     "exception": false,
     "start_time": "2021-02-19T19:13:16.606463",
     "status": "completed"
    },
    "tags": []
   },
   "source": [
    "76 percentage of Ticket data are unique ones which i feel does not give any further value to the dataset Lets drop 'Ticket' from both test and train dataset"
   ]
  },
  {
   "cell_type": "code",
   "execution_count": 52,
   "metadata": {
    "execution": {
     "iopub.execute_input": "2021-02-19T19:13:16.942295Z",
     "iopub.status.busy": "2021-02-19T19:13:16.941679Z",
     "iopub.status.idle": "2021-02-19T19:13:16.946795Z",
     "shell.execute_reply": "2021-02-19T19:13:16.947407Z"
    },
    "papermill": {
     "duration": 0.120611,
     "end_time": "2021-02-19T19:13:16.947587",
     "exception": false,
     "start_time": "2021-02-19T19:13:16.826976",
     "status": "completed"
    },
    "tags": []
   },
   "outputs": [],
   "source": [
    "train.drop(labels='Ticket', axis=1, inplace = True)"
   ]
  },
  {
   "cell_type": "code",
   "execution_count": 53,
   "metadata": {
    "execution": {
     "iopub.execute_input": "2021-02-19T19:13:17.171782Z",
     "iopub.status.busy": "2021-02-19T19:13:17.171142Z",
     "iopub.status.idle": "2021-02-19T19:13:17.186303Z",
     "shell.execute_reply": "2021-02-19T19:13:17.186794Z"
    },
    "papermill": {
     "duration": 0.129032,
     "end_time": "2021-02-19T19:13:17.186980",
     "exception": false,
     "start_time": "2021-02-19T19:13:17.057948",
     "status": "completed"
    },
    "tags": []
   },
   "outputs": [
    {
     "data": {
      "text/html": [
       "<div>\n",
       "<style scoped>\n",
       "    .dataframe tbody tr th:only-of-type {\n",
       "        vertical-align: middle;\n",
       "    }\n",
       "\n",
       "    .dataframe tbody tr th {\n",
       "        vertical-align: top;\n",
       "    }\n",
       "\n",
       "    .dataframe thead th {\n",
       "        text-align: right;\n",
       "    }\n",
       "</style>\n",
       "<table border=\"1\" class=\"dataframe\">\n",
       "  <thead>\n",
       "    <tr style=\"text-align: right;\">\n",
       "      <th></th>\n",
       "      <th>PassengerId</th>\n",
       "      <th>Pclass</th>\n",
       "      <th>Name</th>\n",
       "      <th>Sex</th>\n",
       "      <th>Age</th>\n",
       "      <th>Ticket</th>\n",
       "      <th>Fare</th>\n",
       "      <th>Embarked</th>\n",
       "      <th>Familysize</th>\n",
       "    </tr>\n",
       "  </thead>\n",
       "  <tbody>\n",
       "    <tr>\n",
       "      <th>0</th>\n",
       "      <td>892</td>\n",
       "      <td>3</td>\n",
       "      <td>Kelly, Mr. James</td>\n",
       "      <td>male</td>\n",
       "      <td>34.5</td>\n",
       "      <td>330911</td>\n",
       "      <td>7.8292</td>\n",
       "      <td>Q</td>\n",
       "      <td>1</td>\n",
       "    </tr>\n",
       "    <tr>\n",
       "      <th>1</th>\n",
       "      <td>893</td>\n",
       "      <td>3</td>\n",
       "      <td>Wilkes, Mrs. James (Ellen Needs)</td>\n",
       "      <td>female</td>\n",
       "      <td>47.0</td>\n",
       "      <td>363272</td>\n",
       "      <td>7.0000</td>\n",
       "      <td>S</td>\n",
       "      <td>2</td>\n",
       "    </tr>\n",
       "    <tr>\n",
       "      <th>2</th>\n",
       "      <td>894</td>\n",
       "      <td>2</td>\n",
       "      <td>Myles, Mr. Thomas Francis</td>\n",
       "      <td>male</td>\n",
       "      <td>62.0</td>\n",
       "      <td>240276</td>\n",
       "      <td>9.6875</td>\n",
       "      <td>Q</td>\n",
       "      <td>1</td>\n",
       "    </tr>\n",
       "    <tr>\n",
       "      <th>3</th>\n",
       "      <td>895</td>\n",
       "      <td>3</td>\n",
       "      <td>Wirz, Mr. Albert</td>\n",
       "      <td>male</td>\n",
       "      <td>27.0</td>\n",
       "      <td>315154</td>\n",
       "      <td>8.6625</td>\n",
       "      <td>S</td>\n",
       "      <td>1</td>\n",
       "    </tr>\n",
       "    <tr>\n",
       "      <th>4</th>\n",
       "      <td>896</td>\n",
       "      <td>3</td>\n",
       "      <td>Hirvonen, Mrs. Alexander (Helga E Lindqvist)</td>\n",
       "      <td>female</td>\n",
       "      <td>22.0</td>\n",
       "      <td>3101298</td>\n",
       "      <td>12.2875</td>\n",
       "      <td>S</td>\n",
       "      <td>3</td>\n",
       "    </tr>\n",
       "  </tbody>\n",
       "</table>\n",
       "</div>"
      ],
      "text/plain": [
       "   PassengerId  Pclass                                          Name     Sex  \\\n",
       "0          892       3                              Kelly, Mr. James    male   \n",
       "1          893       3              Wilkes, Mrs. James (Ellen Needs)  female   \n",
       "2          894       2                     Myles, Mr. Thomas Francis    male   \n",
       "3          895       3                              Wirz, Mr. Albert    male   \n",
       "4          896       3  Hirvonen, Mrs. Alexander (Helga E Lindqvist)  female   \n",
       "\n",
       "    Age   Ticket     Fare Embarked  Familysize  \n",
       "0  34.5   330911   7.8292        Q           1  \n",
       "1  47.0   363272   7.0000        S           2  \n",
       "2  62.0   240276   9.6875        Q           1  \n",
       "3  27.0   315154   8.6625        S           1  \n",
       "4  22.0  3101298  12.2875        S           3  "
      ]
     },
     "execution_count": 53,
     "metadata": {},
     "output_type": "execute_result"
    }
   ],
   "source": [
    "test.head()\n"
   ]
  },
  {
   "cell_type": "markdown",
   "metadata": {
    "papermill": {
     "duration": 0.111464,
     "end_time": "2021-02-19T19:13:17.409607",
     "exception": false,
     "start_time": "2021-02-19T19:13:17.298143",
     "status": "completed"
    },
    "tags": []
   },
   "source": [
    "**Lets work on the Name variable and create a new variable called Title**"
   ]
  },
  {
   "cell_type": "code",
   "execution_count": 54,
   "metadata": {
    "execution": {
     "iopub.execute_input": "2021-02-19T19:13:17.637460Z",
     "iopub.status.busy": "2021-02-19T19:13:17.636823Z",
     "iopub.status.idle": "2021-02-19T19:13:17.641643Z",
     "shell.execute_reply": "2021-02-19T19:13:17.642213Z"
    },
    "papermill": {
     "duration": 0.120225,
     "end_time": "2021-02-19T19:13:17.642397",
     "exception": false,
     "start_time": "2021-02-19T19:13:17.522172",
     "status": "completed"
    },
    "tags": []
   },
   "outputs": [],
   "source": [
    "all_data = [train,  test]"
   ]
  },
  {
   "cell_type": "code",
   "execution_count": 55,
   "metadata": {
    "execution": {
     "iopub.execute_input": "2021-02-19T19:13:17.880371Z",
     "iopub.status.busy": "2021-02-19T19:13:17.877261Z",
     "iopub.status.idle": "2021-02-19T19:13:17.882714Z",
     "shell.execute_reply": "2021-02-19T19:13:17.883185Z"
    },
    "papermill": {
     "duration": 0.127723,
     "end_time": "2021-02-19T19:13:17.883364",
     "exception": false,
     "start_time": "2021-02-19T19:13:17.755641",
     "status": "completed"
    },
    "tags": []
   },
   "outputs": [],
   "source": [
    "for dataset in all_data:\n",
    "    dataset['title'] = dataset.Name.str.extract('([A-Za-z]+)\\.', expand=False)"
   ]
  },
  {
   "cell_type": "code",
   "execution_count": 56,
   "metadata": {
    "execution": {
     "iopub.execute_input": "2021-02-19T19:13:18.110692Z",
     "iopub.status.busy": "2021-02-19T19:13:18.109964Z",
     "iopub.status.idle": "2021-02-19T19:13:18.136026Z",
     "shell.execute_reply": "2021-02-19T19:13:18.136541Z"
    },
    "papermill": {
     "duration": 0.141743,
     "end_time": "2021-02-19T19:13:18.136725",
     "exception": false,
     "start_time": "2021-02-19T19:13:17.994982",
     "status": "completed"
    },
    "tags": []
   },
   "outputs": [
    {
     "data": {
      "text/html": [
       "<div>\n",
       "<style scoped>\n",
       "    .dataframe tbody tr th:only-of-type {\n",
       "        vertical-align: middle;\n",
       "    }\n",
       "\n",
       "    .dataframe tbody tr th {\n",
       "        vertical-align: top;\n",
       "    }\n",
       "\n",
       "    .dataframe thead th {\n",
       "        text-align: right;\n",
       "    }\n",
       "</style>\n",
       "<table border=\"1\" class=\"dataframe\">\n",
       "  <thead>\n",
       "    <tr style=\"text-align: right;\">\n",
       "      <th>Sex</th>\n",
       "      <th>female</th>\n",
       "      <th>male</th>\n",
       "    </tr>\n",
       "    <tr>\n",
       "      <th>title</th>\n",
       "      <th></th>\n",
       "      <th></th>\n",
       "    </tr>\n",
       "  </thead>\n",
       "  <tbody>\n",
       "    <tr>\n",
       "      <th>Capt</th>\n",
       "      <td>0</td>\n",
       "      <td>1</td>\n",
       "    </tr>\n",
       "    <tr>\n",
       "      <th>Col</th>\n",
       "      <td>0</td>\n",
       "      <td>2</td>\n",
       "    </tr>\n",
       "    <tr>\n",
       "      <th>Countess</th>\n",
       "      <td>1</td>\n",
       "      <td>0</td>\n",
       "    </tr>\n",
       "    <tr>\n",
       "      <th>Don</th>\n",
       "      <td>0</td>\n",
       "      <td>1</td>\n",
       "    </tr>\n",
       "    <tr>\n",
       "      <th>Dr</th>\n",
       "      <td>1</td>\n",
       "      <td>6</td>\n",
       "    </tr>\n",
       "    <tr>\n",
       "      <th>Jonkheer</th>\n",
       "      <td>0</td>\n",
       "      <td>1</td>\n",
       "    </tr>\n",
       "    <tr>\n",
       "      <th>Lady</th>\n",
       "      <td>1</td>\n",
       "      <td>0</td>\n",
       "    </tr>\n",
       "    <tr>\n",
       "      <th>Major</th>\n",
       "      <td>0</td>\n",
       "      <td>2</td>\n",
       "    </tr>\n",
       "    <tr>\n",
       "      <th>Master</th>\n",
       "      <td>0</td>\n",
       "      <td>40</td>\n",
       "    </tr>\n",
       "    <tr>\n",
       "      <th>Miss</th>\n",
       "      <td>182</td>\n",
       "      <td>0</td>\n",
       "    </tr>\n",
       "    <tr>\n",
       "      <th>Mlle</th>\n",
       "      <td>2</td>\n",
       "      <td>0</td>\n",
       "    </tr>\n",
       "    <tr>\n",
       "      <th>Mme</th>\n",
       "      <td>1</td>\n",
       "      <td>0</td>\n",
       "    </tr>\n",
       "    <tr>\n",
       "      <th>Mr</th>\n",
       "      <td>0</td>\n",
       "      <td>517</td>\n",
       "    </tr>\n",
       "    <tr>\n",
       "      <th>Mrs</th>\n",
       "      <td>125</td>\n",
       "      <td>0</td>\n",
       "    </tr>\n",
       "    <tr>\n",
       "      <th>Ms</th>\n",
       "      <td>1</td>\n",
       "      <td>0</td>\n",
       "    </tr>\n",
       "    <tr>\n",
       "      <th>Rev</th>\n",
       "      <td>0</td>\n",
       "      <td>6</td>\n",
       "    </tr>\n",
       "    <tr>\n",
       "      <th>Sir</th>\n",
       "      <td>0</td>\n",
       "      <td>1</td>\n",
       "    </tr>\n",
       "  </tbody>\n",
       "</table>\n",
       "</div>"
      ],
      "text/plain": [
       "Sex       female  male\n",
       "title                 \n",
       "Capt           0     1\n",
       "Col            0     2\n",
       "Countess       1     0\n",
       "Don            0     1\n",
       "Dr             1     6\n",
       "Jonkheer       0     1\n",
       "Lady           1     0\n",
       "Major          0     2\n",
       "Master         0    40\n",
       "Miss         182     0\n",
       "Mlle           2     0\n",
       "Mme            1     0\n",
       "Mr             0   517\n",
       "Mrs          125     0\n",
       "Ms             1     0\n",
       "Rev            0     6\n",
       "Sir            0     1"
      ]
     },
     "execution_count": 56,
     "metadata": {},
     "output_type": "execute_result"
    }
   ],
   "source": [
    "pd.crosstab(train.title, train.Sex)"
   ]
  },
  {
   "cell_type": "code",
   "execution_count": 57,
   "metadata": {
    "execution": {
     "iopub.execute_input": "2021-02-19T19:13:18.372751Z",
     "iopub.status.busy": "2021-02-19T19:13:18.371665Z",
     "iopub.status.idle": "2021-02-19T19:13:18.380675Z",
     "shell.execute_reply": "2021-02-19T19:13:18.381249Z"
    },
    "papermill": {
     "duration": 0.130003,
     "end_time": "2021-02-19T19:13:18.381433",
     "exception": false,
     "start_time": "2021-02-19T19:13:18.251430",
     "status": "completed"
    },
    "tags": []
   },
   "outputs": [],
   "source": [
    "for dataset in all_data:\n",
    "    dataset['title'] = dataset['title'].replace(['Lady', 'Countess','Capt', 'Col',\n",
    "                                                 'Don', 'Dr', 'Major', 'Rev', 'Sir', 'Jonkheer', 'Dona'], 'Rare')\n",
    "\n",
    "    dataset['title'] = dataset['title'].replace('Mlle', 'Miss')\n",
    "    dataset['title'] = dataset['title'].replace('Ms', 'Miss')\n",
    "    dataset['title'] = dataset['title'].replace('Mme', 'Mrs')"
   ]
  },
  {
   "cell_type": "code",
   "execution_count": 58,
   "metadata": {
    "execution": {
     "iopub.execute_input": "2021-02-19T19:13:18.613227Z",
     "iopub.status.busy": "2021-02-19T19:13:18.612235Z",
     "iopub.status.idle": "2021-02-19T19:13:18.625425Z",
     "shell.execute_reply": "2021-02-19T19:13:18.626000Z"
    },
    "papermill": {
     "duration": 0.13117,
     "end_time": "2021-02-19T19:13:18.626192",
     "exception": false,
     "start_time": "2021-02-19T19:13:18.495022",
     "status": "completed"
    },
    "tags": []
   },
   "outputs": [
    {
     "name": "stdout",
     "output_type": "stream",
     "text": [
      "    title  Survived\n",
      "0  Master  0.575000\n",
      "1    Miss  0.702703\n",
      "2      Mr  0.156673\n",
      "3     Mrs  0.793651\n",
      "4    Rare  0.347826\n"
     ]
    }
   ],
   "source": [
    "print(train[['title','Survived']].groupby(['title'], as_index=False).mean())"
   ]
  },
  {
   "cell_type": "code",
   "execution_count": 59,
   "metadata": {
    "execution": {
     "iopub.execute_input": "2021-02-19T19:13:18.876729Z",
     "iopub.status.busy": "2021-02-19T19:13:18.871829Z",
     "iopub.status.idle": "2021-02-19T19:13:19.084391Z",
     "shell.execute_reply": "2021-02-19T19:13:19.083691Z"
    },
    "papermill": {
     "duration": 0.344646,
     "end_time": "2021-02-19T19:13:19.084542",
     "exception": false,
     "start_time": "2021-02-19T19:13:18.739896",
     "status": "completed"
    },
    "tags": []
   },
   "outputs": [
    {
     "name": "stdout",
     "output_type": "stream",
     "text": [
      "Survived    0    1\n",
      "title             \n",
      "Master     17   23\n",
      "Miss       55  130\n",
      "Mr        436   81\n",
      "Mrs        26  100\n",
      "Rare       15    8\n"
     ]
    },
    {
     "data": {
      "text/plain": [
       "Text(0.5, 1.0, 'Title vs Survived')"
      ]
     },
     "execution_count": 59,
     "metadata": {},
     "output_type": "execute_result"
    },
    {
     "data": {
      "image/png": "[encoded data removed]",
      "text/plain": [
       "<Figure size 1080x432 with 1 Axes>"
      ]
     },
     "metadata": {
      "needs_background": "light"
     },
     "output_type": "display_data"
    }
   ],
   "source": [
    "print(pd.crosstab(train.title, train.Survived))\n",
    "plt.figure(figsize = (15,6))\n",
    "sns.countplot(x = 'title', data = train, hue = 'Survived')\n",
    "plt.xlabel('Title', fontsize = 20)\n",
    "plt.ylabel ('Survived', fontsize = 20)\n",
    "plt.title('Title vs Survived', fontsize = 25)"
   ]
  },
  {
   "cell_type": "code",
   "execution_count": 60,
   "metadata": {
    "execution": {
     "iopub.execute_input": "2021-02-19T19:13:19.327521Z",
     "iopub.status.busy": "2021-02-19T19:13:19.326539Z",
     "iopub.status.idle": "2021-02-19T19:13:19.337574Z",
     "shell.execute_reply": "2021-02-19T19:13:19.336483Z"
    },
    "papermill": {
     "duration": 0.136703,
     "end_time": "2021-02-19T19:13:19.337725",
     "exception": false,
     "start_time": "2021-02-19T19:13:19.201022",
     "status": "completed"
    },
    "tags": []
   },
   "outputs": [
    {
     "name": "stdout",
     "output_type": "stream",
     "text": [
      "<class 'pandas.core.frame.DataFrame'>\n",
      "RangeIndex: 891 entries, 0 to 890\n",
      "Data columns (total 10 columns):\n",
      " #   Column       Non-Null Count  Dtype  \n",
      "---  ------       --------------  -----  \n",
      " 0   PassengerId  891 non-null    int64  \n",
      " 1   Survived     891 non-null    int64  \n",
      " 2   Pclass       891 non-null    int64  \n",
      " 3   Name         891 non-null    object \n",
      " 4   Sex          891 non-null    object \n",
      " 5   Age          891 non-null    float64\n",
      " 6   Fare         891 non-null    float64\n",
      " 7   Embarked     891 non-null    object \n",
      " 8   Familysize   891 non-null    int64  \n",
      " 9   title        891 non-null    object \n",
      "dtypes: float64(2), int64(4), object(4)\n",
      "memory usage: 69.7+ KB\n"
     ]
    }
   ],
   "source": [
    "train.info()"
   ]
  },
  {
   "cell_type": "code",
   "execution_count": 61,
   "metadata": {
    "execution": {
     "iopub.execute_input": "2021-02-19T19:13:19.582664Z",
     "iopub.status.busy": "2021-02-19T19:13:19.581859Z",
     "iopub.status.idle": "2021-02-19T19:13:19.585191Z",
     "shell.execute_reply": "2021-02-19T19:13:19.585642Z"
    },
    "papermill": {
     "duration": 0.132675,
     "end_time": "2021-02-19T19:13:19.585811",
     "exception": false,
     "start_time": "2021-02-19T19:13:19.453136",
     "status": "completed"
    },
    "tags": []
   },
   "outputs": [
    {
     "name": "stdout",
     "output_type": "stream",
     "text": [
      "<class 'pandas.core.frame.DataFrame'>\n",
      "RangeIndex: 418 entries, 0 to 417\n",
      "Data columns (total 10 columns):\n",
      " #   Column       Non-Null Count  Dtype  \n",
      "---  ------       --------------  -----  \n",
      " 0   PassengerId  418 non-null    int64  \n",
      " 1   Pclass       418 non-null    int64  \n",
      " 2   Name         418 non-null    object \n",
      " 3   Sex          418 non-null    object \n",
      " 4   Age          418 non-null    float64\n",
      " 5   Ticket       418 non-null    object \n",
      " 6   Fare         418 non-null    float64\n",
      " 7   Embarked     418 non-null    object \n",
      " 8   Familysize   418 non-null    int64  \n",
      " 9   title        418 non-null    object \n",
      "dtypes: float64(2), int64(3), object(5)\n",
      "memory usage: 32.8+ KB\n"
     ]
    }
   ],
   "source": [
    "test.info()"
   ]
  },
  {
   "cell_type": "code",
   "execution_count": 62,
   "metadata": {
    "execution": {
     "iopub.execute_input": "2021-02-19T19:13:19.821478Z",
     "iopub.status.busy": "2021-02-19T19:13:19.820726Z",
     "iopub.status.idle": "2021-02-19T19:13:19.823532Z",
     "shell.execute_reply": "2021-02-19T19:13:19.824080Z"
    },
    "papermill": {
     "duration": 0.123918,
     "end_time": "2021-02-19T19:13:19.824257",
     "exception": false,
     "start_time": "2021-02-19T19:13:19.700339",
     "status": "completed"
    },
    "tags": []
   },
   "outputs": [],
   "source": [
    "#lets drop Name from both datasets"
   ]
  },
  {
   "cell_type": "code",
   "execution_count": 63,
   "metadata": {
    "execution": {
     "iopub.execute_input": "2021-02-19T19:13:20.115451Z",
     "iopub.status.busy": "2021-02-19T19:13:20.114690Z",
     "iopub.status.idle": "2021-02-19T19:13:20.117609Z",
     "shell.execute_reply": "2021-02-19T19:13:20.118094Z"
    },
    "papermill": {
     "duration": 0.176546,
     "end_time": "2021-02-19T19:13:20.118288",
     "exception": false,
     "start_time": "2021-02-19T19:13:19.941742",
     "status": "completed"
    },
    "tags": []
   },
   "outputs": [],
   "source": [
    "train.drop(labels='Name', axis=1, inplace=True)"
   ]
  },
  {
   "cell_type": "code",
   "execution_count": 64,
   "metadata": {
    "execution": {
     "iopub.execute_input": "2021-02-19T19:13:20.360919Z",
     "iopub.status.busy": "2021-02-19T19:13:20.359961Z",
     "iopub.status.idle": "2021-02-19T19:13:20.363447Z",
     "shell.execute_reply": "2021-02-19T19:13:20.362703Z"
    },
    "papermill": {
     "duration": 0.128233,
     "end_time": "2021-02-19T19:13:20.363593",
     "exception": false,
     "start_time": "2021-02-19T19:13:20.235360",
     "status": "completed"
    },
    "tags": []
   },
   "outputs": [],
   "source": [
    "test.drop(labels='Name', axis=1, inplace = True)"
   ]
  },
  {
   "cell_type": "code",
   "execution_count": 65,
   "metadata": {
    "execution": {
     "iopub.execute_input": "2021-02-19T19:13:20.601211Z",
     "iopub.status.busy": "2021-02-19T19:13:20.600206Z",
     "iopub.status.idle": "2021-02-19T19:13:20.603494Z",
     "shell.execute_reply": "2021-02-19T19:13:20.602965Z"
    },
    "papermill": {
     "duration": 0.124649,
     "end_time": "2021-02-19T19:13:20.603648",
     "exception": false,
     "start_time": "2021-02-19T19:13:20.478999",
     "status": "completed"
    },
    "tags": []
   },
   "outputs": [],
   "source": [
    "varsll_data = [train, test]"
   ]
  },
  {
   "cell_type": "code",
   "execution_count": 66,
   "metadata": {
    "execution": {
     "iopub.execute_input": "2021-02-19T19:13:20.843211Z",
     "iopub.status.busy": "2021-02-19T19:13:20.842527Z",
     "iopub.status.idle": "2021-02-19T19:13:20.854948Z",
     "shell.execute_reply": "2021-02-19T19:13:20.855545Z"
    },
    "papermill": {
     "duration": 0.134709,
     "end_time": "2021-02-19T19:13:20.855732",
     "exception": false,
     "start_time": "2021-02-19T19:13:20.721023",
     "status": "completed"
    },
    "tags": []
   },
   "outputs": [
    {
     "name": "stdout",
     "output_type": "stream",
     "text": [
      "<class 'pandas.core.frame.DataFrame'>\n",
      "RangeIndex: 891 entries, 0 to 890\n",
      "Data columns (total 9 columns):\n",
      " #   Column       Non-Null Count  Dtype  \n",
      "---  ------       --------------  -----  \n",
      " 0   PassengerId  891 non-null    int64  \n",
      " 1   Survived     891 non-null    int64  \n",
      " 2   Pclass       891 non-null    int64  \n",
      " 3   Sex          891 non-null    object \n",
      " 4   Age          891 non-null    float64\n",
      " 5   Fare         891 non-null    float64\n",
      " 6   Embarked     891 non-null    object \n",
      " 7   Familysize   891 non-null    int64  \n",
      " 8   title        891 non-null    object \n",
      "dtypes: float64(2), int64(4), object(3)\n",
      "memory usage: 62.8+ KB\n"
     ]
    }
   ],
   "source": [
    "train.info()"
   ]
  },
  {
   "cell_type": "code",
   "execution_count": 67,
   "metadata": {
    "execution": {
     "iopub.execute_input": "2021-02-19T19:13:21.103176Z",
     "iopub.status.busy": "2021-02-19T19:13:21.102143Z",
     "iopub.status.idle": "2021-02-19T19:13:21.108429Z",
     "shell.execute_reply": "2021-02-19T19:13:21.107827Z"
    },
    "papermill": {
     "duration": 0.136863,
     "end_time": "2021-02-19T19:13:21.108574",
     "exception": false,
     "start_time": "2021-02-19T19:13:20.971711",
     "status": "completed"
    },
    "tags": []
   },
   "outputs": [
    {
     "name": "stdout",
     "output_type": "stream",
     "text": [
      "<class 'pandas.core.frame.DataFrame'>\n",
      "RangeIndex: 418 entries, 0 to 417\n",
      "Data columns (total 9 columns):\n",
      " #   Column       Non-Null Count  Dtype  \n",
      "---  ------       --------------  -----  \n",
      " 0   PassengerId  418 non-null    int64  \n",
      " 1   Pclass       418 non-null    int64  \n",
      " 2   Sex          418 non-null    object \n",
      " 3   Age          418 non-null    float64\n",
      " 4   Ticket       418 non-null    object \n",
      " 5   Fare         418 non-null    float64\n",
      " 6   Embarked     418 non-null    object \n",
      " 7   Familysize   418 non-null    int64  \n",
      " 8   title        418 non-null    object \n",
      "dtypes: float64(2), int64(3), object(4)\n",
      "memory usage: 29.5+ KB\n"
     ]
    }
   ],
   "source": [
    "test.info()"
   ]
  },
  {
   "cell_type": "markdown",
   "metadata": {
    "papermill": {
     "duration": 0.118016,
     "end_time": "2021-02-19T19:13:21.345627",
     "exception": false,
     "start_time": "2021-02-19T19:13:21.227611",
     "status": "completed"
    },
    "tags": []
   },
   "source": [
    "**Notes:**\n",
    "- We can create a new column named AgeState\n",
    "\n",
    "- Map the categorical datas with values"
   ]
  },
  {
   "cell_type": "code",
   "execution_count": 68,
   "metadata": {
    "execution": {
     "iopub.execute_input": "2021-02-19T19:13:21.589670Z",
     "iopub.status.busy": "2021-02-19T19:13:21.588601Z",
     "iopub.status.idle": "2021-02-19T19:13:21.593709Z",
     "shell.execute_reply": "2021-02-19T19:13:21.593011Z"
    },
    "papermill": {
     "duration": 0.130701,
     "end_time": "2021-02-19T19:13:21.593872",
     "exception": false,
     "start_time": "2021-02-19T19:13:21.463171",
     "status": "completed"
    },
    "tags": []
   },
   "outputs": [],
   "source": [
    "train[\"AgeState\"] = pd.cut(train.Age, bins = [0, 2, 5, 18,60,100], labels=[\"Infant\", \"Toddler\", \"Child\", \"Adult\", 'Senior_Citizen'],include_lowest=True)"
   ]
  },
  {
   "cell_type": "code",
   "execution_count": 69,
   "metadata": {
    "execution": {
     "iopub.execute_input": "2021-02-19T19:13:21.849400Z",
     "iopub.status.busy": "2021-02-19T19:13:21.848478Z",
     "iopub.status.idle": "2021-02-19T19:13:21.853744Z",
     "shell.execute_reply": "2021-02-19T19:13:21.852936Z"
    },
    "papermill": {
     "duration": 0.141367,
     "end_time": "2021-02-19T19:13:21.853902",
     "exception": false,
     "start_time": "2021-02-19T19:13:21.712535",
     "status": "completed"
    },
    "tags": []
   },
   "outputs": [
    {
     "data": {
      "text/html": [
       "<div>\n",
       "<style scoped>\n",
       "    .dataframe tbody tr th:only-of-type {\n",
       "        vertical-align: middle;\n",
       "    }\n",
       "\n",
       "    .dataframe tbody tr th {\n",
       "        vertical-align: top;\n",
       "    }\n",
       "\n",
       "    .dataframe thead th {\n",
       "        text-align: right;\n",
       "    }\n",
       "</style>\n",
       "<table border=\"1\" class=\"dataframe\">\n",
       "  <thead>\n",
       "    <tr style=\"text-align: right;\">\n",
       "      <th></th>\n",
       "      <th>PassengerId</th>\n",
       "      <th>Survived</th>\n",
       "      <th>Pclass</th>\n",
       "      <th>Sex</th>\n",
       "      <th>Age</th>\n",
       "      <th>Fare</th>\n",
       "      <th>Embarked</th>\n",
       "      <th>Familysize</th>\n",
       "      <th>title</th>\n",
       "      <th>AgeState</th>\n",
       "    </tr>\n",
       "  </thead>\n",
       "  <tbody>\n",
       "    <tr>\n",
       "      <th>0</th>\n",
       "      <td>1</td>\n",
       "      <td>0</td>\n",
       "      <td>3</td>\n",
       "      <td>male</td>\n",
       "      <td>22.0</td>\n",
       "      <td>7.2500</td>\n",
       "      <td>S</td>\n",
       "      <td>2</td>\n",
       "      <td>Mr</td>\n",
       "      <td>Adult</td>\n",
       "    </tr>\n",
       "    <tr>\n",
       "      <th>1</th>\n",
       "      <td>2</td>\n",
       "      <td>1</td>\n",
       "      <td>1</td>\n",
       "      <td>female</td>\n",
       "      <td>38.0</td>\n",
       "      <td>71.2833</td>\n",
       "      <td>C</td>\n",
       "      <td>2</td>\n",
       "      <td>Mrs</td>\n",
       "      <td>Adult</td>\n",
       "    </tr>\n",
       "    <tr>\n",
       "      <th>2</th>\n",
       "      <td>3</td>\n",
       "      <td>1</td>\n",
       "      <td>3</td>\n",
       "      <td>female</td>\n",
       "      <td>26.0</td>\n",
       "      <td>7.9250</td>\n",
       "      <td>S</td>\n",
       "      <td>1</td>\n",
       "      <td>Miss</td>\n",
       "      <td>Adult</td>\n",
       "    </tr>\n",
       "    <tr>\n",
       "      <th>3</th>\n",
       "      <td>4</td>\n",
       "      <td>1</td>\n",
       "      <td>1</td>\n",
       "      <td>female</td>\n",
       "      <td>35.0</td>\n",
       "      <td>53.1000</td>\n",
       "      <td>S</td>\n",
       "      <td>2</td>\n",
       "      <td>Mrs</td>\n",
       "      <td>Adult</td>\n",
       "    </tr>\n",
       "    <tr>\n",
       "      <th>4</th>\n",
       "      <td>5</td>\n",
       "      <td>0</td>\n",
       "      <td>3</td>\n",
       "      <td>male</td>\n",
       "      <td>35.0</td>\n",
       "      <td>8.0500</td>\n",
       "      <td>S</td>\n",
       "      <td>1</td>\n",
       "      <td>Mr</td>\n",
       "      <td>Adult</td>\n",
       "    </tr>\n",
       "  </tbody>\n",
       "</table>\n",
       "</div>"
      ],
      "text/plain": [
       "   PassengerId  Survived  Pclass     Sex   Age     Fare Embarked  Familysize  \\\n",
       "0            1         0       3    male  22.0   7.2500        S           2   \n",
       "1            2         1       1  female  38.0  71.2833        C           2   \n",
       "2            3         1       3  female  26.0   7.9250        S           1   \n",
       "3            4         1       1  female  35.0  53.1000        S           2   \n",
       "4            5         0       3    male  35.0   8.0500        S           1   \n",
       "\n",
       "  title AgeState  \n",
       "0    Mr    Adult  \n",
       "1   Mrs    Adult  \n",
       "2  Miss    Adult  \n",
       "3   Mrs    Adult  \n",
       "4    Mr    Adult  "
      ]
     },
     "execution_count": 69,
     "metadata": {},
     "output_type": "execute_result"
    }
   ],
   "source": [
    "train.head()"
   ]
  },
  {
   "cell_type": "code",
   "execution_count": 70,
   "metadata": {
    "execution": {
     "iopub.execute_input": "2021-02-19T19:13:22.099837Z",
     "iopub.status.busy": "2021-02-19T19:13:22.099017Z",
     "iopub.status.idle": "2021-02-19T19:13:22.103161Z",
     "shell.execute_reply": "2021-02-19T19:13:22.102597Z"
    },
    "papermill": {
     "duration": 0.129977,
     "end_time": "2021-02-19T19:13:22.103306",
     "exception": false,
     "start_time": "2021-02-19T19:13:21.973329",
     "status": "completed"
    },
    "tags": []
   },
   "outputs": [],
   "source": [
    "test[\"AgeState\"] = pd.cut(test.Age, bins = [0, 2, 5, 18,60,100], labels=[\"Infant\", \"Toddler\", \"Child\", \"Adult\", 'Senior_Citizen'],include_lowest=True)"
   ]
  },
  {
   "cell_type": "code",
   "execution_count": 71,
   "metadata": {
    "execution": {
     "iopub.execute_input": "2021-02-19T19:13:22.349156Z",
     "iopub.status.busy": "2021-02-19T19:13:22.348463Z",
     "iopub.status.idle": "2021-02-19T19:13:22.352289Z",
     "shell.execute_reply": "2021-02-19T19:13:22.351655Z"
    },
    "papermill": {
     "duration": 0.129487,
     "end_time": "2021-02-19T19:13:22.352437",
     "exception": false,
     "start_time": "2021-02-19T19:13:22.222950",
     "status": "completed"
    },
    "tags": []
   },
   "outputs": [
    {
     "data": {
      "text/plain": [
       "Adult             730\n",
       "Child              95\n",
       "Infant             24\n",
       "Senior_Citizen     22\n",
       "Toddler            20\n",
       "Name: AgeState, dtype: int64"
      ]
     },
     "execution_count": 71,
     "metadata": {},
     "output_type": "execute_result"
    }
   ],
   "source": [
    "train.AgeState.value_counts()"
   ]
  },
  {
   "cell_type": "code",
   "execution_count": 72,
   "metadata": {
    "execution": {
     "iopub.execute_input": "2021-02-19T19:13:22.596149Z",
     "iopub.status.busy": "2021-02-19T19:13:22.595380Z",
     "iopub.status.idle": "2021-02-19T19:13:22.831723Z",
     "shell.execute_reply": "2021-02-19T19:13:22.830785Z"
    },
    "papermill": {
     "duration": 0.358397,
     "end_time": "2021-02-19T19:13:22.831977",
     "exception": false,
     "start_time": "2021-02-19T19:13:22.473580",
     "status": "completed"
    },
    "tags": []
   },
   "outputs": [
    {
     "name": "stdout",
     "output_type": "stream",
     "text": [
      "Survived          0    1\n",
      "AgeState                \n",
      "Infant            9   15\n",
      "Toddler           4   16\n",
      "Child            56   39\n",
      "Adult           463  267\n",
      "Senior_Citizen   17    5\n"
     ]
    },
    {
     "data": {
      "image/png": "[encoded data removed]",
      "text/plain": [
       "<Figure size 1080x432 with 1 Axes>"
      ]
     },
     "metadata": {
      "needs_background": "light"
     },
     "output_type": "display_data"
    }
   ],
   "source": [
    "print(pd.crosstab(train.AgeState, train.Survived))\n",
    "plt.figure(figsize=(15,6))\n",
    "sns.countplot(x = 'AgeState', hue = 'Survived', data = train)\n",
    "plt.xlabel('Age State', fontsize = 20)\n",
    "plt.ylabel('Survived', fontsize = 20)\n",
    "plt.title('Age state vs survived probability', fontsize = 25)\n",
    "plt.show()"
   ]
  },
  {
   "cell_type": "markdown",
   "metadata": {
    "papermill": {
     "duration": 0.120788,
     "end_time": "2021-02-19T19:13:23.100601",
     "exception": false,
     "start_time": "2021-02-19T19:13:22.979813",
     "status": "completed"
    },
    "tags": []
   },
   "source": [
    "- 0 - 5 age group i.e infants and toddler have the greatest survival probability\n",
    "- Lets drop the \"Age\" variable from both train and test dataset"
   ]
  },
  {
   "cell_type": "code",
   "execution_count": 73,
   "metadata": {
    "execution": {
     "iopub.execute_input": "2021-02-19T19:13:23.348766Z",
     "iopub.status.busy": "2021-02-19T19:13:23.347805Z",
     "iopub.status.idle": "2021-02-19T19:13:23.351514Z",
     "shell.execute_reply": "2021-02-19T19:13:23.350818Z"
    },
    "papermill": {
     "duration": 0.130602,
     "end_time": "2021-02-19T19:13:23.351678",
     "exception": false,
     "start_time": "2021-02-19T19:13:23.221076",
     "status": "completed"
    },
    "tags": []
   },
   "outputs": [],
   "source": [
    "train.drop(labels='Age', axis = 1, inplace = True)"
   ]
  },
  {
   "cell_type": "code",
   "execution_count": 74,
   "metadata": {
    "execution": {
     "iopub.execute_input": "2021-02-19T19:13:23.595632Z",
     "iopub.status.busy": "2021-02-19T19:13:23.595000Z",
     "iopub.status.idle": "2021-02-19T19:13:23.601546Z",
     "shell.execute_reply": "2021-02-19T19:13:23.600956Z"
    },
    "papermill": {
     "duration": 0.129608,
     "end_time": "2021-02-19T19:13:23.601689",
     "exception": false,
     "start_time": "2021-02-19T19:13:23.472081",
     "status": "completed"
    },
    "tags": []
   },
   "outputs": [],
   "source": [
    "test.drop(labels='Age', axis = 1, inplace = True)"
   ]
  },
  {
   "cell_type": "code",
   "execution_count": 75,
   "metadata": {
    "execution": {
     "iopub.execute_input": "2021-02-19T19:13:23.846581Z",
     "iopub.status.busy": "2021-02-19T19:13:23.845894Z",
     "iopub.status.idle": "2021-02-19T19:13:23.848721Z",
     "shell.execute_reply": "2021-02-19T19:13:23.849197Z"
    },
    "papermill": {
     "duration": 0.1282,
     "end_time": "2021-02-19T19:13:23.849399",
     "exception": false,
     "start_time": "2021-02-19T19:13:23.721199",
     "status": "completed"
    },
    "tags": []
   },
   "outputs": [],
   "source": [
    "all_data = [train, test]"
   ]
  },
  {
   "cell_type": "markdown",
   "metadata": {
    "papermill": {
     "duration": 0.120845,
     "end_time": "2021-02-19T19:13:24.092626",
     "exception": false,
     "start_time": "2021-02-19T19:13:23.971781",
     "status": "completed"
    },
    "tags": []
   },
   "source": [
    "Lets map the categorical with some values (Encoding)"
   ]
  },
  {
   "cell_type": "code",
   "execution_count": 76,
   "metadata": {
    "execution": {
     "iopub.execute_input": "2021-02-19T19:13:24.341652Z",
     "iopub.status.busy": "2021-02-19T19:13:24.340855Z",
     "iopub.status.idle": "2021-02-19T19:13:24.358626Z",
     "shell.execute_reply": "2021-02-19T19:13:24.357853Z"
    },
    "papermill": {
     "duration": 0.14551,
     "end_time": "2021-02-19T19:13:24.358779",
     "exception": false,
     "start_time": "2021-02-19T19:13:24.213269",
     "status": "completed"
    },
    "tags": []
   },
   "outputs": [
    {
     "name": "stdout",
     "output_type": "stream",
     "text": [
      "<class 'pandas.core.frame.DataFrame'>\n",
      "RangeIndex: 891 entries, 0 to 890\n",
      "Data columns (total 9 columns):\n",
      " #   Column       Non-Null Count  Dtype   \n",
      "---  ------       --------------  -----   \n",
      " 0   PassengerId  891 non-null    int64   \n",
      " 1   Survived     891 non-null    int64   \n",
      " 2   Pclass       891 non-null    int64   \n",
      " 3   Sex          891 non-null    object  \n",
      " 4   Fare         891 non-null    float64 \n",
      " 5   Embarked     891 non-null    object  \n",
      " 6   Familysize   891 non-null    int64   \n",
      " 7   title        891 non-null    object  \n",
      " 8   AgeState     891 non-null    category\n",
      "dtypes: category(1), float64(1), int64(4), object(3)\n",
      "memory usage: 56.9+ KB\n"
     ]
    }
   ],
   "source": [
    "train.info()"
   ]
  },
  {
   "cell_type": "code",
   "execution_count": 77,
   "metadata": {
    "execution": {
     "iopub.execute_input": "2021-02-19T19:13:24.616940Z",
     "iopub.status.busy": "2021-02-19T19:13:24.616255Z",
     "iopub.status.idle": "2021-02-19T19:13:24.621034Z",
     "shell.execute_reply": "2021-02-19T19:13:24.621633Z"
    },
    "papermill": {
     "duration": 0.142338,
     "end_time": "2021-02-19T19:13:24.621807",
     "exception": false,
     "start_time": "2021-02-19T19:13:24.479469",
     "status": "completed"
    },
    "tags": []
   },
   "outputs": [
    {
     "name": "stdout",
     "output_type": "stream",
     "text": [
      "<class 'pandas.core.frame.DataFrame'>\n",
      "RangeIndex: 418 entries, 0 to 417\n",
      "Data columns (total 9 columns):\n",
      " #   Column       Non-Null Count  Dtype   \n",
      "---  ------       --------------  -----   \n",
      " 0   PassengerId  418 non-null    int64   \n",
      " 1   Pclass       418 non-null    int64   \n",
      " 2   Sex          418 non-null    object  \n",
      " 3   Ticket       418 non-null    object  \n",
      " 4   Fare         418 non-null    float64 \n",
      " 5   Embarked     418 non-null    object  \n",
      " 6   Familysize   418 non-null    int64   \n",
      " 7   title        418 non-null    object  \n",
      " 8   AgeState     418 non-null    category\n",
      "dtypes: category(1), float64(1), int64(3), object(4)\n",
      "memory usage: 26.9+ KB\n"
     ]
    }
   ],
   "source": [
    "test.info()"
   ]
  },
  {
   "cell_type": "code",
   "execution_count": 78,
   "metadata": {
    "execution": {
     "iopub.execute_input": "2021-02-19T19:13:24.872092Z",
     "iopub.status.busy": "2021-02-19T19:13:24.871173Z",
     "iopub.status.idle": "2021-02-19T19:13:24.875639Z",
     "shell.execute_reply": "2021-02-19T19:13:24.875015Z"
    },
    "papermill": {
     "duration": 0.132784,
     "end_time": "2021-02-19T19:13:24.875777",
     "exception": false,
     "start_time": "2021-02-19T19:13:24.742993",
     "status": "completed"
    },
    "tags": []
   },
   "outputs": [
    {
     "data": {
      "text/plain": [
       "male      577\n",
       "female    314\n",
       "Name: Sex, dtype: int64"
      ]
     },
     "execution_count": 78,
     "metadata": {},
     "output_type": "execute_result"
    }
   ],
   "source": [
    "train.Sex.value_counts()"
   ]
  },
  {
   "cell_type": "code",
   "execution_count": 79,
   "metadata": {
    "execution": {
     "iopub.execute_input": "2021-02-19T19:13:25.130304Z",
     "iopub.status.busy": "2021-02-19T19:13:25.129563Z",
     "iopub.status.idle": "2021-02-19T19:13:25.132748Z",
     "shell.execute_reply": "2021-02-19T19:13:25.132231Z"
    },
    "papermill": {
     "duration": 0.133725,
     "end_time": "2021-02-19T19:13:25.132910",
     "exception": false,
     "start_time": "2021-02-19T19:13:24.999185",
     "status": "completed"
    },
    "tags": []
   },
   "outputs": [],
   "source": [
    "for dataset in all_data:\n",
    "    dataset['Sex'] = dataset['Sex'].map({'female':0,'male':1}).astype('int64')"
   ]
  },
  {
   "cell_type": "code",
   "execution_count": 80,
   "metadata": {
    "execution": {
     "iopub.execute_input": "2021-02-19T19:13:25.386760Z",
     "iopub.status.busy": "2021-02-19T19:13:25.385763Z",
     "iopub.status.idle": "2021-02-19T19:13:25.390346Z",
     "shell.execute_reply": "2021-02-19T19:13:25.389642Z"
    },
    "papermill": {
     "duration": 0.13247,
     "end_time": "2021-02-19T19:13:25.390498",
     "exception": false,
     "start_time": "2021-02-19T19:13:25.258028",
     "status": "completed"
    },
    "tags": []
   },
   "outputs": [
    {
     "data": {
      "text/plain": [
       "1    577\n",
       "0    314\n",
       "Name: Sex, dtype: int64"
      ]
     },
     "execution_count": 80,
     "metadata": {},
     "output_type": "execute_result"
    }
   ],
   "source": [
    "train.Sex.value_counts()"
   ]
  },
  {
   "cell_type": "code",
   "execution_count": 81,
   "metadata": {
    "execution": {
     "iopub.execute_input": "2021-02-19T19:13:25.643085Z",
     "iopub.status.busy": "2021-02-19T19:13:25.642403Z",
     "iopub.status.idle": "2021-02-19T19:13:25.656590Z",
     "shell.execute_reply": "2021-02-19T19:13:25.655835Z"
    },
    "papermill": {
     "duration": 0.143454,
     "end_time": "2021-02-19T19:13:25.656741",
     "exception": false,
     "start_time": "2021-02-19T19:13:25.513287",
     "status": "completed"
    },
    "tags": []
   },
   "outputs": [
    {
     "name": "stdout",
     "output_type": "stream",
     "text": [
      "<class 'pandas.core.frame.DataFrame'>\n",
      "RangeIndex: 891 entries, 0 to 890\n",
      "Data columns (total 9 columns):\n",
      " #   Column       Non-Null Count  Dtype   \n",
      "---  ------       --------------  -----   \n",
      " 0   PassengerId  891 non-null    int64   \n",
      " 1   Survived     891 non-null    int64   \n",
      " 2   Pclass       891 non-null    int64   \n",
      " 3   Sex          891 non-null    int64   \n",
      " 4   Fare         891 non-null    float64 \n",
      " 5   Embarked     891 non-null    object  \n",
      " 6   Familysize   891 non-null    int64   \n",
      " 7   title        891 non-null    object  \n",
      " 8   AgeState     891 non-null    category\n",
      "dtypes: category(1), float64(1), int64(5), object(2)\n",
      "memory usage: 56.9+ KB\n"
     ]
    }
   ],
   "source": [
    "train.info()"
   ]
  },
  {
   "cell_type": "code",
   "execution_count": 82,
   "metadata": {
    "execution": {
     "iopub.execute_input": "2021-02-19T19:13:25.923612Z",
     "iopub.status.busy": "2021-02-19T19:13:25.922924Z",
     "iopub.status.idle": "2021-02-19T19:13:25.926661Z",
     "shell.execute_reply": "2021-02-19T19:13:25.927195Z"
    },
    "papermill": {
     "duration": 0.146243,
     "end_time": "2021-02-19T19:13:25.927370",
     "exception": false,
     "start_time": "2021-02-19T19:13:25.781127",
     "status": "completed"
    },
    "tags": []
   },
   "outputs": [
    {
     "name": "stdout",
     "output_type": "stream",
     "text": [
      "<class 'pandas.core.frame.DataFrame'>\n",
      "RangeIndex: 418 entries, 0 to 417\n",
      "Data columns (total 9 columns):\n",
      " #   Column       Non-Null Count  Dtype   \n",
      "---  ------       --------------  -----   \n",
      " 0   PassengerId  418 non-null    int64   \n",
      " 1   Pclass       418 non-null    int64   \n",
      " 2   Sex          418 non-null    int64   \n",
      " 3   Ticket       418 non-null    object  \n",
      " 4   Fare         418 non-null    float64 \n",
      " 5   Embarked     418 non-null    object  \n",
      " 6   Familysize   418 non-null    int64   \n",
      " 7   title        418 non-null    object  \n",
      " 8   AgeState     418 non-null    category\n",
      "dtypes: category(1), float64(1), int64(4), object(3)\n",
      "memory usage: 26.9+ KB\n"
     ]
    }
   ],
   "source": [
    "test.info()"
   ]
  },
  {
   "cell_type": "code",
   "execution_count": 83,
   "metadata": {
    "execution": {
     "iopub.execute_input": "2021-02-19T19:13:26.180092Z",
     "iopub.status.busy": "2021-02-19T19:13:26.179406Z",
     "iopub.status.idle": "2021-02-19T19:13:26.184524Z",
     "shell.execute_reply": "2021-02-19T19:13:26.183880Z"
    },
    "papermill": {
     "duration": 0.134506,
     "end_time": "2021-02-19T19:13:26.184677",
     "exception": false,
     "start_time": "2021-02-19T19:13:26.050171",
     "status": "completed"
    },
    "tags": []
   },
   "outputs": [
    {
     "data": {
      "text/plain": [
       "S    646\n",
       "C    168\n",
       "Q     77\n",
       "Name: Embarked, dtype: int64"
      ]
     },
     "execution_count": 83,
     "metadata": {},
     "output_type": "execute_result"
    }
   ],
   "source": [
    "train.Embarked.value_counts()"
   ]
  },
  {
   "cell_type": "code",
   "execution_count": 84,
   "metadata": {
    "execution": {
     "iopub.execute_input": "2021-02-19T19:13:26.439922Z",
     "iopub.status.busy": "2021-02-19T19:13:26.438988Z",
     "iopub.status.idle": "2021-02-19T19:13:26.441904Z",
     "shell.execute_reply": "2021-02-19T19:13:26.441265Z"
    },
    "papermill": {
     "duration": 0.131662,
     "end_time": "2021-02-19T19:13:26.442074",
     "exception": false,
     "start_time": "2021-02-19T19:13:26.310412",
     "status": "completed"
    },
    "tags": []
   },
   "outputs": [],
   "source": [
    "    all_data = [train, test]"
   ]
  },
  {
   "cell_type": "code",
   "execution_count": 85,
   "metadata": {
    "execution": {
     "iopub.execute_input": "2021-02-19T19:13:26.701456Z",
     "iopub.status.busy": "2021-02-19T19:13:26.700774Z",
     "iopub.status.idle": "2021-02-19T19:13:26.703489Z",
     "shell.execute_reply": "2021-02-19T19:13:26.703973Z"
    },
    "papermill": {
     "duration": 0.136448,
     "end_time": "2021-02-19T19:13:26.704171",
     "exception": false,
     "start_time": "2021-02-19T19:13:26.567723",
     "status": "completed"
    },
    "tags": []
   },
   "outputs": [],
   "source": [
    "for dataset in all_data:\n",
    "    dataset['Embarked'] = dataset['Embarked'].map({'S':0,'C':1,'Q':2}).astype('int64')"
   ]
  },
  {
   "cell_type": "code",
   "execution_count": 86,
   "metadata": {
    "execution": {
     "iopub.execute_input": "2021-02-19T19:13:26.959066Z",
     "iopub.status.busy": "2021-02-19T19:13:26.958338Z",
     "iopub.status.idle": "2021-02-19T19:13:26.960323Z",
     "shell.execute_reply": "2021-02-19T19:13:26.960805Z"
    },
    "papermill": {
     "duration": 0.13189,
     "end_time": "2021-02-19T19:13:26.960987",
     "exception": false,
     "start_time": "2021-02-19T19:13:26.829097",
     "status": "completed"
    },
    "tags": []
   },
   "outputs": [],
   "source": [
    "all_data = [train, test]"
   ]
  },
  {
   "cell_type": "code",
   "execution_count": 87,
   "metadata": {
    "execution": {
     "iopub.execute_input": "2021-02-19T19:13:27.215506Z",
     "iopub.status.busy": "2021-02-19T19:13:27.214824Z",
     "iopub.status.idle": "2021-02-19T19:13:27.220985Z",
     "shell.execute_reply": "2021-02-19T19:13:27.221473Z"
    },
    "papermill": {
     "duration": 0.133969,
     "end_time": "2021-02-19T19:13:27.221648",
     "exception": false,
     "start_time": "2021-02-19T19:13:27.087679",
     "status": "completed"
    },
    "tags": []
   },
   "outputs": [
    {
     "data": {
      "text/plain": [
       "0    646\n",
       "1    168\n",
       "2     77\n",
       "Name: Embarked, dtype: int64"
      ]
     },
     "execution_count": 87,
     "metadata": {},
     "output_type": "execute_result"
    }
   ],
   "source": [
    "train.Embarked.value_counts()"
   ]
  },
  {
   "cell_type": "code",
   "execution_count": 88,
   "metadata": {
    "execution": {
     "iopub.execute_input": "2021-02-19T19:13:27.483404Z",
     "iopub.status.busy": "2021-02-19T19:13:27.482626Z",
     "iopub.status.idle": "2021-02-19T19:13:27.490945Z",
     "shell.execute_reply": "2021-02-19T19:13:27.490350Z"
    },
    "papermill": {
     "duration": 0.142099,
     "end_time": "2021-02-19T19:13:27.491115",
     "exception": false,
     "start_time": "2021-02-19T19:13:27.349016",
     "status": "completed"
    },
    "tags": []
   },
   "outputs": [
    {
     "data": {
      "text/plain": [
       "0    270\n",
       "1    102\n",
       "2     46\n",
       "Name: Embarked, dtype: int64"
      ]
     },
     "execution_count": 88,
     "metadata": {},
     "output_type": "execute_result"
    }
   ],
   "source": [
    "test.Embarked.value_counts()"
   ]
  },
  {
   "cell_type": "code",
   "execution_count": 89,
   "metadata": {
    "execution": {
     "iopub.execute_input": "2021-02-19T19:13:27.751188Z",
     "iopub.status.busy": "2021-02-19T19:13:27.750208Z",
     "iopub.status.idle": "2021-02-19T19:13:27.754030Z",
     "shell.execute_reply": "2021-02-19T19:13:27.754513Z"
    },
    "papermill": {
     "duration": 0.138442,
     "end_time": "2021-02-19T19:13:27.754709",
     "exception": false,
     "start_time": "2021-02-19T19:13:27.616267",
     "status": "completed"
    },
    "tags": []
   },
   "outputs": [
    {
     "data": {
      "text/plain": [
       "Mr        517\n",
       "Miss      185\n",
       "Mrs       126\n",
       "Master     40\n",
       "Rare       23\n",
       "Name: title, dtype: int64"
      ]
     },
     "execution_count": 89,
     "metadata": {},
     "output_type": "execute_result"
    }
   ],
   "source": [
    "train.title.value_counts()\n"
   ]
  },
  {
   "cell_type": "code",
   "execution_count": 90,
   "metadata": {
    "execution": {
     "iopub.execute_input": "2021-02-19T19:13:28.011760Z",
     "iopub.status.busy": "2021-02-19T19:13:28.010776Z",
     "iopub.status.idle": "2021-02-19T19:13:28.018434Z",
     "shell.execute_reply": "2021-02-19T19:13:28.018983Z"
    },
    "papermill": {
     "duration": 0.138349,
     "end_time": "2021-02-19T19:13:28.019193",
     "exception": false,
     "start_time": "2021-02-19T19:13:27.880844",
     "status": "completed"
    },
    "tags": []
   },
   "outputs": [],
   "source": [
    "for dataset in all_data:\n",
    "    dataset['title'] = dataset['title'].map({'Mr':0,'Miss':1,'Mrs':2,'Master':3,'Rare':4}).astype('int64')"
   ]
  },
  {
   "cell_type": "code",
   "execution_count": 91,
   "metadata": {
    "execution": {
     "iopub.execute_input": "2021-02-19T19:13:28.279228Z",
     "iopub.status.busy": "2021-02-19T19:13:28.278184Z",
     "iopub.status.idle": "2021-02-19T19:13:28.281950Z",
     "shell.execute_reply": "2021-02-19T19:13:28.282472Z"
    },
    "papermill": {
     "duration": 0.138304,
     "end_time": "2021-02-19T19:13:28.282640",
     "exception": false,
     "start_time": "2021-02-19T19:13:28.144336",
     "status": "completed"
    },
    "tags": []
   },
   "outputs": [
    {
     "data": {
      "text/plain": [
       "0    517\n",
       "1    185\n",
       "2    126\n",
       "3     40\n",
       "4     23\n",
       "Name: title, dtype: int64"
      ]
     },
     "execution_count": 91,
     "metadata": {},
     "output_type": "execute_result"
    }
   ],
   "source": [
    "train.title.value_counts()"
   ]
  },
  {
   "cell_type": "code",
   "execution_count": 92,
   "metadata": {
    "execution": {
     "iopub.execute_input": "2021-02-19T19:13:28.542802Z",
     "iopub.status.busy": "2021-02-19T19:13:28.542103Z",
     "iopub.status.idle": "2021-02-19T19:13:28.557090Z",
     "shell.execute_reply": "2021-02-19T19:13:28.557848Z"
    },
    "papermill": {
     "duration": 0.145883,
     "end_time": "2021-02-19T19:13:28.558104",
     "exception": false,
     "start_time": "2021-02-19T19:13:28.412221",
     "status": "completed"
    },
    "tags": []
   },
   "outputs": [
    {
     "name": "stdout",
     "output_type": "stream",
     "text": [
      "<class 'pandas.core.frame.DataFrame'>\n",
      "RangeIndex: 891 entries, 0 to 890\n",
      "Data columns (total 9 columns):\n",
      " #   Column       Non-Null Count  Dtype   \n",
      "---  ------       --------------  -----   \n",
      " 0   PassengerId  891 non-null    int64   \n",
      " 1   Survived     891 non-null    int64   \n",
      " 2   Pclass       891 non-null    int64   \n",
      " 3   Sex          891 non-null    int64   \n",
      " 4   Fare         891 non-null    float64 \n",
      " 5   Embarked     891 non-null    int64   \n",
      " 6   Familysize   891 non-null    int64   \n",
      " 7   title        891 non-null    int64   \n",
      " 8   AgeState     891 non-null    category\n",
      "dtypes: category(1), float64(1), int64(7)\n",
      "memory usage: 56.9 KB\n"
     ]
    }
   ],
   "source": [
    "train.info()"
   ]
  },
  {
   "cell_type": "code",
   "execution_count": 93,
   "metadata": {
    "execution": {
     "iopub.execute_input": "2021-02-19T19:13:28.822855Z",
     "iopub.status.busy": "2021-02-19T19:13:28.821835Z",
     "iopub.status.idle": "2021-02-19T19:13:28.824792Z",
     "shell.execute_reply": "2021-02-19T19:13:28.824263Z"
    },
    "papermill": {
     "duration": 0.137573,
     "end_time": "2021-02-19T19:13:28.824941",
     "exception": false,
     "start_time": "2021-02-19T19:13:28.687368",
     "status": "completed"
    },
    "tags": []
   },
   "outputs": [],
   "source": [
    "all_data = [train, test]"
   ]
  },
  {
   "cell_type": "code",
   "execution_count": 94,
   "metadata": {
    "execution": {
     "iopub.execute_input": "2021-02-19T19:13:29.090442Z",
     "iopub.status.busy": "2021-02-19T19:13:29.089424Z",
     "iopub.status.idle": "2021-02-19T19:13:29.093301Z",
     "shell.execute_reply": "2021-02-19T19:13:29.093768Z"
    },
    "papermill": {
     "duration": 0.139389,
     "end_time": "2021-02-19T19:13:29.093946",
     "exception": false,
     "start_time": "2021-02-19T19:13:28.954557",
     "status": "completed"
    },
    "tags": []
   },
   "outputs": [
    {
     "data": {
      "text/plain": [
       "Adult             730\n",
       "Child              95\n",
       "Infant             24\n",
       "Senior_Citizen     22\n",
       "Toddler            20\n",
       "Name: AgeState, dtype: int64"
      ]
     },
     "execution_count": 94,
     "metadata": {},
     "output_type": "execute_result"
    }
   ],
   "source": [
    "train.AgeState.value_counts()"
   ]
  },
  {
   "cell_type": "code",
   "execution_count": 95,
   "metadata": {
    "execution": {
     "iopub.execute_input": "2021-02-19T19:13:29.352727Z",
     "iopub.status.busy": "2021-02-19T19:13:29.351735Z",
     "iopub.status.idle": "2021-02-19T19:13:29.360582Z",
     "shell.execute_reply": "2021-02-19T19:13:29.361075Z"
    },
    "papermill": {
     "duration": 0.140269,
     "end_time": "2021-02-19T19:13:29.361260",
     "exception": false,
     "start_time": "2021-02-19T19:13:29.220991",
     "status": "completed"
    },
    "tags": []
   },
   "outputs": [],
   "source": [
    "for dataset in all_data:\n",
    "    dataset['AgeState'] = dataset['AgeState'].map({'Adult':0,'Child':1,'Infant':2,\n",
    "                                                  'Senior_Citizen':3,'Toddler':4}).astype('int64')"
   ]
  },
  {
   "cell_type": "code",
   "execution_count": 96,
   "metadata": {
    "execution": {
     "iopub.execute_input": "2021-02-19T19:13:29.618730Z",
     "iopub.status.busy": "2021-02-19T19:13:29.617773Z",
     "iopub.status.idle": "2021-02-19T19:13:29.624685Z",
     "shell.execute_reply": "2021-02-19T19:13:29.625156Z"
    },
    "papermill": {
     "duration": 0.137315,
     "end_time": "2021-02-19T19:13:29.625333",
     "exception": false,
     "start_time": "2021-02-19T19:13:29.488018",
     "status": "completed"
    },
    "tags": []
   },
   "outputs": [
    {
     "data": {
      "text/plain": [
       "0    730\n",
       "1     95\n",
       "2     24\n",
       "3     22\n",
       "4     20\n",
       "Name: AgeState, dtype: int64"
      ]
     },
     "execution_count": 96,
     "metadata": {},
     "output_type": "execute_result"
    }
   ],
   "source": [
    "train.AgeState.value_counts()"
   ]
  },
  {
   "cell_type": "code",
   "execution_count": 97,
   "metadata": {
    "execution": {
     "iopub.execute_input": "2021-02-19T19:13:29.887751Z",
     "iopub.status.busy": "2021-02-19T19:13:29.886773Z",
     "iopub.status.idle": "2021-02-19T19:13:29.900882Z",
     "shell.execute_reply": "2021-02-19T19:13:29.901451Z"
    },
    "papermill": {
     "duration": 0.147607,
     "end_time": "2021-02-19T19:13:29.901636",
     "exception": false,
     "start_time": "2021-02-19T19:13:29.754029",
     "status": "completed"
    },
    "tags": []
   },
   "outputs": [
    {
     "name": "stdout",
     "output_type": "stream",
     "text": [
      "<class 'pandas.core.frame.DataFrame'>\n",
      "RangeIndex: 891 entries, 0 to 890\n",
      "Data columns (total 9 columns):\n",
      " #   Column       Non-Null Count  Dtype  \n",
      "---  ------       --------------  -----  \n",
      " 0   PassengerId  891 non-null    int64  \n",
      " 1   Survived     891 non-null    int64  \n",
      " 2   Pclass       891 non-null    int64  \n",
      " 3   Sex          891 non-null    int64  \n",
      " 4   Fare         891 non-null    float64\n",
      " 5   Embarked     891 non-null    int64  \n",
      " 6   Familysize   891 non-null    int64  \n",
      " 7   title        891 non-null    int64  \n",
      " 8   AgeState     891 non-null    int64  \n",
      "dtypes: float64(1), int64(8)\n",
      "memory usage: 62.8 KB\n"
     ]
    }
   ],
   "source": [
    "train.info()"
   ]
  },
  {
   "cell_type": "code",
   "execution_count": 98,
   "metadata": {
    "execution": {
     "iopub.execute_input": "2021-02-19T19:13:30.174913Z",
     "iopub.status.busy": "2021-02-19T19:13:30.174240Z",
     "iopub.status.idle": "2021-02-19T19:13:30.177400Z",
     "shell.execute_reply": "2021-02-19T19:13:30.177900Z"
    },
    "papermill": {
     "duration": 0.146731,
     "end_time": "2021-02-19T19:13:30.178128",
     "exception": false,
     "start_time": "2021-02-19T19:13:30.031397",
     "status": "completed"
    },
    "tags": []
   },
   "outputs": [
    {
     "name": "stdout",
     "output_type": "stream",
     "text": [
      "<class 'pandas.core.frame.DataFrame'>\n",
      "RangeIndex: 418 entries, 0 to 417\n",
      "Data columns (total 9 columns):\n",
      " #   Column       Non-Null Count  Dtype  \n",
      "---  ------       --------------  -----  \n",
      " 0   PassengerId  418 non-null    int64  \n",
      " 1   Pclass       418 non-null    int64  \n",
      " 2   Sex          418 non-null    int64  \n",
      " 3   Ticket       418 non-null    object \n",
      " 4   Fare         418 non-null    float64\n",
      " 5   Embarked     418 non-null    int64  \n",
      " 6   Familysize   418 non-null    int64  \n",
      " 7   title        418 non-null    int64  \n",
      " 8   AgeState     418 non-null    int64  \n",
      "dtypes: float64(1), int64(7), object(1)\n",
      "memory usage: 29.5+ KB\n"
     ]
    }
   ],
   "source": [
    "test.info()"
   ]
  },
  {
   "cell_type": "code",
   "execution_count": 99,
   "metadata": {
    "execution": {
     "iopub.execute_input": "2021-02-19T19:13:30.441011Z",
     "iopub.status.busy": "2021-02-19T19:13:30.440290Z",
     "iopub.status.idle": "2021-02-19T19:13:30.443589Z",
     "shell.execute_reply": "2021-02-19T19:13:30.444217Z"
    },
    "papermill": {
     "duration": 0.13566,
     "end_time": "2021-02-19T19:13:30.444401",
     "exception": false,
     "start_time": "2021-02-19T19:13:30.308741",
     "status": "completed"
    },
    "tags": []
   },
   "outputs": [],
   "source": [
    "###Passengerid wont be significant for model building so lets drop them"
   ]
  },
  {
   "cell_type": "code",
   "execution_count": 100,
   "metadata": {
    "execution": {
     "iopub.execute_input": "2021-02-19T19:13:30.711192Z",
     "iopub.status.busy": "2021-02-19T19:13:30.710196Z",
     "iopub.status.idle": "2021-02-19T19:13:30.715842Z",
     "shell.execute_reply": "2021-02-19T19:13:30.716380Z"
    },
    "papermill": {
     "duration": 0.141132,
     "end_time": "2021-02-19T19:13:30.716559",
     "exception": false,
     "start_time": "2021-02-19T19:13:30.575427",
     "status": "completed"
    },
    "tags": []
   },
   "outputs": [],
   "source": [
    "train.drop(labels='PassengerId', axis=1, inplace=True)"
   ]
  },
  {
   "cell_type": "markdown",
   "metadata": {
    "papermill": {
     "duration": 0.131615,
     "end_time": "2021-02-19T19:13:30.981395",
     "exception": false,
     "start_time": "2021-02-19T19:13:30.849780",
     "status": "completed"
    },
    "tags": []
   },
   "source": [
    "# Model building"
   ]
  },
  {
   "cell_type": "code",
   "execution_count": 101,
   "metadata": {
    "execution": {
     "iopub.execute_input": "2021-02-19T19:13:31.242978Z",
     "iopub.status.busy": "2021-02-19T19:13:31.242316Z",
     "iopub.status.idle": "2021-02-19T19:13:31.688173Z",
     "shell.execute_reply": "2021-02-19T19:13:31.687547Z"
    },
    "papermill": {
     "duration": 0.578055,
     "end_time": "2021-02-19T19:13:31.688327",
     "exception": false,
     "start_time": "2021-02-19T19:13:31.110272",
     "status": "completed"
    },
    "tags": []
   },
   "outputs": [],
   "source": [
    "from sklearn import linear_model\n",
    "from sklearn.linear_model import LogisticRegression\n",
    "from sklearn.ensemble import RandomForestClassifier\n",
    "from sklearn.tree import DecisionTreeClassifier\n",
    "from sklearn.metrics import confusion_matrix, accuracy_score, classification_report"
   ]
  },
  {
   "cell_type": "code",
   "execution_count": 102,
   "metadata": {
    "execution": {
     "iopub.execute_input": "2021-02-19T19:13:31.954968Z",
     "iopub.status.busy": "2021-02-19T19:13:31.954159Z",
     "iopub.status.idle": "2021-02-19T19:13:32.233423Z",
     "shell.execute_reply": "2021-02-19T19:13:32.233985Z"
    },
    "papermill": {
     "duration": 0.415504,
     "end_time": "2021-02-19T19:13:32.234182",
     "exception": false,
     "start_time": "2021-02-19T19:13:31.818678",
     "status": "completed"
    },
    "tags": []
   },
   "outputs": [],
   "source": [
    "from xgboost import XGBRFClassifier\n",
    "from sklearn.model_selection import  train_test_split"
   ]
  },
  {
   "cell_type": "code",
   "execution_count": 103,
   "metadata": {
    "execution": {
     "iopub.execute_input": "2021-02-19T19:13:32.500367Z",
     "iopub.status.busy": "2021-02-19T19:13:32.499561Z",
     "iopub.status.idle": "2021-02-19T19:13:32.506675Z",
     "shell.execute_reply": "2021-02-19T19:13:32.507251Z"
    },
    "papermill": {
     "duration": 0.140701,
     "end_time": "2021-02-19T19:13:32.507446",
     "exception": false,
     "start_time": "2021-02-19T19:13:32.366745",
     "status": "completed"
    },
    "tags": []
   },
   "outputs": [],
   "source": [
    "X = train.drop('Survived', axis = 1)\n",
    "y = train['Survived']\n",
    "X_test_data = test.drop('PassengerId', axis = 1).copy()"
   ]
  },
  {
   "cell_type": "code",
   "execution_count": 104,
   "metadata": {
    "execution": {
     "iopub.execute_input": "2021-02-19T19:13:32.770551Z",
     "iopub.status.busy": "2021-02-19T19:13:32.769808Z",
     "iopub.status.idle": "2021-02-19T19:13:32.775840Z",
     "shell.execute_reply": "2021-02-19T19:13:32.776411Z"
    },
    "papermill": {
     "duration": 0.13908,
     "end_time": "2021-02-19T19:13:32.776588",
     "exception": false,
     "start_time": "2021-02-19T19:13:32.637508",
     "status": "completed"
    },
    "tags": []
   },
   "outputs": [],
   "source": [
    "X_train, X_test, y_train, y_test = train_test_split(X, y, train_size = 0.75, random_state = 10)"
   ]
  },
  {
   "cell_type": "code",
   "execution_count": 105,
   "metadata": {
    "execution": {
     "iopub.execute_input": "2021-02-19T19:13:33.043540Z",
     "iopub.status.busy": "2021-02-19T19:13:33.042766Z",
     "iopub.status.idle": "2021-02-19T19:13:33.049794Z",
     "shell.execute_reply": "2021-02-19T19:13:33.049236Z"
    },
    "papermill": {
     "duration": 0.140489,
     "end_time": "2021-02-19T19:13:33.049939",
     "exception": false,
     "start_time": "2021-02-19T19:13:32.909450",
     "status": "completed"
    },
    "tags": []
   },
   "outputs": [
    {
     "data": {
      "text/plain": [
       "((668, 7), (223, 7), (668,), (223,))"
      ]
     },
     "execution_count": 105,
     "metadata": {},
     "output_type": "execute_result"
    }
   ],
   "source": [
    "X_train.shape, X_test.shape, y_train.shape, y_test.shape"
   ]
  },
  {
   "cell_type": "code",
   "execution_count": 106,
   "metadata": {
    "execution": {
     "iopub.execute_input": "2021-02-19T19:13:33.316412Z",
     "iopub.status.busy": "2021-02-19T19:13:33.315753Z",
     "iopub.status.idle": "2021-02-19T19:13:33.320286Z",
     "shell.execute_reply": "2021-02-19T19:13:33.319694Z"
    },
    "papermill": {
     "duration": 0.13992,
     "end_time": "2021-02-19T19:13:33.320447",
     "exception": false,
     "start_time": "2021-02-19T19:13:33.180527",
     "status": "completed"
    },
    "tags": []
   },
   "outputs": [],
   "source": [
    "from sklearn.model_selection import GridSearchCV"
   ]
  },
  {
   "cell_type": "markdown",
   "metadata": {
    "papermill": {
     "duration": 0.130693,
     "end_time": "2021-02-19T19:13:33.581881",
     "exception": false,
     "start_time": "2021-02-19T19:13:33.451188",
     "status": "completed"
    },
    "tags": []
   },
   "source": [
    "**LogisticRegression**"
   ]
  },
  {
   "cell_type": "code",
   "execution_count": 107,
   "metadata": {
    "execution": {
     "iopub.execute_input": "2021-02-19T19:13:33.859337Z",
     "iopub.status.busy": "2021-02-19T19:13:33.858570Z",
     "iopub.status.idle": "2021-02-19T19:13:33.909228Z",
     "shell.execute_reply": "2021-02-19T19:13:33.908126Z"
    },
    "papermill": {
     "duration": 0.197598,
     "end_time": "2021-02-19T19:13:33.909545",
     "exception": false,
     "start_time": "2021-02-19T19:13:33.711947",
     "status": "completed"
    },
    "tags": []
   },
   "outputs": [
    {
     "data": {
      "text/plain": [
       "LogisticRegression()"
      ]
     },
     "execution_count": 107,
     "metadata": {},
     "output_type": "execute_result"
    }
   ],
   "source": [
    "logre = LogisticRegression()\n",
    "logre.fit(X_train, y_train)"
   ]
  },
  {
   "cell_type": "code",
   "execution_count": 108,
   "metadata": {
    "execution": {
     "iopub.execute_input": "2021-02-19T19:13:34.237770Z",
     "iopub.status.busy": "2021-02-19T19:13:34.236773Z",
     "iopub.status.idle": "2021-02-19T19:13:34.241377Z",
     "shell.execute_reply": "2021-02-19T19:13:34.241825Z"
    },
    "papermill": {
     "duration": 0.186696,
     "end_time": "2021-02-19T19:13:34.242003",
     "exception": false,
     "start_time": "2021-02-19T19:13:34.055307",
     "status": "completed"
    },
    "tags": []
   },
   "outputs": [
    {
     "data": {
      "text/plain": [
       "array([0, 0, 0, 1, 1, 0, 0, 0, 0, 0, 0, 1, 1, 0, 0, 0, 0, 0, 1, 0, 0, 0,\n",
       "       1, 0, 0, 0, 0, 1, 0, 1, 1, 0, 1, 0, 1, 0, 1, 0, 0, 0, 0, 0, 0, 0,\n",
       "       0, 0, 0, 0, 1, 0, 0, 0, 0, 1, 1, 1, 0, 1, 1, 0, 0, 1, 1, 1, 0, 0,\n",
       "       0, 0, 0, 1, 0, 0, 0, 0, 1, 0, 0, 0, 0, 0, 0, 0, 0, 1, 1, 0, 1, 1,\n",
       "       0, 1, 0, 0, 0, 0, 1, 1, 1, 0, 1, 0, 0, 0, 0, 0, 1, 1, 0, 1, 1, 1,\n",
       "       1, 0, 1, 0, 0, 0, 0, 1, 1, 0, 1, 0, 1, 1, 0, 1, 1, 0, 0, 1, 1, 0,\n",
       "       0, 1, 1, 1, 0, 0, 1, 0, 1, 0, 0, 0, 0, 0, 0, 0, 0, 0, 0, 1, 1, 0,\n",
       "       0, 1, 0, 0, 0, 0, 0, 1, 1, 0, 0, 0, 0, 0, 1, 0, 1, 1, 0, 1, 1, 0,\n",
       "       0, 0, 1, 0, 1, 1, 0, 0, 0, 0, 0, 0, 0, 0, 1, 0, 0, 0, 0, 1, 0, 0,\n",
       "       1, 0, 0, 1, 0, 0, 0, 0, 0, 0, 1, 0, 0, 0, 0, 1, 0, 1, 1, 0, 0, 0,\n",
       "       1, 1, 1])"
      ]
     },
     "execution_count": 108,
     "metadata": {},
     "output_type": "execute_result"
    }
   ],
   "source": [
    "y_pred = logre.predict(X_test)\n",
    "y_pred"
   ]
  },
  {
   "cell_type": "code",
   "execution_count": 109,
   "metadata": {
    "execution": {
     "iopub.execute_input": "2021-02-19T19:13:34.512333Z",
     "iopub.status.busy": "2021-02-19T19:13:34.511575Z",
     "iopub.status.idle": "2021-02-19T19:13:34.515710Z",
     "shell.execute_reply": "2021-02-19T19:13:34.515091Z"
    },
    "papermill": {
     "duration": 0.140537,
     "end_time": "2021-02-19T19:13:34.515852",
     "exception": false,
     "start_time": "2021-02-19T19:13:34.375315",
     "status": "completed"
    },
    "tags": []
   },
   "outputs": [
    {
     "name": "stdout",
     "output_type": "stream",
     "text": [
      "84.30493273542601\n"
     ]
    }
   ],
   "source": [
    "print(accuracy_score(y_pred, y_test) *100)"
   ]
  },
  {
   "cell_type": "code",
   "execution_count": 110,
   "metadata": {
    "execution": {
     "iopub.execute_input": "2021-02-19T19:13:34.785910Z",
     "iopub.status.busy": "2021-02-19T19:13:34.785036Z",
     "iopub.status.idle": "2021-02-19T19:13:34.791070Z",
     "shell.execute_reply": "2021-02-19T19:13:34.790451Z"
    },
    "papermill": {
     "duration": 0.1438,
     "end_time": "2021-02-19T19:13:34.791235",
     "exception": false,
     "start_time": "2021-02-19T19:13:34.647435",
     "status": "completed"
    },
    "tags": []
   },
   "outputs": [
    {
     "name": "stdout",
     "output_type": "stream",
     "text": [
      "77.84431137724552\n"
     ]
    }
   ],
   "source": [
    "y_pred_train = logre.predict(X_train)\n",
    "print(accuracy_score(y_pred_train, y_train) *100)"
   ]
  },
  {
   "cell_type": "markdown",
   "metadata": {
    "papermill": {
     "duration": 0.132469,
     "end_time": "2021-02-19T19:13:35.055909",
     "exception": false,
     "start_time": "2021-02-19T19:13:34.923440",
     "status": "completed"
    },
    "tags": []
   },
   "source": [
    "**Decision tree**"
   ]
  },
  {
   "cell_type": "code",
   "execution_count": 111,
   "metadata": {
    "execution": {
     "iopub.execute_input": "2021-02-19T19:13:35.326796Z",
     "iopub.status.busy": "2021-02-19T19:13:35.325776Z",
     "iopub.status.idle": "2021-02-19T19:13:35.328990Z",
     "shell.execute_reply": "2021-02-19T19:13:35.329499Z"
    },
    "papermill": {
     "duration": 0.141036,
     "end_time": "2021-02-19T19:13:35.329682",
     "exception": false,
     "start_time": "2021-02-19T19:13:35.188646",
     "status": "completed"
    },
    "tags": []
   },
   "outputs": [],
   "source": [
    "dtree = DecisionTreeClassifier()"
   ]
  },
  {
   "cell_type": "code",
   "execution_count": 112,
   "metadata": {
    "execution": {
     "iopub.execute_input": "2021-02-19T19:13:35.598251Z",
     "iopub.status.busy": "2021-02-19T19:13:35.597254Z",
     "iopub.status.idle": "2021-02-19T19:13:35.600060Z",
     "shell.execute_reply": "2021-02-19T19:13:35.600525Z"
    },
    "papermill": {
     "duration": 0.139674,
     "end_time": "2021-02-19T19:13:35.600700",
     "exception": false,
     "start_time": "2021-02-19T19:13:35.461026",
     "status": "completed"
    },
    "tags": []
   },
   "outputs": [],
   "source": [
    "param_grid = {\n",
    "    'criterion':['gini','entropy'],\n",
    "    'max_depth':[2,4,6]\n",
    "}"
   ]
  },
  {
   "cell_type": "code",
   "execution_count": 113,
   "metadata": {
    "execution": {
     "iopub.execute_input": "2021-02-19T19:13:35.870769Z",
     "iopub.status.busy": "2021-02-19T19:13:35.869854Z",
     "iopub.status.idle": "2021-02-19T19:13:35.872655Z",
     "shell.execute_reply": "2021-02-19T19:13:35.872152Z"
    },
    "papermill": {
     "duration": 0.14061,
     "end_time": "2021-02-19T19:13:35.872797",
     "exception": false,
     "start_time": "2021-02-19T19:13:35.732187",
     "status": "completed"
    },
    "tags": []
   },
   "outputs": [],
   "source": [
    "grid = GridSearchCV(estimator = dtree, param_grid=param_grid, n_jobs=-1)"
   ]
  },
  {
   "cell_type": "code",
   "execution_count": 114,
   "metadata": {
    "execution": {
     "iopub.execute_input": "2021-02-19T19:13:36.144100Z",
     "iopub.status.busy": "2021-02-19T19:13:36.143426Z",
     "iopub.status.idle": "2021-02-19T19:13:38.418565Z",
     "shell.execute_reply": "2021-02-19T19:13:38.419090Z"
    },
    "papermill": {
     "duration": 2.412471,
     "end_time": "2021-02-19T19:13:38.419280",
     "exception": false,
     "start_time": "2021-02-19T19:13:36.006809",
     "status": "completed"
    },
    "tags": []
   },
   "outputs": [
    {
     "data": {
      "text/plain": [
       "GridSearchCV(estimator=DecisionTreeClassifier(), n_jobs=-1,\n",
       "             param_grid={'criterion': ['gini', 'entropy'],\n",
       "                         'max_depth': [2, 4, 6]})"
      ]
     },
     "execution_count": 114,
     "metadata": {},
     "output_type": "execute_result"
    }
   ],
   "source": [
    "grid.fit(X_train, y_train)"
   ]
  },
  {
   "cell_type": "code",
   "execution_count": 115,
   "metadata": {
    "execution": {
     "iopub.execute_input": "2021-02-19T19:13:38.691808Z",
     "iopub.status.busy": "2021-02-19T19:13:38.691063Z",
     "iopub.status.idle": "2021-02-19T19:13:38.694518Z",
     "shell.execute_reply": "2021-02-19T19:13:38.693860Z"
    },
    "papermill": {
     "duration": 0.143013,
     "end_time": "2021-02-19T19:13:38.694664",
     "exception": false,
     "start_time": "2021-02-19T19:13:38.551651",
     "status": "completed"
    },
    "tags": []
   },
   "outputs": [],
   "source": [
    "dtree = grid.best_estimator_"
   ]
  },
  {
   "cell_type": "code",
   "execution_count": 116,
   "metadata": {
    "execution": {
     "iopub.execute_input": "2021-02-19T19:13:38.971240Z",
     "iopub.status.busy": "2021-02-19T19:13:38.970122Z",
     "iopub.status.idle": "2021-02-19T19:13:38.975231Z",
     "shell.execute_reply": "2021-02-19T19:13:38.975955Z"
    },
    "papermill": {
     "duration": 0.147252,
     "end_time": "2021-02-19T19:13:38.976206",
     "exception": false,
     "start_time": "2021-02-19T19:13:38.828954",
     "status": "completed"
    },
    "tags": []
   },
   "outputs": [
    {
     "name": "stdout",
     "output_type": "stream",
     "text": [
      "84.30493273542601\n"
     ]
    }
   ],
   "source": [
    "y_pred = dtree.predict(X_test)\n",
    "print(accuracy_score(y_pred, y_test)*100)"
   ]
  },
  {
   "cell_type": "code",
   "execution_count": 117,
   "metadata": {
    "execution": {
     "iopub.execute_input": "2021-02-19T19:13:39.251246Z",
     "iopub.status.busy": "2021-02-19T19:13:39.250532Z",
     "iopub.status.idle": "2021-02-19T19:13:39.256276Z",
     "shell.execute_reply": "2021-02-19T19:13:39.255696Z"
    },
    "papermill": {
     "duration": 0.145951,
     "end_time": "2021-02-19T19:13:39.256423",
     "exception": false,
     "start_time": "2021-02-19T19:13:39.110472",
     "status": "completed"
    },
    "tags": []
   },
   "outputs": [
    {
     "name": "stdout",
     "output_type": "stream",
     "text": [
      "86.67664670658682\n"
     ]
    }
   ],
   "source": [
    "y_pred_train = dtree.predict(X_train)\n",
    "print(accuracy_score(y_pred_train, y_train)*100)"
   ]
  },
  {
   "cell_type": "markdown",
   "metadata": {
    "papermill": {
     "duration": 0.13299,
     "end_time": "2021-02-19T19:13:39.525963",
     "exception": false,
     "start_time": "2021-02-19T19:13:39.392973",
     "status": "completed"
    },
    "tags": []
   },
   "source": [
    "**Randomforestclassifier**"
   ]
  },
  {
   "cell_type": "code",
   "execution_count": 118,
   "metadata": {
    "execution": {
     "iopub.execute_input": "2021-02-19T19:13:39.803415Z",
     "iopub.status.busy": "2021-02-19T19:13:39.802697Z",
     "iopub.status.idle": "2021-02-19T19:13:39.806128Z",
     "shell.execute_reply": "2021-02-19T19:13:39.805461Z"
    },
    "papermill": {
     "duration": 0.145503,
     "end_time": "2021-02-19T19:13:39.806277",
     "exception": false,
     "start_time": "2021-02-19T19:13:39.660774",
     "status": "completed"
    },
    "tags": []
   },
   "outputs": [],
   "source": [
    "param_grid = {\n",
    "    'n_estimators':[200,150,100,50],\n",
    "    'criterion':['gini','entropy'],\n",
    "    'max_depth':[2,4,6]\n",
    "}"
   ]
  },
  {
   "cell_type": "code",
   "execution_count": 119,
   "metadata": {
    "execution": {
     "iopub.execute_input": "2021-02-19T19:13:40.081311Z",
     "iopub.status.busy": "2021-02-19T19:13:40.080605Z",
     "iopub.status.idle": "2021-02-19T19:13:40.084642Z",
     "shell.execute_reply": "2021-02-19T19:13:40.083949Z"
    },
    "papermill": {
     "duration": 0.141952,
     "end_time": "2021-02-19T19:13:40.084800",
     "exception": false,
     "start_time": "2021-02-19T19:13:39.942848",
     "status": "completed"
    },
    "tags": []
   },
   "outputs": [],
   "source": [
    "rf = RandomForestClassifier()"
   ]
  },
  {
   "cell_type": "code",
   "execution_count": 120,
   "metadata": {
    "execution": {
     "iopub.execute_input": "2021-02-19T19:13:40.362396Z",
     "iopub.status.busy": "2021-02-19T19:13:40.361329Z",
     "iopub.status.idle": "2021-02-19T19:13:40.364310Z",
     "shell.execute_reply": "2021-02-19T19:13:40.363630Z"
    },
    "papermill": {
     "duration": 0.14513,
     "end_time": "2021-02-19T19:13:40.364461",
     "exception": false,
     "start_time": "2021-02-19T19:13:40.219331",
     "status": "completed"
    },
    "tags": []
   },
   "outputs": [],
   "source": [
    "grid = GridSearchCV(estimator=rf, param_grid=param_grid, n_jobs=-1)"
   ]
  },
  {
   "cell_type": "code",
   "execution_count": 121,
   "metadata": {
    "execution": {
     "iopub.execute_input": "2021-02-19T19:13:40.641195Z",
     "iopub.status.busy": "2021-02-19T19:13:40.640086Z",
     "iopub.status.idle": "2021-02-19T19:13:53.930161Z",
     "shell.execute_reply": "2021-02-19T19:13:53.929614Z"
    },
    "papermill": {
     "duration": 13.431732,
     "end_time": "2021-02-19T19:13:53.930311",
     "exception": false,
     "start_time": "2021-02-19T19:13:40.498579",
     "status": "completed"
    },
    "tags": []
   },
   "outputs": [
    {
     "data": {
      "text/plain": [
       "GridSearchCV(estimator=RandomForestClassifier(), n_jobs=-1,\n",
       "             param_grid={'criterion': ['gini', 'entropy'],\n",
       "                         'max_depth': [2, 4, 6],\n",
       "                         'n_estimators': [200, 150, 100, 50]})"
      ]
     },
     "execution_count": 121,
     "metadata": {},
     "output_type": "execute_result"
    }
   ],
   "source": [
    "grid.fit(X_train, y_train)"
   ]
  },
  {
   "cell_type": "code",
   "execution_count": 122,
   "metadata": {
    "execution": {
     "iopub.execute_input": "2021-02-19T19:13:54.202082Z",
     "iopub.status.busy": "2021-02-19T19:13:54.201415Z",
     "iopub.status.idle": "2021-02-19T19:13:54.204038Z",
     "shell.execute_reply": "2021-02-19T19:13:54.204537Z"
    },
    "papermill": {
     "duration": 0.141051,
     "end_time": "2021-02-19T19:13:54.204709",
     "exception": false,
     "start_time": "2021-02-19T19:13:54.063658",
     "status": "completed"
    },
    "tags": []
   },
   "outputs": [],
   "source": [
    "rf = grid.best_estimator_"
   ]
  },
  {
   "cell_type": "code",
   "execution_count": 123,
   "metadata": {
    "execution": {
     "iopub.execute_input": "2021-02-19T19:13:54.478991Z",
     "iopub.status.busy": "2021-02-19T19:13:54.478252Z",
     "iopub.status.idle": "2021-02-19T19:13:54.503872Z",
     "shell.execute_reply": "2021-02-19T19:13:54.504658Z"
    },
    "papermill": {
     "duration": 0.163888,
     "end_time": "2021-02-19T19:13:54.504910",
     "exception": false,
     "start_time": "2021-02-19T19:13:54.341022",
     "status": "completed"
    },
    "tags": []
   },
   "outputs": [
    {
     "name": "stdout",
     "output_type": "stream",
     "text": [
      "0.8565022421524664\n"
     ]
    }
   ],
   "source": [
    "y_pred = rf.predict(X_test)\n",
    "print(accuracy_score(y_pred, y_test))"
   ]
  },
  {
   "cell_type": "code",
   "execution_count": 124,
   "metadata": {
    "execution": {
     "iopub.execute_input": "2021-02-19T19:13:54.786855Z",
     "iopub.status.busy": "2021-02-19T19:13:54.786178Z",
     "iopub.status.idle": "2021-02-19T19:13:54.814214Z",
     "shell.execute_reply": "2021-02-19T19:13:54.814734Z"
    },
    "papermill": {
     "duration": 0.172945,
     "end_time": "2021-02-19T19:13:54.814906",
     "exception": false,
     "start_time": "2021-02-19T19:13:54.641961",
     "status": "completed"
    },
    "tags": []
   },
   "outputs": [
    {
     "name": "stdout",
     "output_type": "stream",
     "text": [
      "0.8577844311377245\n"
     ]
    }
   ],
   "source": [
    "y_pred_train = rf.predict(X_train)\n",
    "print(accuracy_score(y_pred_train, y_train))"
   ]
  },
  {
   "cell_type": "markdown",
   "metadata": {
    "papermill": {
     "duration": 0.137124,
     "end_time": "2021-02-19T19:13:55.087804",
     "exception": false,
     "start_time": "2021-02-19T19:13:54.950680",
     "status": "completed"
    },
    "tags": []
   },
   "source": [
    "**xgboost**"
   ]
  },
  {
   "cell_type": "markdown",
   "metadata": {
    "papermill": {
     "duration": 0.13587,
     "end_time": "2021-02-19T19:13:55.359403",
     "exception": false,
     "start_time": "2021-02-19T19:13:55.223533",
     "status": "completed"
    },
    "tags": []
   },
   "source": [
    "I have tried Xgboost in my local jupyter notebook.\n",
    "- The test accuracy is 85 %\n",
    "- The train accuracy is 91 %"
   ]
  },
  {
   "cell_type": "markdown",
   "metadata": {
    "papermill": {
     "duration": 0.134444,
     "end_time": "2021-02-19T19:13:55.629394",
     "exception": false,
     "start_time": "2021-02-19T19:13:55.494950",
     "status": "completed"
    },
    "tags": []
   },
   "source": [
    "lets go with random forest classifier as there is no variation in the test and train data accuracy "
   ]
  },
  {
   "cell_type": "code",
   "execution_count": 125,
   "metadata": {
    "execution": {
     "iopub.execute_input": "2021-02-19T19:13:55.937702Z",
     "iopub.status.busy": "2021-02-19T19:13:55.936747Z",
     "iopub.status.idle": "2021-02-19T19:13:55.940871Z",
     "shell.execute_reply": "2021-02-19T19:13:55.940350Z"
    },
    "papermill": {
     "duration": 0.176671,
     "end_time": "2021-02-19T19:13:55.941020",
     "exception": false,
     "start_time": "2021-02-19T19:13:55.764349",
     "status": "completed"
    },
    "tags": []
   },
   "outputs": [],
   "source": [
    "from sklearn.model_selection import cross_val_score\n",
    "rf = RandomForestClassifier(criterion='entropy', max_depth=6)"
   ]
  },
  {
   "cell_type": "code",
   "execution_count": 126,
   "metadata": {
    "execution": {
     "iopub.execute_input": "2021-02-19T19:13:56.225984Z",
     "iopub.status.busy": "2021-02-19T19:13:56.220677Z",
     "iopub.status.idle": "2021-02-19T19:13:56.467614Z",
     "shell.execute_reply": "2021-02-19T19:13:56.468424Z"
    },
    "papermill": {
     "duration": 0.39132,
     "end_time": "2021-02-19T19:13:56.468700",
     "exception": false,
     "start_time": "2021-02-19T19:13:56.077380",
     "status": "completed"
    },
    "tags": []
   },
   "outputs": [
    {
     "name": "stdout",
     "output_type": "stream",
     "text": [
      "0.8565022421524664\n",
      "0.8607784431137725\n"
     ]
    }
   ],
   "source": [
    "rf.fit(X_train, y_train)\n",
    "y_pred = rf.predict(X_test)\n",
    "print(accuracy_score(y_pred, y_test))\n",
    "y_train_pre = rf.predict(X_train)\n",
    "print(accuracy_score(y_train_pre, y_train))"
   ]
  },
  {
   "cell_type": "code",
   "execution_count": 127,
   "metadata": {
    "execution": {
     "iopub.execute_input": "2021-02-19T19:13:56.751910Z",
     "iopub.status.busy": "2021-02-19T19:13:56.750488Z",
     "iopub.status.idle": "2021-02-19T19:13:58.929575Z",
     "shell.execute_reply": "2021-02-19T19:13:58.930208Z"
    },
    "papermill": {
     "duration": 2.324937,
     "end_time": "2021-02-19T19:13:58.930431",
     "exception": false,
     "start_time": "2021-02-19T19:13:56.605494",
     "status": "completed"
    },
    "tags": []
   },
   "outputs": [
    {
     "name": "stdout",
     "output_type": "stream",
     "text": [
      "Scores: [0.82089552 0.82089552 0.86567164 0.8358209  0.76119403 0.80597015\n",
      " 0.80597015 0.86567164 0.84848485 0.87878788]\n",
      "Mean: 0.8309362279511532\n",
      "Standard Deviation: 0.033685172406136894\n"
     ]
    }
   ],
   "source": [
    "scores = cross_val_score(rf, X_train, y_train, cv=10, scoring = \"accuracy\")\n",
    "print(\"Scores:\", scores)\n",
    "print(\"Mean:\", scores.mean())\n",
    "print(\"Standard Deviation:\", scores.std())"
   ]
  },
  {
   "cell_type": "code",
   "execution_count": 128,
   "metadata": {
    "execution": {
     "iopub.execute_input": "2021-02-19T19:13:59.214503Z",
     "iopub.status.busy": "2021-02-19T19:13:59.213746Z",
     "iopub.status.idle": "2021-02-19T19:13:59.219357Z",
     "shell.execute_reply": "2021-02-19T19:13:59.218775Z"
    },
    "papermill": {
     "duration": 0.15087,
     "end_time": "2021-02-19T19:13:59.219500",
     "exception": false,
     "start_time": "2021-02-19T19:13:59.068630",
     "status": "completed"
    },
    "tags": []
   },
   "outputs": [
    {
     "name": "stdout",
     "output_type": "stream",
     "text": [
      "Accuracy_score 0.8607784431137725\n",
      "Mean: 0.8309362279511532\n",
      "Variation: 0.0011346908400311664\n"
     ]
    }
   ],
   "source": [
    "print(\"Accuracy_score\", accuracy_score(y_train_pre, y_train))\n",
    "print(\"Mean:\", scores.mean())\n",
    "print(\"Variation:\", scores.var())"
   ]
  },
  {
   "cell_type": "code",
   "execution_count": 129,
   "metadata": {
    "execution": {
     "iopub.execute_input": "2021-02-19T19:13:59.504150Z",
     "iopub.status.busy": "2021-02-19T19:13:59.503394Z",
     "iopub.status.idle": "2021-02-19T19:13:59.506914Z",
     "shell.execute_reply": "2021-02-19T19:13:59.506255Z"
    },
    "papermill": {
     "duration": 0.148702,
     "end_time": "2021-02-19T19:13:59.507084",
     "exception": false,
     "start_time": "2021-02-19T19:13:59.358382",
     "status": "completed"
    },
    "tags": []
   },
   "outputs": [],
   "source": [
    "X_test_data.drop(labels='Ticket', axis=1,inplace = True)"
   ]
  },
  {
   "cell_type": "code",
   "execution_count": 130,
   "metadata": {
    "execution": {
     "iopub.execute_input": "2021-02-19T19:13:59.797345Z",
     "iopub.status.busy": "2021-02-19T19:13:59.789242Z",
     "iopub.status.idle": "2021-02-19T19:13:59.801954Z",
     "shell.execute_reply": "2021-02-19T19:13:59.802830Z"
    },
    "papermill": {
     "duration": 0.158487,
     "end_time": "2021-02-19T19:13:59.803086",
     "exception": false,
     "start_time": "2021-02-19T19:13:59.644599",
     "status": "completed"
    },
    "tags": []
   },
   "outputs": [
    {
     "name": "stdout",
     "output_type": "stream",
     "text": [
      "<class 'pandas.core.frame.DataFrame'>\n",
      "RangeIndex: 418 entries, 0 to 417\n",
      "Data columns (total 7 columns):\n",
      " #   Column      Non-Null Count  Dtype  \n",
      "---  ------      --------------  -----  \n",
      " 0   Pclass      418 non-null    int64  \n",
      " 1   Sex         418 non-null    int64  \n",
      " 2   Fare        418 non-null    float64\n",
      " 3   Embarked    418 non-null    int64  \n",
      " 4   Familysize  418 non-null    int64  \n",
      " 5   title       418 non-null    int64  \n",
      " 6   AgeState    418 non-null    int64  \n",
      "dtypes: float64(1), int64(6)\n",
      "memory usage: 23.0 KB\n"
     ]
    }
   ],
   "source": [
    "X_test_data.info()"
   ]
  },
  {
   "cell_type": "code",
   "execution_count": 131,
   "metadata": {
    "execution": {
     "iopub.execute_input": "2021-02-19T19:14:00.094135Z",
     "iopub.status.busy": "2021-02-19T19:14:00.093243Z",
     "iopub.status.idle": "2021-02-19T19:14:00.110550Z",
     "shell.execute_reply": "2021-02-19T19:14:00.109984Z"
    },
    "papermill": {
     "duration": 0.168363,
     "end_time": "2021-02-19T19:14:00.110716",
     "exception": false,
     "start_time": "2021-02-19T19:13:59.942353",
     "status": "completed"
    },
    "tags": []
   },
   "outputs": [],
   "source": [
    "y_preds_test = rf.predict(X_test_data)"
   ]
  },
  {
   "cell_type": "code",
   "execution_count": 132,
   "metadata": {
    "execution": {
     "iopub.execute_input": "2021-02-19T19:14:00.393247Z",
     "iopub.status.busy": "2021-02-19T19:14:00.392520Z",
     "iopub.status.idle": "2021-02-19T19:14:00.397431Z",
     "shell.execute_reply": "2021-02-19T19:14:00.398035Z"
    },
    "papermill": {
     "duration": 0.149076,
     "end_time": "2021-02-19T19:14:00.398232",
     "exception": false,
     "start_time": "2021-02-19T19:14:00.249156",
     "status": "completed"
    },
    "tags": []
   },
   "outputs": [
    {
     "data": {
      "text/plain": [
       "(418,)"
      ]
     },
     "execution_count": 132,
     "metadata": {},
     "output_type": "execute_result"
    }
   ],
   "source": [
    "y_preds_test.shape"
   ]
  },
  {
   "cell_type": "markdown",
   "metadata": {
    "papermill": {
     "duration": 0.140003,
     "end_time": "2021-02-19T19:14:00.676310",
     "exception": false,
     "start_time": "2021-02-19T19:14:00.536307",
     "status": "completed"
    },
    "tags": []
   },
   "source": [
    "The business can find the varaition in the data by 0.00094"
   ]
  },
  {
   "cell_type": "code",
   "execution_count": 133,
   "metadata": {
    "execution": {
     "iopub.execute_input": "2021-02-19T19:14:00.971913Z",
     "iopub.status.busy": "2021-02-19T19:14:00.970888Z",
     "iopub.status.idle": "2021-02-19T19:14:00.976339Z",
     "shell.execute_reply": "2021-02-19T19:14:00.975781Z"
    },
    "papermill": {
     "duration": 0.160123,
     "end_time": "2021-02-19T19:14:00.976499",
     "exception": false,
     "start_time": "2021-02-19T19:14:00.816376",
     "status": "completed"
    },
    "tags": []
   },
   "outputs": [],
   "source": [
    "importances = pd.DataFrame({'feature':X_train.columns,'importance':np.round(rf.feature_importances_,3)})"
   ]
  },
  {
   "cell_type": "code",
   "execution_count": 134,
   "metadata": {
    "execution": {
     "iopub.execute_input": "2021-02-19T19:14:01.267649Z",
     "iopub.status.busy": "2021-02-19T19:14:01.266941Z",
     "iopub.status.idle": "2021-02-19T19:14:01.270712Z",
     "shell.execute_reply": "2021-02-19T19:14:01.271185Z"
    },
    "papermill": {
     "duration": 0.154977,
     "end_time": "2021-02-19T19:14:01.271362",
     "exception": false,
     "start_time": "2021-02-19T19:14:01.116385",
     "status": "completed"
    },
    "tags": []
   },
   "outputs": [
    {
     "data": {
      "text/html": [
       "<div>\n",
       "<style scoped>\n",
       "    .dataframe tbody tr th:only-of-type {\n",
       "        vertical-align: middle;\n",
       "    }\n",
       "\n",
       "    .dataframe tbody tr th {\n",
       "        vertical-align: top;\n",
       "    }\n",
       "\n",
       "    .dataframe thead th {\n",
       "        text-align: right;\n",
       "    }\n",
       "</style>\n",
       "<table border=\"1\" class=\"dataframe\">\n",
       "  <thead>\n",
       "    <tr style=\"text-align: right;\">\n",
       "      <th></th>\n",
       "      <th>importance</th>\n",
       "    </tr>\n",
       "    <tr>\n",
       "      <th>feature</th>\n",
       "      <th></th>\n",
       "    </tr>\n",
       "  </thead>\n",
       "  <tbody>\n",
       "    <tr>\n",
       "      <th>Sex</th>\n",
       "      <td>0.242</td>\n",
       "    </tr>\n",
       "    <tr>\n",
       "      <th>title</th>\n",
       "      <td>0.216</td>\n",
       "    </tr>\n",
       "    <tr>\n",
       "      <th>Fare</th>\n",
       "      <td>0.207</td>\n",
       "    </tr>\n",
       "    <tr>\n",
       "      <th>Familysize</th>\n",
       "      <td>0.132</td>\n",
       "    </tr>\n",
       "    <tr>\n",
       "      <th>Pclass</th>\n",
       "      <td>0.126</td>\n",
       "    </tr>\n",
       "    <tr>\n",
       "      <th>AgeState</th>\n",
       "      <td>0.046</td>\n",
       "    </tr>\n",
       "    <tr>\n",
       "      <th>Embarked</th>\n",
       "      <td>0.032</td>\n",
       "    </tr>\n",
       "  </tbody>\n",
       "</table>\n",
       "</div>"
      ],
      "text/plain": [
       "            importance\n",
       "feature               \n",
       "Sex              0.242\n",
       "title            0.216\n",
       "Fare             0.207\n",
       "Familysize       0.132\n",
       "Pclass           0.126\n",
       "AgeState         0.046\n",
       "Embarked         0.032"
      ]
     },
     "execution_count": 134,
     "metadata": {},
     "output_type": "execute_result"
    }
   ],
   "source": [
    "importances = importances.sort_values('importance',ascending=False).set_index('feature')\n",
    "importances"
   ]
  },
  {
   "cell_type": "code",
   "execution_count": 135,
   "metadata": {
    "execution": {
     "iopub.execute_input": "2021-02-19T19:14:01.558552Z",
     "iopub.status.busy": "2021-02-19T19:14:01.557757Z",
     "iopub.status.idle": "2021-02-19T19:14:01.772492Z",
     "shell.execute_reply": "2021-02-19T19:14:01.771795Z"
    },
    "papermill": {
     "duration": 0.360645,
     "end_time": "2021-02-19T19:14:01.772648",
     "exception": false,
     "start_time": "2021-02-19T19:14:01.412003",
     "status": "completed"
    },
    "tags": []
   },
   "outputs": [
    {
     "data": {
      "text/plain": [
       "<AxesSubplot:xlabel='feature'>"
      ]
     },
     "execution_count": 135,
     "metadata": {},
     "output_type": "execute_result"
    },
    {
     "data": {
      "image/png": "[encoded data removed]",
      "text/plain": [
       "<Figure size 1080x432 with 1 Axes>"
      ]
     },
     "metadata": {
      "needs_background": "light"
     },
     "output_type": "display_data"
    }
   ],
   "source": [
    "importances.plot(kind='bar',figsize=(15,6))"
   ]
  },
  {
   "cell_type": "markdown",
   "metadata": {
    "papermill": {
     "duration": 0.140612,
     "end_time": "2021-02-19T19:14:02.055140",
     "exception": false,
     "start_time": "2021-02-19T19:14:01.914528",
     "status": "completed"
    },
    "tags": []
   },
   "source": [
    "Title have a huge impact in Survival"
   ]
  },
  {
   "cell_type": "code",
   "execution_count": 136,
   "metadata": {
    "execution": {
     "iopub.execute_input": "2021-02-19T19:14:02.342073Z",
     "iopub.status.busy": "2021-02-19T19:14:02.341352Z",
     "iopub.status.idle": "2021-02-19T19:14:02.344512Z",
     "shell.execute_reply": "2021-02-19T19:14:02.343814Z"
    },
    "papermill": {
     "duration": 0.149836,
     "end_time": "2021-02-19T19:14:02.344662",
     "exception": false,
     "start_time": "2021-02-19T19:14:02.194826",
     "status": "completed"
    },
    "tags": []
   },
   "outputs": [],
   "source": [
    "my_submission_titanic = pd.DataFrame({'Passengerid':test['PassengerId'],\n",
    "                                     'Survived':y_preds_test})"
   ]
  },
  {
   "cell_type": "code",
   "execution_count": 137,
   "metadata": {
    "execution": {
     "iopub.execute_input": "2021-02-19T19:14:02.636520Z",
     "iopub.status.busy": "2021-02-19T19:14:02.635858Z",
     "iopub.status.idle": "2021-02-19T19:14:02.639030Z",
     "shell.execute_reply": "2021-02-19T19:14:02.639568Z"
    },
    "papermill": {
     "duration": 0.153373,
     "end_time": "2021-02-19T19:14:02.639735",
     "exception": false,
     "start_time": "2021-02-19T19:14:02.486362",
     "status": "completed"
    },
    "tags": []
   },
   "outputs": [
    {
     "data": {
      "text/html": [
       "<div>\n",
       "<style scoped>\n",
       "    .dataframe tbody tr th:only-of-type {\n",
       "        vertical-align: middle;\n",
       "    }\n",
       "\n",
       "    .dataframe tbody tr th {\n",
       "        vertical-align: top;\n",
       "    }\n",
       "\n",
       "    .dataframe thead th {\n",
       "        text-align: right;\n",
       "    }\n",
       "</style>\n",
       "<table border=\"1\" class=\"dataframe\">\n",
       "  <thead>\n",
       "    <tr style=\"text-align: right;\">\n",
       "      <th></th>\n",
       "      <th>Passengerid</th>\n",
       "      <th>Survived</th>\n",
       "    </tr>\n",
       "  </thead>\n",
       "  <tbody>\n",
       "    <tr>\n",
       "      <th>0</th>\n",
       "      <td>892</td>\n",
       "      <td>0</td>\n",
       "    </tr>\n",
       "    <tr>\n",
       "      <th>1</th>\n",
       "      <td>893</td>\n",
       "      <td>1</td>\n",
       "    </tr>\n",
       "    <tr>\n",
       "      <th>2</th>\n",
       "      <td>894</td>\n",
       "      <td>0</td>\n",
       "    </tr>\n",
       "    <tr>\n",
       "      <th>3</th>\n",
       "      <td>895</td>\n",
       "      <td>0</td>\n",
       "    </tr>\n",
       "    <tr>\n",
       "      <th>4</th>\n",
       "      <td>896</td>\n",
       "      <td>1</td>\n",
       "    </tr>\n",
       "  </tbody>\n",
       "</table>\n",
       "</div>"
      ],
      "text/plain": [
       "   Passengerid  Survived\n",
       "0          892         0\n",
       "1          893         1\n",
       "2          894         0\n",
       "3          895         0\n",
       "4          896         1"
      ]
     },
     "execution_count": 137,
     "metadata": {},
     "output_type": "execute_result"
    }
   ],
   "source": [
    "my_submission_titanic.head()"
   ]
  },
  {
   "cell_type": "code",
   "execution_count": 138,
   "metadata": {
    "execution": {
     "iopub.execute_input": "2021-02-19T19:14:02.927879Z",
     "iopub.status.busy": "2021-02-19T19:14:02.927216Z",
     "iopub.status.idle": "2021-02-19T19:14:02.937327Z",
     "shell.execute_reply": "2021-02-19T19:14:02.936708Z"
    },
    "papermill": {
     "duration": 0.156073,
     "end_time": "2021-02-19T19:14:02.937490",
     "exception": false,
     "start_time": "2021-02-19T19:14:02.781417",
     "status": "completed"
    },
    "tags": []
   },
   "outputs": [],
   "source": [
    "my_submission_titanic.to_csv(\"./Prasanna_submission.csv\", index=False)"
   ]
  }
 ],
 "metadata": {
  "kernelspec": {
   "display_name": "Python 3",
   "language": "python",
   "name": "python3"
  },
  "language_info": {
   "codemirror_mode": {
    "name": "ipython",
    "version": 3
   },
   "file_extension": ".py",
   "mimetype": "text/x-python",
   "name": "python",
   "nbconvert_exporter": "python",
   "pygments_lexer": "ipython3",
   "version": "3.8.3"
  },
  "papermill": {
   "default_parameters": {},
   "duration": 71.823596,
   "end_time": "2021-02-19T19:14:03.991670",
   "environment_variables": {},
   "exception": null,
   "input_path": "__notebook__.ipynb",
   "output_path": "__notebook__.ipynb",
   "parameters": {},
   "start_time": "2021-02-19T19:12:52.168074",
   "version": "2.2.2"
  }
 },
 "nbformat": 4,
 "nbformat_minor": 4
}
